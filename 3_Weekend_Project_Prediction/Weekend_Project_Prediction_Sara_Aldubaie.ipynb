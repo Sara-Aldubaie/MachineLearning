{
 "cells": [
  {
   "cell_type": "markdown",
   "id": "683f405c",
   "metadata": {},
   "source": [
    "<img align=\"right\" width=\"200\" height=\"200\" src=\"https://static.wikia.nocookie.net/lego/images/2/23/PPG_logo.png\"> \n",
    "\n",
    "# <span style=\"color:#EF7C8E\">Weekend Project - Heuristic Models - Machine Learning </span>\n",
    " \n",
    "\n",
    "\n",
    "## <span style=\"color:#55BB99\"> Group: Power Puff Girls</span>\n",
    "### <span style=\"color:#726060\"> Members: Wejdan Al-Ahmadi - Sara Aldubaie</span>\n",
    "<hr style=\"border:2px solid gray\"> </hr>"
   ]
  },
  {
   "cell_type": "code",
   "execution_count": 1,
   "id": "29bcebcf",
   "metadata": {},
   "outputs": [],
   "source": [
    "%%capture\n",
    "# STARTER CODE - RUN THIS CELL - DO NOT CHANGE\n",
    "!pip install category_encoders\n",
    "import random\n",
    "import seaborn as sns\n",
    "import pandas as pd\n",
    "import numpy as np\n",
    "import matplotlib.pyplot as plt\n",
    "import category_encoders as ce\n",
    "from sklearn.linear_model import LinearRegression, LogisticRegression\n",
    "from sklearn.preprocessing import StandardScaler\n",
    "from sklearn.model_selection import train_test_split\n",
    "from sklearn.pipeline import make_pipeline\n",
    "from sklearn.metrics import mean_squared_error, mean_absolute_error, accuracy_score, accuracy_score, recall_score, precision_score\n",
    "df_r = sns.load_dataset(\"tips\").dropna()\n",
    "df_c = sns.load_dataset(\"titanic\").dropna()\n",
    "model_r = LinearRegression()\n",
    "model_c = LogisticRegression()\n",
    "x_train_r, x_test_r, y_train_r, y_test_r = train_test_split(df_r.drop(\"total_bill\", axis=1), df_r[\"total_bill\"])\n",
    "x_train_c, x_test_c, y_train_c, y_test_c = train_test_split(df_c.drop([\"survived\", \"alive\", \"adult_male\"], axis=1), df_c[\"survived\"])\n",
    "pipe_r = make_pipeline(ce.OrdinalEncoder(), StandardScaler(), LinearRegression()).fit(x_train_r, y_train_r)\n",
    "pipe_c = make_pipeline(ce.OrdinalEncoder(), StandardScaler(), LogisticRegression()).fit(x_train_c, y_train_c)\n",
    "y_pred_r = pipe_r.predict(x_test_r)\n",
    "y_pred_c = pipe_c.predict(x_test_c)"
   ]
  },
  {
   "cell_type": "markdown",
   "id": "bbfb21ca",
   "metadata": {},
   "source": [
    "## <span style=\"color:#EF7C8E\">1. Classification:</span>"
   ]
  },
  {
   "cell_type": "markdown",
   "id": "7488c3a6",
   "metadata": {},
   "source": [
    "<img align=\"center\" src=\"./gifs/tt.gif\"> \n",
    "\n",
    "### <span style=\"color:#55BB99\">1. Splitting Titanic Data</span>"
   ]
  },
  {
   "cell_type": "code",
   "execution_count": 2,
   "id": "eaa10483",
   "metadata": {},
   "outputs": [],
   "source": [
    "#Split your dataset to train and test.\n",
    "\n",
    "# split the dataset \n",
    "training_c, testing_c = train_test_split(\n",
    "df_c, \n",
    "train_size=0.8,    # 80%\n",
    "test_size=0.2,     #20%\n",
    "random_state = 42  # seed \n",
    ")"
   ]
  },
  {
   "cell_type": "code",
   "execution_count": 3,
   "id": "46246f11",
   "metadata": {},
   "outputs": [
    {
     "data": {
      "text/html": [
       "<div>\n",
       "<style scoped>\n",
       "    .dataframe tbody tr th:only-of-type {\n",
       "        vertical-align: middle;\n",
       "    }\n",
       "\n",
       "    .dataframe tbody tr th {\n",
       "        vertical-align: top;\n",
       "    }\n",
       "\n",
       "    .dataframe thead th {\n",
       "        text-align: right;\n",
       "    }\n",
       "</style>\n",
       "<table border=\"1\" class=\"dataframe\">\n",
       "  <thead>\n",
       "    <tr style=\"text-align: right;\">\n",
       "      <th></th>\n",
       "      <th>survived</th>\n",
       "      <th>pclass</th>\n",
       "      <th>sex</th>\n",
       "      <th>age</th>\n",
       "      <th>sibsp</th>\n",
       "      <th>parch</th>\n",
       "      <th>fare</th>\n",
       "      <th>embarked</th>\n",
       "      <th>class</th>\n",
       "      <th>who</th>\n",
       "      <th>adult_male</th>\n",
       "      <th>deck</th>\n",
       "      <th>embark_town</th>\n",
       "      <th>alive</th>\n",
       "      <th>alone</th>\n",
       "    </tr>\n",
       "  </thead>\n",
       "  <tbody>\n",
       "    <tr>\n",
       "      <th>331</th>\n",
       "      <td>0</td>\n",
       "      <td>1</td>\n",
       "      <td>male</td>\n",
       "      <td>45.5</td>\n",
       "      <td>0</td>\n",
       "      <td>0</td>\n",
       "      <td>28.5000</td>\n",
       "      <td>S</td>\n",
       "      <td>First</td>\n",
       "      <td>man</td>\n",
       "      <td>True</td>\n",
       "      <td>C</td>\n",
       "      <td>Southampton</td>\n",
       "      <td>no</td>\n",
       "      <td>True</td>\n",
       "    </tr>\n",
       "    <tr>\n",
       "      <th>336</th>\n",
       "      <td>0</td>\n",
       "      <td>1</td>\n",
       "      <td>male</td>\n",
       "      <td>29.0</td>\n",
       "      <td>1</td>\n",
       "      <td>0</td>\n",
       "      <td>66.6000</td>\n",
       "      <td>S</td>\n",
       "      <td>First</td>\n",
       "      <td>man</td>\n",
       "      <td>True</td>\n",
       "      <td>C</td>\n",
       "      <td>Southampton</td>\n",
       "      <td>no</td>\n",
       "      <td>False</td>\n",
       "    </tr>\n",
       "    <tr>\n",
       "      <th>193</th>\n",
       "      <td>1</td>\n",
       "      <td>2</td>\n",
       "      <td>male</td>\n",
       "      <td>3.0</td>\n",
       "      <td>1</td>\n",
       "      <td>1</td>\n",
       "      <td>26.0000</td>\n",
       "      <td>S</td>\n",
       "      <td>Second</td>\n",
       "      <td>child</td>\n",
       "      <td>False</td>\n",
       "      <td>F</td>\n",
       "      <td>Southampton</td>\n",
       "      <td>yes</td>\n",
       "      <td>False</td>\n",
       "    </tr>\n",
       "    <tr>\n",
       "      <th>75</th>\n",
       "      <td>0</td>\n",
       "      <td>3</td>\n",
       "      <td>male</td>\n",
       "      <td>25.0</td>\n",
       "      <td>0</td>\n",
       "      <td>0</td>\n",
       "      <td>7.6500</td>\n",
       "      <td>S</td>\n",
       "      <td>Third</td>\n",
       "      <td>man</td>\n",
       "      <td>True</td>\n",
       "      <td>F</td>\n",
       "      <td>Southampton</td>\n",
       "      <td>no</td>\n",
       "      <td>True</td>\n",
       "    </tr>\n",
       "    <tr>\n",
       "      <th>248</th>\n",
       "      <td>1</td>\n",
       "      <td>1</td>\n",
       "      <td>male</td>\n",
       "      <td>37.0</td>\n",
       "      <td>1</td>\n",
       "      <td>1</td>\n",
       "      <td>52.5542</td>\n",
       "      <td>S</td>\n",
       "      <td>First</td>\n",
       "      <td>man</td>\n",
       "      <td>True</td>\n",
       "      <td>D</td>\n",
       "      <td>Southampton</td>\n",
       "      <td>yes</td>\n",
       "      <td>False</td>\n",
       "    </tr>\n",
       "  </tbody>\n",
       "</table>\n",
       "</div>"
      ],
      "text/plain": [
       "     survived  pclass   sex   age  sibsp  parch     fare embarked   class  \\\n",
       "331         0       1  male  45.5      0      0  28.5000        S   First   \n",
       "336         0       1  male  29.0      1      0  66.6000        S   First   \n",
       "193         1       2  male   3.0      1      1  26.0000        S  Second   \n",
       "75          0       3  male  25.0      0      0   7.6500        S   Third   \n",
       "248         1       1  male  37.0      1      1  52.5542        S   First   \n",
       "\n",
       "       who  adult_male deck  embark_town alive  alone  \n",
       "331    man        True    C  Southampton    no   True  \n",
       "336    man        True    C  Southampton    no  False  \n",
       "193  child       False    F  Southampton   yes  False  \n",
       "75     man        True    F  Southampton    no   True  \n",
       "248    man        True    D  Southampton   yes  False  "
      ]
     },
     "execution_count": 3,
     "metadata": {},
     "output_type": "execute_result"
    }
   ],
   "source": [
    "training_c.head()"
   ]
  },
  {
   "cell_type": "code",
   "execution_count": 4,
   "id": "3487db1f",
   "metadata": {},
   "outputs": [
    {
     "data": {
      "text/html": [
       "<div>\n",
       "<style scoped>\n",
       "    .dataframe tbody tr th:only-of-type {\n",
       "        vertical-align: middle;\n",
       "    }\n",
       "\n",
       "    .dataframe tbody tr th {\n",
       "        vertical-align: top;\n",
       "    }\n",
       "\n",
       "    .dataframe thead th {\n",
       "        text-align: right;\n",
       "    }\n",
       "</style>\n",
       "<table border=\"1\" class=\"dataframe\">\n",
       "  <thead>\n",
       "    <tr style=\"text-align: right;\">\n",
       "      <th></th>\n",
       "      <th>survived</th>\n",
       "      <th>pclass</th>\n",
       "      <th>age</th>\n",
       "      <th>sibsp</th>\n",
       "      <th>parch</th>\n",
       "      <th>fare</th>\n",
       "    </tr>\n",
       "  </thead>\n",
       "  <tbody>\n",
       "    <tr>\n",
       "      <th>count</th>\n",
       "      <td>145.000000</td>\n",
       "      <td>145.000000</td>\n",
       "      <td>145.000000</td>\n",
       "      <td>145.000000</td>\n",
       "      <td>145.000000</td>\n",
       "      <td>145.000000</td>\n",
       "    </tr>\n",
       "    <tr>\n",
       "      <th>mean</th>\n",
       "      <td>0.682759</td>\n",
       "      <td>1.213793</td>\n",
       "      <td>35.444828</td>\n",
       "      <td>0.475862</td>\n",
       "      <td>0.468966</td>\n",
       "      <td>78.729943</td>\n",
       "    </tr>\n",
       "    <tr>\n",
       "      <th>std</th>\n",
       "      <td>0.467015</td>\n",
       "      <td>0.542451</td>\n",
       "      <td>15.101292</td>\n",
       "      <td>0.657043</td>\n",
       "      <td>0.764264</td>\n",
       "      <td>80.386214</td>\n",
       "    </tr>\n",
       "    <tr>\n",
       "      <th>min</th>\n",
       "      <td>0.000000</td>\n",
       "      <td>1.000000</td>\n",
       "      <td>2.000000</td>\n",
       "      <td>0.000000</td>\n",
       "      <td>0.000000</td>\n",
       "      <td>0.000000</td>\n",
       "    </tr>\n",
       "    <tr>\n",
       "      <th>25%</th>\n",
       "      <td>0.000000</td>\n",
       "      <td>1.000000</td>\n",
       "      <td>25.000000</td>\n",
       "      <td>0.000000</td>\n",
       "      <td>0.000000</td>\n",
       "      <td>29.700000</td>\n",
       "    </tr>\n",
       "    <tr>\n",
       "      <th>50%</th>\n",
       "      <td>1.000000</td>\n",
       "      <td>1.000000</td>\n",
       "      <td>35.000000</td>\n",
       "      <td>0.000000</td>\n",
       "      <td>0.000000</td>\n",
       "      <td>55.900000</td>\n",
       "    </tr>\n",
       "    <tr>\n",
       "      <th>75%</th>\n",
       "      <td>1.000000</td>\n",
       "      <td>1.000000</td>\n",
       "      <td>47.000000</td>\n",
       "      <td>1.000000</td>\n",
       "      <td>1.000000</td>\n",
       "      <td>90.000000</td>\n",
       "    </tr>\n",
       "    <tr>\n",
       "      <th>max</th>\n",
       "      <td>1.000000</td>\n",
       "      <td>3.000000</td>\n",
       "      <td>80.000000</td>\n",
       "      <td>3.000000</td>\n",
       "      <td>4.000000</td>\n",
       "      <td>512.329200</td>\n",
       "    </tr>\n",
       "  </tbody>\n",
       "</table>\n",
       "</div>"
      ],
      "text/plain": [
       "         survived      pclass         age       sibsp       parch        fare\n",
       "count  145.000000  145.000000  145.000000  145.000000  145.000000  145.000000\n",
       "mean     0.682759    1.213793   35.444828    0.475862    0.468966   78.729943\n",
       "std      0.467015    0.542451   15.101292    0.657043    0.764264   80.386214\n",
       "min      0.000000    1.000000    2.000000    0.000000    0.000000    0.000000\n",
       "25%      0.000000    1.000000   25.000000    0.000000    0.000000   29.700000\n",
       "50%      1.000000    1.000000   35.000000    0.000000    0.000000   55.900000\n",
       "75%      1.000000    1.000000   47.000000    1.000000    1.000000   90.000000\n",
       "max      1.000000    3.000000   80.000000    3.000000    4.000000  512.329200"
      ]
     },
     "execution_count": 4,
     "metadata": {},
     "output_type": "execute_result"
    }
   ],
   "source": [
    "training_c.describe()"
   ]
  },
  {
   "cell_type": "code",
   "execution_count": 5,
   "id": "e91af3a1",
   "metadata": {},
   "outputs": [
    {
     "data": {
      "text/html": [
       "<div>\n",
       "<style scoped>\n",
       "    .dataframe tbody tr th:only-of-type {\n",
       "        vertical-align: middle;\n",
       "    }\n",
       "\n",
       "    .dataframe tbody tr th {\n",
       "        vertical-align: top;\n",
       "    }\n",
       "\n",
       "    .dataframe thead th {\n",
       "        text-align: right;\n",
       "    }\n",
       "</style>\n",
       "<table border=\"1\" class=\"dataframe\">\n",
       "  <thead>\n",
       "    <tr style=\"text-align: right;\">\n",
       "      <th></th>\n",
       "      <th>sex</th>\n",
       "      <th>embarked</th>\n",
       "      <th>who</th>\n",
       "      <th>embark_town</th>\n",
       "      <th>alive</th>\n",
       "    </tr>\n",
       "  </thead>\n",
       "  <tbody>\n",
       "    <tr>\n",
       "      <th>count</th>\n",
       "      <td>145</td>\n",
       "      <td>145</td>\n",
       "      <td>145</td>\n",
       "      <td>145</td>\n",
       "      <td>145</td>\n",
       "    </tr>\n",
       "    <tr>\n",
       "      <th>unique</th>\n",
       "      <td>2</td>\n",
       "      <td>3</td>\n",
       "      <td>3</td>\n",
       "      <td>3</td>\n",
       "      <td>2</td>\n",
       "    </tr>\n",
       "    <tr>\n",
       "      <th>top</th>\n",
       "      <td>female</td>\n",
       "      <td>S</td>\n",
       "      <td>woman</td>\n",
       "      <td>Southampton</td>\n",
       "      <td>yes</td>\n",
       "    </tr>\n",
       "    <tr>\n",
       "      <th>freq</th>\n",
       "      <td>74</td>\n",
       "      <td>94</td>\n",
       "      <td>68</td>\n",
       "      <td>94</td>\n",
       "      <td>99</td>\n",
       "    </tr>\n",
       "  </tbody>\n",
       "</table>\n",
       "</div>"
      ],
      "text/plain": [
       "           sex embarked    who  embark_town alive\n",
       "count      145      145    145          145   145\n",
       "unique       2        3      3            3     2\n",
       "top     female        S  woman  Southampton   yes\n",
       "freq        74       94     68           94    99"
      ]
     },
     "execution_count": 5,
     "metadata": {},
     "output_type": "execute_result"
    }
   ],
   "source": [
    "training_c.describe(include=object)"
   ]
  },
  {
   "cell_type": "markdown",
   "id": "fcdebbc4",
   "metadata": {},
   "source": [
    "### <span style=\"color:#55BB99\">2. Build Heuristic Classification Model</span>"
   ]
  },
  {
   "cell_type": "markdown",
   "id": "b2c659ee",
   "metadata": {},
   "source": [
    "<img align=\"center\" src=\"./gifs/test.gif\"> \n",
    "\n",
    "#### <span style=\"color:#726060\"> EDA on Titanic training dataset:</span>"
   ]
  },
  {
   "cell_type": "code",
   "execution_count": 6,
   "id": "4aba958b",
   "metadata": {},
   "outputs": [
    {
     "data": {
      "image/png": "[encoded data removed]",
      "text/plain": [
       "<Figure size 432x288 with 1 Axes>"
      ]
     },
     "metadata": {
      "needs_background": "light"
     },
     "output_type": "display_data"
    }
   ],
   "source": [
    "index = training_c['survived'].value_counts().index\n",
    "values = training_c['survived'].value_counts().values\n",
    "\n",
    "g4 = sns.barplot(x= index,y=values, data=training_c)\n",
    "\n",
    "plt.title(\"Number of Survived Peopel\")\n",
    "plt.ylabel('Number of Peopel')\n",
    "\n",
    "ax=g4\n",
    "\n",
    "for p in ax.patches:\n",
    "    ax.annotate(\"%.2f\" % p.get_height(), (p.get_x() + p.get_width() / 2., p.get_height()),\n",
    "                ha='center', va='center', fontsize=11,  xytext=(0, 20),\n",
    "                textcoords='offset points')\n",
    "_ = g4.set_ylim(0,120) #To make space for the annotations\n",
    "\n",
    "plt.show()\n",
    "\n",
    "\n",
    "# number of servived peopel is highr."
   ]
  },
  {
   "cell_type": "code",
   "execution_count": 7,
   "id": "f04ca982",
   "metadata": {},
   "outputs": [
    {
     "data": {
      "image/png": "[encoded data removed]",
      "text/plain": [
       "<Figure size 432x288 with 1 Axes>"
      ]
     },
     "metadata": {
      "needs_background": "light"
     },
     "output_type": "display_data"
    }
   ],
   "source": [
    "sur_y = training_c[training_c['survived'] == 1]\n",
    "\n",
    "per = (sur_y['who'].value_counts()/training_c['who'].value_counts())*100\n",
    "g3 = per.plot(kind = 'bar', color = ['#1F77B4', '#FF7F0E', '#2CA02C'])\n",
    "\n",
    "plt.ylabel('survived Ratio')\n",
    "plt.title('percentage of survived woman, man, and child (%)\\n', size = 13)\n",
    "\n",
    "ax=g3\n",
    "#annotate axis = seaborn axis\n",
    "for p in ax.patches:\n",
    "    ax.annotate(\"%.2f\" % p.get_height(), (p.get_x() + p.get_width() / 2., p.get_height()),\n",
    "                ha='center', va='center', fontsize=11,  xytext=(0, 20),\n",
    "                textcoords='offset points')\n",
    "_ = g3.set_ylim(0,120) #To make space for the annotations\n",
    "\n",
    "plt.show()\n",
    "\n",
    "# the percentage of survived woman and child is higher than man's"
   ]
  },
  {
   "cell_type": "code",
   "execution_count": 8,
   "id": "3bca27f2",
   "metadata": {},
   "outputs": [
    {
     "data": {
      "text/plain": [
       "<AxesSubplot:xlabel='age', ylabel='survived'>"
      ]
     },
     "execution_count": 8,
     "metadata": {},
     "output_type": "execute_result"
    },
    {
     "data": {
      "image/png": "[encoded data removed]",
      "text/plain": [
       "<Figure size 432x288 with 1 Axes>"
      ]
     },
     "metadata": {
      "needs_background": "light"
     },
     "output_type": "display_data"
    }
   ],
   "source": [
    "sns.scatterplot(data=training_c, x=\"age\", y=\"survived\", hue=\"who\")\n",
    "\n",
    "# only one child didn't survive \n",
    "# only two women's didn't survive \n",
    "# the man who did survived have age range between 25 and 45"
   ]
  },
  {
   "cell_type": "code",
   "execution_count": 9,
   "id": "cc7ad745",
   "metadata": {},
   "outputs": [
    {
     "data": {
      "text/plain": [
       "<AxesSubplot:xlabel='age', ylabel='survived'>"
      ]
     },
     "execution_count": 9,
     "metadata": {},
     "output_type": "execute_result"
    },
    {
     "data": {
      "image/png": "[encoded data removed]",
      "text/plain": [
       "<Figure size 432x288 with 1 Axes>"
      ]
     },
     "metadata": {
      "needs_background": "light"
     },
     "output_type": "display_data"
    }
   ],
   "source": [
    "male = training_c[training_c['who'] == 'man']\n",
    "\n",
    "sns.scatterplot(data=male, x=\"age\", y=\"survived\",)\n",
    "\n",
    "# age range between 25 to 60 "
   ]
  },
  {
   "cell_type": "code",
   "execution_count": 10,
   "id": "b0bd74e2",
   "metadata": {},
   "outputs": [
    {
     "data": {
      "image/png": "[encoded data removed]",
      "text/plain": [
       "<Figure size 432x288 with 1 Axes>"
      ]
     },
     "metadata": {
      "needs_background": "light"
     },
     "output_type": "display_data"
    }
   ],
   "source": [
    "# filtering the data\n",
    "sur_y = male[male['survived'] == 1]\n",
    "sur_n = male[male['survived'] == 0]\n",
    "\n",
    "\n",
    "sns.kdeplot(data=sur_y['pclass'], label=\"Yes\", shade=True)\n",
    "sns.kdeplot(data=sur_n['pclass'], label=\"No\", shade=True)\n",
    "\n",
    "plt.title('Distribution of Survival Based on Ticket Class')\n",
    "plt.legend(title = 'survived')\n",
    "plt.show()\n",
    "\n",
    "# men with ticket class 1 have higher survival chance than other classes "
   ]
  },
  {
   "cell_type": "code",
   "execution_count": 11,
   "id": "fba8832e",
   "metadata": {},
   "outputs": [
    {
     "data": {
      "text/plain": [
       "<AxesSubplot:xlabel='parch', ylabel='Count'>"
      ]
     },
     "execution_count": 11,
     "metadata": {},
     "output_type": "execute_result"
    },
    {
     "data": {
      "image/png": "[encoded data removed]",
      "text/plain": [
       "<Figure size 432x288 with 1 Axes>"
      ]
     },
     "metadata": {
      "needs_background": "light"
     },
     "output_type": "display_data"
    }
   ],
   "source": [
    "# man with a child \n",
    "sns.histplot(\n",
    "    male,\n",
    "    x=\"parch\",\n",
    "    hue=\"survived\",\n",
    "    multiple=\"stack\",\n",
    "    alpha=.8\n",
    ")\n",
    "\n",
    "# Men with no children have a higher chance to survive \n",
    "# the more children the lower chance to survive "
   ]
  },
  {
   "cell_type": "code",
   "execution_count": 12,
   "id": "9a081b5e",
   "metadata": {},
   "outputs": [
    {
     "data": {
      "image/png": "[encoded data removed]",
      "text/plain": [
       "<Figure size 2880x504 with 1 Axes>"
      ]
     },
     "metadata": {
      "needs_background": "light"
     },
     "output_type": "display_data"
    }
   ],
   "source": [
    "sur_y = male[male['survived'] == 1]\n",
    "\n",
    "fare_all = male['fare'].value_counts()\n",
    "\n",
    "fare_sur = sur_y['fare'].value_counts()\n",
    "# empty list to store data in it \n",
    "fare = []\n",
    "percentage_fare = []\n",
    "\n",
    "for x in fare_all.index: # x = age number\n",
    "    if not x in fare_sur: # if there is no attrition than its 0%\n",
    "        fare.append(x) # age \n",
    "        percentage_fare.append(0) #0%\n",
    "    else:\n",
    "        y = (fare_sur[x]/fare_all[x])*100 # find percentage\n",
    "        fare.append(x) # age \n",
    "        percentage_fare.append(y) # percentage\n",
    "    \n",
    "plt.figure(figsize=(40,7)) \n",
    "sns.barplot(x= fare , \n",
    "            y = percentage_fare)\n",
    "plt.ylabel('Survived Percentage by fare', fontsize = 20)\n",
    "plt.xticks(rotation = 70, fontsize = 20)\n",
    "plt.yticks(fontsize = 20)\n",
    "plt.show()\n",
    "\n",
    "# ticket price is not a factor for survival for men "
   ]
  },
  {
   "cell_type": "code",
   "execution_count": 13,
   "id": "4c8a1024",
   "metadata": {
    "scrolled": true
   },
   "outputs": [
    {
     "data": {
      "image/png": "[encoded data removed]",
      "text/plain": [
       "<Figure size 432x288 with 1 Axes>"
      ]
     },
     "metadata": {
      "needs_background": "light"
     },
     "output_type": "display_data"
    }
   ],
   "source": [
    "cabin_all = male['embark_town'].value_counts()\n",
    "cabin_sur = sur_y['embark_town'].value_counts()\n",
    "# empty list to store data in it \n",
    "cabin = []\n",
    "percentage_cabin = []\n",
    "\n",
    "for x in cabin_all.index: # x = embark_town\n",
    "    if not x in cabin_sur: # if there is no survival than its 0%\n",
    "        cabin.append(x) # embark_town \n",
    "        percentage_cabin.append(0) #0%\n",
    "    else:\n",
    "        y = (cabin_sur[x]/cabin_all[x])*100 # find percentage\n",
    "        cabin.append(x) # embark_town \n",
    "        percentage_cabin.append(y) # percentage\n",
    "    \n",
    "#plt.figure(figsize=(40,7)) \n",
    "g = sns.barplot(x= cabin , \n",
    "            y = percentage_cabin)\n",
    "plt.ylabel('Survived Percentage by Embark Town')\n",
    "\n",
    "ax=g\n",
    "#annotate axis = seaborn axis\n",
    "for p in ax.patches:\n",
    "    ax.annotate(\"%.2f\" % p.get_height(), (p.get_x() + p.get_width() / 2., p.get_height()),\n",
    "                ha='center', va='center', fontsize=11,  xytext=(0, 20),\n",
    "                textcoords='offset points')\n",
    "_ = g.set_ylim(0,100) #To make space for the annotations\n",
    "\n",
    "plt.show()\n",
    "\n",
    "# Men that embark from town Cherbourg have a higher chance to survive \n",
    "# There is no survival from town Queenstown since it was only one man and he didn't survive "
   ]
  },
  {
   "cell_type": "code",
   "execution_count": 14,
   "id": "d43074b4",
   "metadata": {},
   "outputs": [
    {
     "data": {
      "text/plain": [
       "Southampton    44\n",
       "Cherbourg      22\n",
       "Queenstown      1\n",
       "Name: embark_town, dtype: int64"
      ]
     },
     "execution_count": 14,
     "metadata": {},
     "output_type": "execute_result"
    }
   ],
   "source": [
    "male['embark_town'].value_counts()"
   ]
  },
  {
   "cell_type": "markdown",
   "id": "e9688ac7",
   "metadata": {},
   "source": [
    "<img align=\"center\" src=\"./gifs/try2.gif\"> \n",
    "\n",
    "#### <span style=\"color:#726060\"> Building the model:</span>"
   ]
  },
  {
   "attachments": {},
   "cell_type": "markdown",
   "id": "e322309e",
   "metadata": {},
   "source": [
    "**Attempt 1:**\n",
    "\n",
    "**Psuedo Code:**\n",
    "\n",
    "\n",
    "\n",
    "<span style=\"color:#55BB99\">**IF**</span> the person was a woman or child\n",
    "    \n",
    "    They will survive\n",
    "\n",
    "\n",
    "<span style=\"color:#55BB99\">**Else If**</span> the person was a man\n",
    "\n",
    "    IF:\n",
    "    - His age range between 25 - 60 \n",
    "    - With number of children less than 2 \n",
    "    - Embark Town is Cherbourg\n",
    "     Else:\n",
    "          NOT survive \n"
   ]
  },
  {
   "cell_type": "code",
   "execution_count": 15,
   "id": "2e45361e",
   "metadata": {},
   "outputs": [
    {
     "name": "stdout",
     "output_type": "stream",
     "text": [
      "Recall Score:  0.8686868686868687\n",
      "Precision Score:  0.8865979381443299\n",
      "Accuracy Score:  0.8344827586206897\n"
     ]
    }
   ],
   "source": [
    "# Create function to perform our heuristic\n",
    "\n",
    "def heuristic_survived(df):\n",
    "    \n",
    "    preds_survived = []\n",
    "    for row in range(len(df)):\n",
    "            # if  women or child \n",
    "            if (df.iloc[row][\"who\"] == 'child' or df.iloc[row][\"who\"] == 'woman' ):\n",
    "                preds_survived.append(1)\n",
    "            # if man \n",
    "            elif df.iloc[row][\"who\"] == 'man':\n",
    "                if (25 <= df.iloc[row][\"age\"] <= 60) and  (df.iloc[row][\"parch\"] < 2) and  (df.iloc[row][\"embark_town\"] == 'Cherbourg') :\n",
    "                    preds_survived.append(1)\n",
    "                else:\n",
    "                    preds_survived.append(0)\n",
    "            \n",
    "    return preds_survived\n",
    "\n",
    "import warnings\n",
    "warnings.filterwarnings('ignore')\n",
    "\n",
    "training_c[\"preds_survived\"] = heuristic_survived(training_c)\n",
    "\n",
    "\n",
    "print(\"Recall Score: \",recall_score(training_c['survived'], training_c['preds_survived']))\n",
    "print(\"Precision Score: \",precision_score(training_c['survived'], training_c['preds_survived']))\n",
    "print(\"Accuracy Score: \",accuracy_score(training_c['survived'], training_c['preds_survived']))\n"
   ]
  },
  {
   "cell_type": "markdown",
   "id": "92e0171a",
   "metadata": {},
   "source": [
    "**Attempt 2:**\n",
    "\n",
    "**Psuedo Code:**\n",
    "\n",
    "\n",
    "\n",
    "<span style=\"color:#55BB99\">**IF**</span> the person was a woman or child\n",
    "    \n",
    "    They will survive\n",
    "\n",
    "\n",
    "<span style=\"color:#55BB99\">**Else If**</span> the person was a man\n",
    "\n",
    "    IF:\n",
    "    - His age range between 25 - 60 \n",
    "    - With number of children less than 2 \n",
    "     Else:\n",
    "          NOT survive "
   ]
  },
  {
   "cell_type": "code",
   "execution_count": 16,
   "id": "c64fff29",
   "metadata": {},
   "outputs": [
    {
     "name": "stdout",
     "output_type": "stream",
     "text": [
      "Recall Score:  0.9797979797979798\n",
      "Precision Score:  0.7461538461538462\n",
      "Accuracy Score:  0.7586206896551724\n"
     ]
    }
   ],
   "source": [
    "# Create function to perform our heuristic\n",
    "\n",
    "def heuristic_survived(df):\n",
    "    \n",
    "    preds_survived = []\n",
    "    for row in range(len(df)):\n",
    "            # if  women or child \n",
    "            if (df.iloc[row][\"who\"] == 'child' or df.iloc[row][\"who\"] == 'woman' ):\n",
    "                preds_survived.append(1)\n",
    "            # if man \n",
    "            elif df.iloc[row][\"who\"] == 'man':\n",
    "                if (25 <= df.iloc[row][\"age\"] <= 60) and  (df.iloc[row][\"parch\"] < 2):\n",
    "                    preds_survived.append(1)\n",
    "                else:\n",
    "                    preds_survived.append(0)\n",
    "            \n",
    "    return preds_survived\n",
    "\n",
    "import warnings\n",
    "warnings.filterwarnings('ignore')\n",
    "\n",
    "training_c[\"preds_survived\"] = heuristic_survived(training_c)\n",
    "\n",
    "\n",
    "print(\"Recall Score: \",recall_score(training_c['survived'], training_c['preds_survived']))\n",
    "print(\"Precision Score: \",precision_score(training_c['survived'], training_c['preds_survived']))\n",
    "print(\"Accuracy Score: \",accuracy_score(training_c['survived'], training_c['preds_survived']))"
   ]
  },
  {
   "cell_type": "markdown",
   "id": "91c00918",
   "metadata": {},
   "source": [
    "**Attempt 3:**\n",
    "\n",
    "**Psuedo Code:**\n",
    "\n",
    "\n",
    "\n",
    "<span style=\"color:#55BB99\">**IF**</span> the person was a woman or child\n",
    "    \n",
    "    They will survive\n",
    "\n",
    "\n",
    "<span style=\"color:#55BB99\">**Else If**</span> the person was a man\n",
    "\n",
    "    IF:\n",
    "    - His age range between 25 - 60 \n",
    "     Else:\n",
    "          NOT survive "
   ]
  },
  {
   "cell_type": "code",
   "execution_count": 17,
   "id": "c26299ed",
   "metadata": {},
   "outputs": [
    {
     "name": "stdout",
     "output_type": "stream",
     "text": [
      "Recall Score:  0.98989898989899\n",
      "Precision Score:  0.7313432835820896\n",
      "Accuracy Score:  0.7448275862068966\n"
     ]
    }
   ],
   "source": [
    "# Create function to perform our heuristic\n",
    "\n",
    "def heuristic_survived(df):\n",
    "    \n",
    "    preds_survived = []\n",
    "    for row in range(len(df)):\n",
    "            # if  women or child \n",
    "            if (df.iloc[row][\"who\"] == 'child' or df.iloc[row][\"who\"] == 'woman' ):\n",
    "                preds_survived.append(1)\n",
    "            # if man \n",
    "            elif df.iloc[row][\"who\"] == 'man':\n",
    "                if (25 <= df.iloc[row][\"age\"] <= 60):\n",
    "                    preds_survived.append(1)\n",
    "                else:\n",
    "                    preds_survived.append(0)\n",
    "            \n",
    "    return preds_survived\n",
    "\n",
    "\n",
    "training_c[\"preds_survived\"] = heuristic_survived(training_c)\n",
    "\n",
    "\n",
    "print(\"Recall Score: \",recall_score(training_c['survived'], training_c['preds_survived']))\n",
    "print(\"Precision Score: \",precision_score(training_c['survived'], training_c['preds_survived']))\n",
    "print(\"Accuracy Score: \",accuracy_score(training_c['survived'], training_c['preds_survived']))"
   ]
  },
  {
   "cell_type": "markdown",
   "id": "79ffb1b5",
   "metadata": {},
   "source": [
    "**Attempt 4:**\n",
    "\n",
    "**Psuedo Code:**\n",
    "\n",
    "\n",
    "\n",
    "<span style=\"color:#55BB99\">**IF**</span> the person was a woman or child\n",
    "    \n",
    "    They will survive\n",
    "\n",
    "\n",
    "<span style=\"color:#55BB99\">**Else If**</span> the person was a man\n",
    "\n",
    "    IF:\n",
    "    - With number of children less than 2 \n",
    "     Else:\n",
    "          NOT survive "
   ]
  },
  {
   "cell_type": "code",
   "execution_count": 18,
   "id": "a8527888",
   "metadata": {},
   "outputs": [
    {
     "name": "stdout",
     "output_type": "stream",
     "text": [
      "Recall Score:  0.98989898989899\n",
      "Precision Score:  0.7050359712230215\n",
      "Accuracy Score:  0.7103448275862069\n"
     ]
    }
   ],
   "source": [
    "# Create function to perform our heuristic\n",
    "\n",
    "def heuristic_survived(df):\n",
    "    \n",
    "    preds_survived = []\n",
    "    for row in range(len(df)):\n",
    "            # if  women or child \n",
    "            if (df.iloc[row][\"who\"] == 'child' or df.iloc[row][\"who\"] == 'woman' ):\n",
    "                preds_survived.append(1)\n",
    "            # if man \n",
    "            elif df.iloc[row][\"who\"] == 'man':\n",
    "                if (df.iloc[row][\"parch\"] < 2):\n",
    "                    preds_survived.append(1)\n",
    "                else:\n",
    "                    preds_survived.append(0)\n",
    "            \n",
    "    return preds_survived\n",
    "\n",
    "training_c[\"preds_survived\"] = heuristic_survived(training_c)\n",
    "\n",
    "\n",
    "print(\"Recall Score: \",recall_score(training_c['survived'], training_c['preds_survived']))\n",
    "print(\"Precision Score: \",precision_score(training_c['survived'], training_c['preds_survived']))\n",
    "print(\"Accuracy Score: \",accuracy_score(training_c['survived'], training_c['preds_survived']))"
   ]
  },
  {
   "cell_type": "markdown",
   "id": "62dd316a",
   "metadata": {},
   "source": [
    "| Attempt | Performance Measures                                                                                                           | Conditions                                                                                                                                                                                                                             |\n",
    "|:-------:|:------------------------------------------------------------------------------------------------------------------------------:|:--------------------------------------------------------------------------------------------------------------------------------------------------------------------------------------------------------------------------------------:|\n",
    "| 1       | Recall Score:  <br>0.8686868686868687 <br>Precision Score:  <br>0.8865979381443299 <br>Accuracy Score:  <br>0.8344827586206897 | IF the person was a woman or child: <br>They will survive  <br>Else if the person was a man      and - His age range between 25 - 60      - With number of children less than 2      - Embark Town is Cherbourg: <br> He will survive  |\n",
    "| 2       | Recall Score:  <br>0.9797979797979798 <br>Precision Score:  <br>0.7461538461538462 <br>Accuracy Score:  <br>0.7586206896551724 | IF the person was a woman or child: <br>They will survive  <br>Else if the person was a man      and - His age range between 25 - 60      - With number of children less than 2: <br> He will survive                                  |\n",
    "| 3       | Recall Score:  <br>0.9292929292929293 <br>Precision Score:  <br>0.7931034482758621 <br>Accuracy Score:  <br>0.7862068965517242 | IF the person was a woman or child: <br>They will survive  <br>Else if the person was a man      and - His age range between 25 - 60: <br> He will survive                                                                             |\n",
    "| 4       | Recall Score:  <br>0.98989898989899 <br>Precision Score:  <br>0.7050359712230215 <br>Accuracy Score:  <br>0.7103448275862069   | IF the person was a woman or child: <br>They will survive  <br>Else if the person was a man      and - With number of children less than 2: <br> He will survive                                                                       |\n"
   ]
  },
  {
   "cell_type": "markdown",
   "id": "ee037992",
   "metadata": {},
   "source": [
    "### <span style=\"color:#55BB99\">3. Testing Classification Model using Test split</span>"
   ]
  },
  {
   "cell_type": "code",
   "execution_count": 19,
   "id": "c8360bbb",
   "metadata": {},
   "outputs": [
    {
     "name": "stdout",
     "output_type": "stream",
     "text": [
      "Recall Score:  0.6666666666666666\n",
      "Precision Score:  0.8\n",
      "Accuracy Score:  0.6756756756756757\n"
     ]
    }
   ],
   "source": [
    "def heuristic_survived(df):\n",
    "    \n",
    "    preds_survived = []\n",
    "    for row in range(len(df)):\n",
    "            # if  women or child \n",
    "            if (df.iloc[row][\"who\"] == 'child' or df.iloc[row][\"who\"] == 'woman' ):\n",
    "                preds_survived.append(1)\n",
    "            # if man \n",
    "            elif df.iloc[row][\"who\"] == 'man':\n",
    "                if (25 <= df.iloc[row][\"age\"] <= 60) and  (df.iloc[row][\"parch\"] < 2) and  (df.iloc[row][\"embark_town\"] == 'Cherbourg') :\n",
    "                    preds_survived.append(1)\n",
    "                else:\n",
    "                    preds_survived.append(0)\n",
    "            \n",
    "    return preds_survived\n",
    "\n",
    "\n",
    "testing_c[\"preds_survived\"] = heuristic_survived(testing_c)\n",
    "\n",
    "print(\"Recall Score: \",recall_score(testing_c['survived'], testing_c['preds_survived']))\n",
    "print(\"Precision Score: \",precision_score(testing_c['survived'], testing_c['preds_survived']))\n",
    "print(\"Accuracy Score: \",accuracy_score(testing_c['survived'], testing_c['preds_survived']))\n"
   ]
  },
  {
   "cell_type": "markdown",
   "id": "2b6a2d1f",
   "metadata": {},
   "source": [
    "### <span style=\"color:#55BB99\">4. Baseline Model for Classification</span>"
   ]
  },
  {
   "cell_type": "code",
   "execution_count": 20,
   "id": "12981a0f",
   "metadata": {},
   "outputs": [
    {
     "name": "stdout",
     "output_type": "stream",
     "text": [
      "Recall Score:  1.0\n",
      "Precision Score:  0.6486486486486487\n",
      "Accuracy Score:  0.6486486486486487\n"
     ]
    }
   ],
   "source": [
    "def survived_mode(df):\n",
    "    \n",
    "    survived_mode = []\n",
    "    for row in range(len(df)):\n",
    "                survived_mode.append(df[\"survived\"].mode()[0])\n",
    "    return survived_mode\n",
    "\n",
    "testing_c[\"survived_mode\"] = survived_mode(testing_c)\n",
    "\n",
    "\n",
    "print(\"Recall Score: \",recall_score(testing_c['survived'], testing_c['survived_mode']))\n",
    "print(\"Precision Score: \",precision_score(testing_c['survived'], testing_c['survived_mode']))\n",
    "print(\"Accuracy Score: \",accuracy_score(testing_c['survived'], testing_c['survived_mode']))"
   ]
  },
  {
   "cell_type": "markdown",
   "id": "ae55d5f8",
   "metadata": {},
   "source": [
    "### <span style=\"color:#55BB99\">5. Our Classification HM VS. Logistic Regression</span>"
   ]
  },
  {
   "cell_type": "code",
   "execution_count": 21,
   "id": "1a58022d",
   "metadata": {},
   "outputs": [
    {
     "name": "stdout",
     "output_type": "stream",
     "text": [
      "Scikit's Logistic Regression Score results:\n",
      "Recall Score:  0.8\n",
      "Precision Score:  0.7272727272727273\n",
      "Accuracy Score:  0.6739130434782609\n",
      "\n",
      "Power Puff Girl's Classification Score results:\n",
      "Recall Score:  0.6666666666666666\n",
      "Precision Score:  0.8\n",
      "Accuracy Score:  0.6756756756756757\n"
     ]
    }
   ],
   "source": [
    "print(\"Scikit's Logistic Regression Score results:\")\n",
    "print(\"Recall Score: \",recall_score(y_test_c, y_pred_c))\n",
    "print(\"Precision Score: \",precision_score(y_test_c, y_pred_c))\n",
    "print(\"Accuracy Score: \",accuracy_score(y_test_c, y_pred_c))\n",
    "\n",
    "print(\"\\nPower Puff Girl's Classification Score results:\")\n",
    "\n",
    "\n",
    "print(\"Recall Score: \",recall_score(testing_c['survived'], testing_c['preds_survived']))\n",
    "print(\"Precision Score: \",precision_score(testing_c['survived'], testing_c['preds_survived']))\n",
    "print(\"Accuracy Score: \",accuracy_score(testing_c['survived'], testing_c['preds_survived']))"
   ]
  },
  {
   "cell_type": "markdown",
   "id": "d4ff4aad",
   "metadata": {},
   "source": [
    "## <span style=\"color:#EF7C8E\">2. Regression:</span>"
   ]
  },
  {
   "cell_type": "markdown",
   "id": "da61325d",
   "metadata": {},
   "source": [
    "### <span style=\"color:#55BB99\">1. Splitting Tips Data</span>\n",
    "<img align=\"center\" src=\"./gifs/tt.gif\"> \n",
    "\n"
   ]
  },
  {
   "cell_type": "code",
   "execution_count": 22,
   "id": "012a9e9b",
   "metadata": {},
   "outputs": [],
   "source": [
    "# split tips dataset\n",
    "training_r, testing_r = train_test_split(\n",
    "    df_r,\n",
    "    train_size=0.8, # 80%\n",
    "    test_size=0.2, #20%\n",
    "    random_state=42\n",
    "    )"
   ]
  },
  {
   "cell_type": "code",
   "execution_count": 23,
   "id": "0ff6ca24",
   "metadata": {},
   "outputs": [
    {
     "data": {
      "text/html": [
       "<div>\n",
       "<style scoped>\n",
       "    .dataframe tbody tr th:only-of-type {\n",
       "        vertical-align: middle;\n",
       "    }\n",
       "\n",
       "    .dataframe tbody tr th {\n",
       "        vertical-align: top;\n",
       "    }\n",
       "\n",
       "    .dataframe thead th {\n",
       "        text-align: right;\n",
       "    }\n",
       "</style>\n",
       "<table border=\"1\" class=\"dataframe\">\n",
       "  <thead>\n",
       "    <tr style=\"text-align: right;\">\n",
       "      <th></th>\n",
       "      <th>total_bill</th>\n",
       "      <th>tip</th>\n",
       "      <th>sex</th>\n",
       "      <th>smoker</th>\n",
       "      <th>day</th>\n",
       "      <th>time</th>\n",
       "      <th>size</th>\n",
       "    </tr>\n",
       "  </thead>\n",
       "  <tbody>\n",
       "    <tr>\n",
       "      <th>228</th>\n",
       "      <td>13.28</td>\n",
       "      <td>2.72</td>\n",
       "      <td>Male</td>\n",
       "      <td>No</td>\n",
       "      <td>Sat</td>\n",
       "      <td>Dinner</td>\n",
       "      <td>2</td>\n",
       "    </tr>\n",
       "    <tr>\n",
       "      <th>208</th>\n",
       "      <td>24.27</td>\n",
       "      <td>2.03</td>\n",
       "      <td>Male</td>\n",
       "      <td>Yes</td>\n",
       "      <td>Sat</td>\n",
       "      <td>Dinner</td>\n",
       "      <td>2</td>\n",
       "    </tr>\n",
       "    <tr>\n",
       "      <th>96</th>\n",
       "      <td>27.28</td>\n",
       "      <td>4.00</td>\n",
       "      <td>Male</td>\n",
       "      <td>Yes</td>\n",
       "      <td>Fri</td>\n",
       "      <td>Dinner</td>\n",
       "      <td>2</td>\n",
       "    </tr>\n",
       "    <tr>\n",
       "      <th>167</th>\n",
       "      <td>31.71</td>\n",
       "      <td>4.50</td>\n",
       "      <td>Male</td>\n",
       "      <td>No</td>\n",
       "      <td>Sun</td>\n",
       "      <td>Dinner</td>\n",
       "      <td>4</td>\n",
       "    </tr>\n",
       "    <tr>\n",
       "      <th>84</th>\n",
       "      <td>15.98</td>\n",
       "      <td>2.03</td>\n",
       "      <td>Male</td>\n",
       "      <td>No</td>\n",
       "      <td>Thur</td>\n",
       "      <td>Lunch</td>\n",
       "      <td>2</td>\n",
       "    </tr>\n",
       "  </tbody>\n",
       "</table>\n",
       "</div>"
      ],
      "text/plain": [
       "     total_bill   tip   sex smoker   day    time  size\n",
       "228       13.28  2.72  Male     No   Sat  Dinner     2\n",
       "208       24.27  2.03  Male    Yes   Sat  Dinner     2\n",
       "96        27.28  4.00  Male    Yes   Fri  Dinner     2\n",
       "167       31.71  4.50  Male     No   Sun  Dinner     4\n",
       "84        15.98  2.03  Male     No  Thur   Lunch     2"
      ]
     },
     "execution_count": 23,
     "metadata": {},
     "output_type": "execute_result"
    }
   ],
   "source": [
    "training_r.head()"
   ]
  },
  {
   "cell_type": "code",
   "execution_count": 24,
   "id": "46785130",
   "metadata": {},
   "outputs": [
    {
     "name": "stdout",
     "output_type": "stream",
     "text": [
      "<class 'pandas.core.frame.DataFrame'>\n",
      "Int64Index: 195 entries, 228 to 102\n",
      "Data columns (total 7 columns):\n",
      " #   Column      Non-Null Count  Dtype   \n",
      "---  ------      --------------  -----   \n",
      " 0   total_bill  195 non-null    float64 \n",
      " 1   tip         195 non-null    float64 \n",
      " 2   sex         195 non-null    category\n",
      " 3   smoker      195 non-null    category\n",
      " 4   day         195 non-null    category\n",
      " 5   time        195 non-null    category\n",
      " 6   size        195 non-null    int64   \n",
      "dtypes: category(4), float64(2), int64(1)\n",
      "memory usage: 7.4 KB\n"
     ]
    }
   ],
   "source": [
    "training_r.info()"
   ]
  },
  {
   "cell_type": "code",
   "execution_count": 25,
   "id": "08d34657",
   "metadata": {},
   "outputs": [
    {
     "data": {
      "text/html": [
       "<div>\n",
       "<style scoped>\n",
       "    .dataframe tbody tr th:only-of-type {\n",
       "        vertical-align: middle;\n",
       "    }\n",
       "\n",
       "    .dataframe tbody tr th {\n",
       "        vertical-align: top;\n",
       "    }\n",
       "\n",
       "    .dataframe thead th {\n",
       "        text-align: right;\n",
       "    }\n",
       "</style>\n",
       "<table border=\"1\" class=\"dataframe\">\n",
       "  <thead>\n",
       "    <tr style=\"text-align: right;\">\n",
       "      <th></th>\n",
       "      <th>total_bill</th>\n",
       "      <th>tip</th>\n",
       "      <th>size</th>\n",
       "    </tr>\n",
       "  </thead>\n",
       "  <tbody>\n",
       "    <tr>\n",
       "      <th>count</th>\n",
       "      <td>195.000000</td>\n",
       "      <td>195.000000</td>\n",
       "      <td>195.000000</td>\n",
       "    </tr>\n",
       "    <tr>\n",
       "      <th>mean</th>\n",
       "      <td>20.217692</td>\n",
       "      <td>3.087795</td>\n",
       "      <td>2.574359</td>\n",
       "    </tr>\n",
       "    <tr>\n",
       "      <th>std</th>\n",
       "      <td>8.770505</td>\n",
       "      <td>1.429049</td>\n",
       "      <td>0.940695</td>\n",
       "    </tr>\n",
       "    <tr>\n",
       "      <th>min</th>\n",
       "      <td>5.750000</td>\n",
       "      <td>1.000000</td>\n",
       "      <td>1.000000</td>\n",
       "    </tr>\n",
       "    <tr>\n",
       "      <th>25%</th>\n",
       "      <td>13.660000</td>\n",
       "      <td>2.000000</td>\n",
       "      <td>2.000000</td>\n",
       "    </tr>\n",
       "    <tr>\n",
       "      <th>50%</th>\n",
       "      <td>17.920000</td>\n",
       "      <td>3.000000</td>\n",
       "      <td>2.000000</td>\n",
       "    </tr>\n",
       "    <tr>\n",
       "      <th>75%</th>\n",
       "      <td>24.855000</td>\n",
       "      <td>3.695000</td>\n",
       "      <td>3.000000</td>\n",
       "    </tr>\n",
       "    <tr>\n",
       "      <th>max</th>\n",
       "      <td>50.810000</td>\n",
       "      <td>10.000000</td>\n",
       "      <td>6.000000</td>\n",
       "    </tr>\n",
       "  </tbody>\n",
       "</table>\n",
       "</div>"
      ],
      "text/plain": [
       "       total_bill         tip        size\n",
       "count  195.000000  195.000000  195.000000\n",
       "mean    20.217692    3.087795    2.574359\n",
       "std      8.770505    1.429049    0.940695\n",
       "min      5.750000    1.000000    1.000000\n",
       "25%     13.660000    2.000000    2.000000\n",
       "50%     17.920000    3.000000    2.000000\n",
       "75%     24.855000    3.695000    3.000000\n",
       "max     50.810000   10.000000    6.000000"
      ]
     },
     "execution_count": 25,
     "metadata": {},
     "output_type": "execute_result"
    }
   ],
   "source": [
    "training_r.describe()"
   ]
  },
  {
   "cell_type": "code",
   "execution_count": 26,
   "id": "722afabc",
   "metadata": {},
   "outputs": [
    {
     "data": {
      "text/html": [
       "<div>\n",
       "<style scoped>\n",
       "    .dataframe tbody tr th:only-of-type {\n",
       "        vertical-align: middle;\n",
       "    }\n",
       "\n",
       "    .dataframe tbody tr th {\n",
       "        vertical-align: top;\n",
       "    }\n",
       "\n",
       "    .dataframe thead th {\n",
       "        text-align: right;\n",
       "    }\n",
       "</style>\n",
       "<table border=\"1\" class=\"dataframe\">\n",
       "  <thead>\n",
       "    <tr style=\"text-align: right;\">\n",
       "      <th></th>\n",
       "      <th>sex</th>\n",
       "      <th>smoker</th>\n",
       "      <th>day</th>\n",
       "      <th>time</th>\n",
       "    </tr>\n",
       "  </thead>\n",
       "  <tbody>\n",
       "    <tr>\n",
       "      <th>count</th>\n",
       "      <td>195</td>\n",
       "      <td>195</td>\n",
       "      <td>195</td>\n",
       "      <td>195</td>\n",
       "    </tr>\n",
       "    <tr>\n",
       "      <th>unique</th>\n",
       "      <td>2</td>\n",
       "      <td>2</td>\n",
       "      <td>4</td>\n",
       "      <td>2</td>\n",
       "    </tr>\n",
       "    <tr>\n",
       "      <th>top</th>\n",
       "      <td>Male</td>\n",
       "      <td>No</td>\n",
       "      <td>Sat</td>\n",
       "      <td>Dinner</td>\n",
       "    </tr>\n",
       "    <tr>\n",
       "      <th>freq</th>\n",
       "      <td>127</td>\n",
       "      <td>120</td>\n",
       "      <td>70</td>\n",
       "      <td>142</td>\n",
       "    </tr>\n",
       "  </tbody>\n",
       "</table>\n",
       "</div>"
      ],
      "text/plain": [
       "         sex smoker  day    time\n",
       "count    195    195  195     195\n",
       "unique     2      2    4       2\n",
       "top     Male     No  Sat  Dinner\n",
       "freq     127    120   70     142"
      ]
     },
     "execution_count": 26,
     "metadata": {},
     "output_type": "execute_result"
    }
   ],
   "source": [
    "training_r.describe(exclude=\"number\")"
   ]
  },
  {
   "cell_type": "code",
   "execution_count": 27,
   "id": "6c77c9f5",
   "metadata": {},
   "outputs": [
    {
     "name": "stdout",
     "output_type": "stream",
     "text": [
      "--------------------------------------------------------------------------------\n",
      "sex\n",
      "Male      127\n",
      "Female     68\n",
      "Name: sex, dtype: int64\n",
      "--------------------------------------------------------------------------------\n",
      "smoker\n",
      "No     120\n",
      "Yes     75\n",
      "Name: smoker, dtype: int64\n",
      "--------------------------------------------------------------------------------\n",
      "day\n",
      "Sat     70\n",
      "Sun     61\n",
      "Thur    47\n",
      "Fri     17\n",
      "Name: day, dtype: int64\n",
      "--------------------------------------------------------------------------------\n",
      "time\n",
      "Dinner    142\n",
      "Lunch      53\n",
      "Name: time, dtype: int64\n"
     ]
    }
   ],
   "source": [
    "# printing out categorical features\n",
    "\n",
    "categorical_f = training_r.select_dtypes(include = ['category'])\n",
    "for category in categorical_f:\n",
    "    print('--'*40)\n",
    "    print(category)\n",
    "    print(training_r[category].value_counts())\n",
    "    "
   ]
  },
  {
   "cell_type": "markdown",
   "id": "7f50d011",
   "metadata": {},
   "source": [
    "### <span style=\"color:#55BB99\">2. Build Heuristic Regression Model</span>"
   ]
  },
  {
   "cell_type": "markdown",
   "id": "19b6455c",
   "metadata": {},
   "source": [
    "#### <span style=\"color:#726060\"> EDA on Tips training dataset:</span>\n",
    "\n",
    "<img align=\"center\" src=\"./gifs/test.gif\"> "
   ]
  },
  {
   "cell_type": "code",
   "execution_count": 28,
   "id": "eb1bc546",
   "metadata": {},
   "outputs": [
    {
     "data": {
      "text/plain": [
       "<seaborn.axisgrid.PairGrid at 0x190caa73220>"
      ]
     },
     "execution_count": 28,
     "metadata": {},
     "output_type": "execute_result"
    },
    {
     "data": {
      "image/png": "[encoded data removed]",
      "text/plain": [
       "<Figure size 540x540 with 12 Axes>"
      ]
     },
     "metadata": {
      "needs_background": "light"
     },
     "output_type": "display_data"
    }
   ],
   "source": [
    "sns.pairplot(training_r)\n",
    "# This plot helped me look at the relationships of the features and inspired other plots"
   ]
  },
  {
   "cell_type": "code",
   "execution_count": 29,
   "id": "f05cd2d4",
   "metadata": {},
   "outputs": [
    {
     "data": {
      "image/png": "[encoded data removed]",
      "text/plain": [
       "<Figure size 648x360 with 1 Axes>"
      ]
     },
     "metadata": {
      "needs_background": "light"
     },
     "output_type": "display_data"
    }
   ],
   "source": [
    "plt.figure(figsize=(9,5))\n",
    "sns.scatterplot(x = 'total_bill', y = 'sex',hue='smoker', data=training_r)\n",
    "plt.xlabel('Total Bill')\n",
    "plt.ylabel('Gender')\n",
    "plt.show()\n",
    "# This plot shows that Males tend to pay higher prices then females, and also smokers tend to pay higher \n",
    "# when non-smokers dont"
   ]
  },
  {
   "cell_type": "code",
   "execution_count": 30,
   "id": "3b095f00",
   "metadata": {},
   "outputs": [
    {
     "data": {
      "image/png": "[encoded data removed]",
      "text/plain": [
       "<Figure size 1440x576 with 2 Axes>"
      ]
     },
     "metadata": {
      "needs_background": "light"
     },
     "output_type": "display_data"
    }
   ],
   "source": [
    "# get the average bill to plot\n",
    "average_bill =training_r['total_bill'].mean()\n",
    "\n",
    "plt.figure(figsize = (20,8))\n",
    "#  subplot #1\n",
    "plt.subplot(231)\n",
    "\n",
    "training_r[training_r['total_bill']<=average_bill]['sex'].value_counts().plot(kind = 'barh', width = 0.3)\n",
    "plt.xticks(rotation = 'horizontal')\n",
    "plt.xlabel('Bill Total')\n",
    "plt.title('People who have a Total Bill <= The average, by Gender')\n",
    "\n",
    "\n",
    "\n",
    "#  subplot #2\n",
    "plt.subplot(2,3,2)\n",
    "\n",
    "training_r[training_r['total_bill']>=average_bill]['sex'].value_counts().plot(kind = 'barh', width = 0.3)\n",
    "plt.xticks(rotation = 'horizontal')\n",
    "plt.xlabel('Bill Total')\n",
    "plt.title('People who have a Total Bill >= The average, by Gender')\n",
    "\n",
    "plt.show()\n",
    "\n",
    "# These plot show who payed below average by gender and above average by gender\n",
    "# females tend to pay below average more than they do above \n",
    "# males are consistent"
   ]
  },
  {
   "cell_type": "code",
   "execution_count": 31,
   "id": "5f989066",
   "metadata": {},
   "outputs": [
    {
     "data": {
      "image/png": "[encoded data removed]",
      "text/plain": [
       "<Figure size 1440x648 with 2 Axes>"
      ]
     },
     "metadata": {
      "needs_background": "light"
     },
     "output_type": "display_data"
    }
   ],
   "source": [
    "plt.figure(figsize=(20,9))\n",
    "\n",
    "\n",
    "#  subplot #1\n",
    "plt.subplot(231)\n",
    "\n",
    "plt.xlim(0,70)\n",
    "plt.xlabel('Total Bill')\n",
    "plt.ylabel('Density')\n",
    "sns.kdeplot(training_r[training_r['sex']=='Male']['total_bill'],label=\"Male\",shade=True)\n",
    "sns.kdeplot(training_r[training_r['sex']=='Female']['total_bill'],label=\"Female\",shade=True)\n",
    "plt.legend()\n",
    "\n",
    " #  subplot #2\n",
    "plt.subplot(2,3,2)\n",
    "\n",
    "plt.xlim(0,70)\n",
    "plt.xlabel('Total Bill')\n",
    "plt.ylabel('Density')\n",
    "sns.kdeplot(training_r[training_r['time']=='Dinner']['total_bill'],label=\"Dinner\",shade=True)\n",
    "sns.kdeplot(training_r[training_r['time']=='Lunch']['total_bill'],label=\"Lunch\",shade=True)\n",
    "plt.legend()\n",
    "\n",
    "plt.show()\n",
    "\n",
    "# These plots show the density of the bills based on gender and time\n",
    "# we notice a higher density in the lower ranges of bills for lunch time and females \n",
    "# but a higher density the higher the bill goes for males and lunch time"
   ]
  },
  {
   "cell_type": "code",
   "execution_count": 32,
   "id": "9ff8ae4b",
   "metadata": {},
   "outputs": [
    {
     "data": {
      "image/png": "[encoded data removed]",
      "text/plain": [
       "<Figure size 648x360 with 1 Axes>"
      ]
     },
     "metadata": {
      "needs_background": "light"
     },
     "output_type": "display_data"
    }
   ],
   "source": [
    "plt.figure(figsize=(9,5))\n",
    "sns.countplot(x = 'time', hue = 'day', data=training_r)\n",
    "plt.xlabel('Meal Time')\n",
    "plt.ylabel('Number of People')\n",
    "plt.show()\n",
    "\n",
    "# we see that most people eat dinner and on the weekend (sat, sun)"
   ]
  },
  {
   "cell_type": "code",
   "execution_count": 33,
   "id": "06314e04",
   "metadata": {},
   "outputs": [
    {
     "data": {
      "text/plain": [
       "<matplotlib.legend.Legend at 0x190cc13f970>"
      ]
     },
     "execution_count": 33,
     "metadata": {},
     "output_type": "execute_result"
    },
    {
     "data": {
      "image/png": "[encoded data removed]",
      "text/plain": [
       "<Figure size 432x288 with 1 Axes>"
      ]
     },
     "metadata": {
      "needs_background": "light"
     },
     "output_type": "display_data"
    }
   ],
   "source": [
    "plt.xlabel('Total Bill')\n",
    "plt.ylabel('Density')\n",
    "sns.kdeplot(training_r[training_r['day']=='Thur']['total_bill'],label=\"Thur\",shade=True, alpha=0.2)\n",
    "sns.kdeplot(training_r[training_r['day']=='Fri']['total_bill'],label=\"Fri\",shade=True, alpha=0.2)\n",
    "sns.kdeplot(training_r[training_r['day']=='Sat']['total_bill'],label=\"Sat\",shade=True, alpha=0.2)\n",
    "sns.kdeplot(training_r[training_r['day']=='Sun']['total_bill'],label=\"Sun\",shade=True, alpha=0.2)\n",
    "plt.legend()\n",
    "# This plot shows us the density of the bill based on the day\n",
    "# thursday tends to have a higher density in the mid-range of the bill total \n",
    "# sun has an increasing density the higher the bill gets \n",
    "# and saturday has the highest density for higher bills"
   ]
  },
  {
   "cell_type": "code",
   "execution_count": 34,
   "id": "8c5b488c",
   "metadata": {},
   "outputs": [
    {
     "data": {
      "image/png": "[encoded data removed]",
      "text/plain": [
       "<Figure size 648x360 with 1 Axes>"
      ]
     },
     "metadata": {
      "needs_background": "light"
     },
     "output_type": "display_data"
    }
   ],
   "source": [
    "plt.figure(figsize=(9,5))\n",
    "sns.barplot(x = 'sex', y = 'total_bill', data=training_r)\n",
    "plt.xlabel('Gender')\n",
    "plt.ylabel('Total Bill')\n",
    "plt.show()\n",
    "# this shows us that males tend to pay slightly more than females but not that much"
   ]
  },
  {
   "cell_type": "code",
   "execution_count": 35,
   "id": "8eb9c105",
   "metadata": {},
   "outputs": [
    {
     "data": {
      "text/plain": [
       "<AxesSubplot:xlabel='total_bill', ylabel='tip'>"
      ]
     },
     "execution_count": 35,
     "metadata": {},
     "output_type": "execute_result"
    },
    {
     "data": {
      "image/png": "[encoded data removed]",
      "text/plain": [
       "<Figure size 1080x720 with 3 Axes>"
      ]
     },
     "metadata": {
      "needs_background": "light"
     },
     "output_type": "display_data"
    }
   ],
   "source": [
    "plt.figure(figsize=(15,10))\n",
    "plt.subplot(231)\n",
    "sns.scatterplot(data=training_r, x=\"total_bill\", y=\"tip\", hue=\"size\")\n",
    "plt.subplot(232)\n",
    "sns.scatterplot(data=training_r, x=\"total_bill\", y=\"tip\", hue=\"time\")\n",
    "plt.subplot(233)\n",
    "sns.scatterplot(data=training_r, x=\"total_bill\", y=\"tip\", hue=\"day\")\n",
    "\n",
    "# here we can see the breakup of bill vs tips while taking into consideration the size, time and day\n",
    "# the lower the size the lower the bill and tip\n",
    "# dinner tends to be more frequent and also higher in bill and tips\n",
    "# Fri has the least amount of bills compared to the other three days"
   ]
  },
  {
   "cell_type": "code",
   "execution_count": 36,
   "id": "fff09840",
   "metadata": {
    "scrolled": false
   },
   "outputs": [
    {
     "data": {
      "image/png": "[encoded data removed]",
      "text/plain": [
       "<Figure size 1080x720 with 5 Axes>"
      ]
     },
     "metadata": {
      "needs_background": "light"
     },
     "output_type": "display_data"
    }
   ],
   "source": [
    "plt.figure(figsize=(15,10))\n",
    "#  subplot #1\n",
    "plt.subplot(231)\n",
    "thurs=training_r[training_r['day']=='Thur']\n",
    "sns.scatterplot(data=thurs, x=\"total_bill\", y=\"tip\")\n",
    "plt.title(\"Thursdays Tips VS Total Bill\")\n",
    "\n",
    "#  subplot #2\n",
    "plt.subplot(232)\n",
    "fri=training_r[training_r['day']=='Fri']\n",
    "sns.scatterplot(data=thurs, x=\"total_bill\", y=\"tip\")\n",
    "plt.title(\"Fridays Tips VS Total Bill\")\n",
    "\n",
    "#  subplot #3\n",
    "plt.subplot(233)\n",
    "sat=training_r[training_r['day']=='Sat']\n",
    "sns.scatterplot(data=thurs, x=\"total_bill\", y=\"tip\")\n",
    "plt.title(\"Saturdays Tips VS Total Bill\")\n",
    "\n",
    "#  subplot #4\n",
    "plt.subplot(234)\n",
    "sun=training_r[training_r['day']=='Sun']\n",
    "sns.scatterplot(data=thurs, x=\"total_bill\", y=\"tip\")\n",
    "plt.title(\"Sundays Tips VS Total Bill\")\n",
    "\n",
    "#  subplot #4\n",
    "plt.subplot(235)\n",
    "sns.scatterplot(data=training_r, x=\"total_bill\", y=\"tip\")\n",
    "plt.title(\"All Days Tips VS Total Bill\")\n",
    "\n",
    "plt.show()\n",
    "\n",
    "# I wanted to see the relationship between the bill and tip for each day but I found them all to have similar patterns"
   ]
  },
  {
   "cell_type": "markdown",
   "id": "51eb02c8",
   "metadata": {},
   "source": [
    "#### <span style=\"color:#726060\"> Building the model:</span>\n",
    "\n",
    "<img align=\"center\" src=\"./gifs/try2.gif\"> "
   ]
  },
  {
   "cell_type": "code",
   "execution_count": 37,
   "id": "deb37bee",
   "metadata": {},
   "outputs": [],
   "source": [
    "# I wanted to look into ranges of the bill and the tips based on days"
   ]
  },
  {
   "cell_type": "code",
   "execution_count": 38,
   "id": "2c11d225",
   "metadata": {},
   "outputs": [
    {
     "name": "stdout",
     "output_type": "stream",
     "text": [
      "--------------------------------------------------------------------------------\n",
      "Thursday's Total Bill Range is: [7.51, 34.83]\n",
      "--------------------------------------------------------------------------------\n",
      "Friday's Total Bill Range is: [5.75, 40.17]\n",
      "--------------------------------------------------------------------------------\n",
      "Saturday's Total Bill Range is: [7.25, 50.81]\n",
      "--------------------------------------------------------------------------------\n",
      "Sunday's Total Bill Range is: [7.25, 45.35]\n",
      "--------------------------------------------------------------------------------\n"
     ]
    }
   ],
   "source": [
    "# THUR\n",
    "thur_max_bill= training_r[training_r['day']=='Thur']['total_bill'].max() # max thur bill\n",
    "thur_min_bill= training_r[training_r['day']=='Thur']['total_bill'].min() # min thur bill\n",
    "thur_range = [thur_min_bill,thur_max_bill]                               # thur range\n",
    "# FRI\n",
    "fri_max_bill= training_r[training_r['day']=='Fri']['total_bill'].max()   # max fri bill\n",
    "fri_min_bill= training_r[training_r['day']=='Fri']['total_bill'].min()   # min fri bill\n",
    "fri_range = [fri_min_bill,fri_max_bill]                                  # fri range\n",
    "# SAT\n",
    "sat_max_bill= training_r[training_r['day']=='Sat']['total_bill'].max()   # max sat bill\n",
    "sat_min_bill= training_r[training_r['day']=='Sat']['total_bill'].min()   # min sat bill\n",
    "sat_range = [sat_min_bill,sat_max_bill]                                  # sat range\n",
    "# SUN\n",
    "sun_max_bill= training_r[training_r['day']=='Sun']['total_bill'].max()   # max sun bill\n",
    "sun_min_bill= training_r[training_r['day']=='Sun']['total_bill'].min()   # min sun bill\n",
    "sun_range = [sun_min_bill,sun_max_bill]                                  # sun range\n",
    "\n",
    "# print the ranges\n",
    "all_ranges={\"Thursday's\":thur_range,\"Friday's\":fri_range,\"Saturday's\":sat_range,\"Sunday's\":sun_range}\n",
    "for k,v in all_ranges.items():\n",
    "    print(\"--\"*40)\n",
    "    print(f\"{k} Total Bill Range is: {v}\")\n",
    "print(\"--\"*40)"
   ]
  },
  {
   "cell_type": "code",
   "execution_count": 39,
   "id": "bddf5067",
   "metadata": {
    "scrolled": true
   },
   "outputs": [
    {
     "name": "stdout",
     "output_type": "stream",
     "text": [
      "--------------------------------------------------------------------------------\n",
      "Thursday's Total tip Range is: [1.25, 6.7]\n",
      "--------------------------------------------------------------------------------\n",
      "Friday's Total tip Range is: [1.0, 4.73]\n",
      "--------------------------------------------------------------------------------\n",
      "Saturday's Total tip Range is: [1.0, 10.0]\n",
      "--------------------------------------------------------------------------------\n",
      "Sunday's Total tip Range is: [1.01, 6.5]\n",
      "--------------------------------------------------------------------------------\n"
     ]
    }
   ],
   "source": [
    "# THUR\n",
    "thur_max_tip= training_r[training_r['day']=='Thur']['tip'].max() # max thur bill\n",
    "thur_min_tip= training_r[training_r['day']=='Thur']['tip'].min() # min thur bill\n",
    "thur_range_tip = [thur_min_tip,thur_max_tip]                               # thur range\n",
    "# FRI\n",
    "fri_max_tip= training_r[training_r['day']=='Fri']['tip'].max()   # max fri bill\n",
    "fri_min_tip= training_r[training_r['day']=='Fri']['tip'].min()   # min fri bill\n",
    "fri_range_tip = [fri_min_tip,fri_max_tip]                                  # fri range\n",
    "# SAT\n",
    "sat_max_tip= training_r[training_r['day']=='Sat']['tip'].max()   # max sat bill\n",
    "sat_min_tip= training_r[training_r['day']=='Sat']['tip'].min()   # min sat bill\n",
    "sat_range_tip = [sat_min_tip,sat_max_tip]                                  # sat range\n",
    "# SUN\n",
    "sun_max_tip= training_r[training_r['day']=='Sun']['tip'].max()   # max sun bill\n",
    "sun_min_tip= training_r[training_r['day']=='Sun']['tip'].min()   # min sun bill\n",
    "sun_range_tip = [sun_min_tip,sun_max_tip]                                  # sun range\n",
    "\n",
    "# print the ranges\n",
    "all_ranges={\"Thursday's\":thur_range_tip,\"Friday's\":fri_range_tip,\"Saturday's\":sat_range_tip,\"Sunday's\":sun_range_tip}\n",
    "for k,v in all_ranges.items():\n",
    "    print(\"--\"*40)\n",
    "    print(f\"{k} Total tip Range is: {v}\")\n",
    "print(\"--\"*40)"
   ]
  },
  {
   "cell_type": "markdown",
   "id": "d5ec0cdd",
   "metadata": {},
   "source": [
    "##### <span style=\"color:#D8A7B1\"> Attempt 1: Using the Max and Min range for each day</span>\n",
    "**Psuedo Code:**\n",
    "\n",
    "\n",
    "\n",
    "<span style=\"color:#55BB99\">**If**</span> day is Thur\n",
    "\n",
    "\n",
    "    assign prediction to random between Thur min bill and Thur max bill\n",
    "\n",
    "\n",
    "<span style=\"color:#55BB99\">**Else If**</span>  day is Fri\n",
    "\n",
    "\n",
    "    assign prediction to random between Fri min bill and Fri max bill\n",
    "\n",
    "<span style=\"color:#55BB99\">**Else If**</span>  day is Sat\n",
    "\n",
    "    assign prediction to random between Sat min bill and Sat max bill\n",
    "             \n",
    "<span style=\"color:#55BB99\">**Else If**</span>  day is Sun\n",
    "\n",
    "    assign prediction to random between Sun min bill and Sun max bill\n",
    "\n",
    "**Explanation:**\n",
    "* Get the range of bill for each day and randomize the prediction between that range"
   ]
  },
  {
   "cell_type": "code",
   "execution_count": 40,
   "id": "fa62d68f",
   "metadata": {},
   "outputs": [],
   "source": [
    "# get a copy\n",
    "training_r_copy1 = training_r.copy()\n",
    "\n",
    "\"\"\"\n",
    "This function predicts the total bill using a range depending on the day\n",
    "\"\"\"\n",
    "def HM_bill_rng_D(df):\n",
    "    preds = np.zeros(len(df))\n",
    "    for x in range(len(df)):\n",
    "        if(df.iloc[x][\"day\"]=='Thur'):\n",
    "            preds[x]=round(random.uniform(thur_min_bill,thur_max_bill), 2)\n",
    "        elif(df.iloc[x][\"day\"]=='Fri'):\n",
    "            preds[x]=round(random.uniform(fri_min_bill,fri_max_bill), 2)\n",
    "        elif(df.iloc[x][\"day\"]=='Sat'):\n",
    "            preds[x]=round(random.uniform(sat_min_bill,sat_max_bill), 2)\n",
    "        elif(df.iloc[x][\"day\"]=='Sun'):\n",
    "            preds[x]=round(random.uniform(sun_min_bill,sun_max_bill), 2)\n",
    "    return preds\n",
    "\n",
    "# Apply Heuristic\n",
    "training_r_copy1[\"Bill_Predict\"] = HM_bill_rng_D(training_r_copy1)"
   ]
  },
  {
   "cell_type": "code",
   "execution_count": 41,
   "id": "7589866d",
   "metadata": {},
   "outputs": [
    {
     "name": "stdout",
     "output_type": "stream",
     "text": [
      "MSE:  232.07906012820519\n",
      "MAE:  12.308130769230768\n",
      "RMSE:  15.224879625287965\n"
     ]
    }
   ],
   "source": [
    "# Run the HM model and calculate the cost 20 times, and get the mean\n",
    "MSE1= np.array([])\n",
    "MAE1=np.array([])\n",
    "RMSE1=np.array([])\n",
    "for i in range(20): \n",
    "    # Apply Heuristic\n",
    "    training_r_copy1[\"Bill_Predict\"] = HM_bill_rng_D(training_r_copy1)\n",
    "    MSE1=np.append(MSE1,mean_squared_error(training_r_copy1[\"total_bill\"], training_r_copy1[\"Bill_Predict\"]))\n",
    "    MAE1=np.append(MAE1,mean_absolute_error(training_r_copy1[\"total_bill\"], training_r_copy1[\"Bill_Predict\"]))\n",
    "    RMSE1=np.append(RMSE1,mean_squared_error(training_r_copy1[\"total_bill\"], training_r_copy1[\"Bill_Predict\"], squared=False))\n",
    "    \n",
    "print(\"MSE: \", MSE1.mean())\n",
    "print(\"MAE: \",MAE1.mean())\n",
    "print(\"RMSE: \",RMSE1.mean())"
   ]
  },
  {
   "cell_type": "markdown",
   "id": "60cf7894",
   "metadata": {},
   "source": [
    "##### <span style=\"color:#D8A7B1\"> Attempt 2: Using a range for each day and adding Dinner/Lunch time on the weekend</span>\n",
    "**Psuedo Code:**\n",
    "\n",
    "\n",
    "\n",
    "<span style=\"color:#55BB99\">**If**</span> day is Thur\n",
    "\n",
    "\n",
    "    assign prediction to random between Thur min bill and Thur max bill\n",
    "\n",
    "\n",
    "<span style=\"color:#55BB99\">**Else If**</span>  day is Fri\n",
    "\n",
    "\n",
    "    assign prediction to random between Fri min bill and Fri max bill\n",
    "\n",
    "<span style=\"color:#55BB99\">**Else If**</span>  day is Sat\n",
    "\n",
    "     if its dinner time:\n",
    "         assign prediction to random between Sat min bill+ (Sat max bill/2) and Sat max bill\n",
    "     else:\n",
    "         assign prediction to random between Sat min bill and Sat max bill\n",
    "             \n",
    "<span style=\"color:#55BB99\">**Else If**</span>  day is Sun\n",
    "\n",
    "     if its dinner time:\n",
    "         assign prediction to random between Sun min bill+ (Sun max bill/2) and Sun max bill\n",
    "     else:\n",
    "         assign prediction to random between Sun min bill and Sun max bill\n",
    "\n",
    "**Explanation:**\n",
    "* If its Dinner time then I want the randomizer to pick from the higher side of the range specified, therefore I made it start from the min + max/2 and end at the max to shift it to start from the middle to the highest\n",
    "* If its Lunch time randomize from the normal range\n",
    "* However this increased the error "
   ]
  },
  {
   "cell_type": "code",
   "execution_count": 42,
   "id": "c2bf9746",
   "metadata": {},
   "outputs": [],
   "source": [
    "# get a copy\n",
    "training_r_copy2 = training_r.copy()\n",
    "\n",
    "\"\"\"\n",
    "This function predicts the total bill using a range depending on the day\n",
    "Here I added if its dinner time on sat and sun then increase the min range by the max range divided by 2\n",
    "\"\"\"\n",
    "def HM_bill_rng_DT(df):\n",
    "    preds = np.zeros(len(df))\n",
    "    for x in range(len(df)):\n",
    "        if(df.iloc[x][\"day\"]=='Thur'):\n",
    "            preds[x]=round(random.uniform(thur_min_bill,thur_max_bill), 2)\n",
    "        elif(df.iloc[x][\"day\"]=='Fri'):\n",
    "            preds[x]=round(random.uniform(fri_min_bill,fri_max_bill), 2)\n",
    "        elif(df.iloc[x][\"day\"]=='Sat'):\n",
    "                if(df.iloc[x][\"time\"]=='Dinner'):\n",
    "                    preds[x]=round(random.uniform(sat_min_bill+sat_max_bill/2,sat_max_bill), 2)\n",
    "                else:\n",
    "                    preds[x]=round(random.uniform(sat_min_bill,sat_max_bill), 2)\n",
    "        elif(df.iloc[x][\"day\"]=='Sun'):\n",
    "                if(df.iloc[x][\"time\"]=='Dinner'):\n",
    "                    preds[x]=round(random.uniform(sun_min_bill+sun_max_bill/2,sun_max_bill), 2)\n",
    "                else:\n",
    "                    preds[x]=round(random.uniform(sun_min_bill,sun_max_bill), 2)\n",
    "    return preds\n",
    "\n",
    "# Apply Heuristic\n",
    "training_r_copy2[\"Bill_Predict\"] = HM_bill_rng_DT(training_r_copy2)"
   ]
  },
  {
   "cell_type": "code",
   "execution_count": 43,
   "id": "719004e8",
   "metadata": {},
   "outputs": [
    {
     "name": "stdout",
     "output_type": "stream",
     "text": [
      "MSE:  343.97847348717954\n",
      "MAE:  15.852107692307689\n",
      "RMSE:  18.54373033544939\n"
     ]
    }
   ],
   "source": [
    "# Run the HM model and calculate the cost 20 times, and get the mean\n",
    "MSE2= np.array([])\n",
    "MAE2=np.array([])\n",
    "RMSE2=np.array([])\n",
    "for i in range(20): \n",
    "    # Apply Heuristic\n",
    "    training_r_copy2[\"Bill_Predict\"] = HM_bill_rng_DT(training_r_copy2)\n",
    "    MSE2=np.append(MSE2,mean_squared_error(training_r_copy2[\"total_bill\"], training_r_copy2[\"Bill_Predict\"]))\n",
    "    MAE2=np.append(MAE2,mean_absolute_error(training_r_copy2[\"total_bill\"], training_r_copy2[\"Bill_Predict\"]))\n",
    "    RMSE2=np.append(RMSE2,mean_squared_error(training_r_copy2[\"total_bill\"], training_r_copy2[\"Bill_Predict\"], squared=False))\n",
    "    \n",
    "print(\"MSE: \", MSE2.mean())\n",
    "print(\"MAE: \",MAE2.mean())\n",
    "print(\"RMSE: \",RMSE2.mean())"
   ]
  },
  {
   "cell_type": "markdown",
   "id": "d39d0e60",
   "metadata": {},
   "source": [
    "##### <span style=\"color:#D8A7B1\"> Attempt 3: Using a range for each day and adding Dinner/Lunch time on the weekend and Reducing the Max range to 35</span>\n",
    "**Psuedo Code:**\n",
    "\n",
    "\n",
    "\n",
    "<span style=\"color:#55BB99\">**If**</span> day is Thur\n",
    "\n",
    "\n",
    "    assign prediction to random between Thur min bill and Thur max bill\n",
    "\n",
    "\n",
    "<span style=\"color:#55BB99\">**Else If**</span>  day is Fri\n",
    "\n",
    "\n",
    "    assign prediction to random between Fri min bill and 35\n",
    "\n",
    "<span style=\"color:#55BB99\">**Else If**</span>  day is Sat\n",
    "\n",
    "     if its dinner time:\n",
    "         assign prediction to random between Sat min bill+ (Sat max bill/2) and 35\n",
    "     else:\n",
    "         assign prediction to random between Sat min bill and 35\n",
    "             \n",
    "<span style=\"color:#55BB99\">**Else If**</span>  day is Sun\n",
    "\n",
    "     if its dinner time:\n",
    "         assign prediction to random between Sun min bill+ (Sun max bill/2) and 35\n",
    "     else:\n",
    "         assign prediction to random between Sun min bill and 35\n",
    "\n",
    "**Explanation:**\n",
    "* After investigating the previous attempt it was due to some outliers as we saw in the scatter plot, so I reduced all the ranges max to be 35 which drastically improved the mode. "
   ]
  },
  {
   "cell_type": "code",
   "execution_count": 44,
   "id": "afdb5cae",
   "metadata": {},
   "outputs": [],
   "source": [
    "# get a copy\n",
    "training_r_copy3 = training_r.copy()\n",
    "\n",
    "\"\"\"\n",
    "This function predicts the total bill using a range depending on the day but the range ends with 35 due to outliers\n",
    "Here I added if its dinner time on sat and sun then increase the min range by the max range divided by 2\n",
    "\"\"\"\n",
    "def HM_bill_rng_DT_35(df):\n",
    "    preds = np.zeros(len(df))\n",
    "    for x in range(len(df)):\n",
    "        if(df.iloc[x][\"day\"]=='Thur'):\n",
    "            preds[x]=round(random.uniform(thur_min_bill,thur_max_bill), 2)\n",
    "        elif(df.iloc[x][\"day\"]=='Fri'):\n",
    "            preds[x]=round(random.uniform(fri_min_bill,35), 2)\n",
    "        elif(df.iloc[x][\"day\"]=='Sat'):\n",
    "                if(df.iloc[x][\"time\"]=='Dinner'):\n",
    "                    preds[x]=round(random.uniform(sat_min_bill+sat_max_bill/2,35), 2)\n",
    "                else:\n",
    "                    preds[x]=round(random.uniform(sat_min_bill,35), 2)\n",
    "        elif(df.iloc[x][\"day\"]=='Sun'):\n",
    "                if(df.iloc[x][\"time\"]=='Dinner'):\n",
    "                    preds[x]=round(random.uniform(sun_min_bill+sun_max_bill/2,35), 2)\n",
    "                else:\n",
    "                    preds[x]=round(random.uniform(sun_min_bill,35), 2)\n",
    "    return preds\n",
    "\n",
    "# Apply Heuristic\n",
    "training_r_copy3[\"Bill_Predict\"] = HM_bill_rng_DT_35(training_r_copy3)"
   ]
  },
  {
   "cell_type": "code",
   "execution_count": 45,
   "id": "489a1d21",
   "metadata": {},
   "outputs": [
    {
     "name": "stdout",
     "output_type": "stream",
     "text": [
      "MSE:  191.64134807692307\n",
      "MAE:  11.988079487179489\n",
      "RMSE:  13.842686899543343\n"
     ]
    }
   ],
   "source": [
    "# Run the HM model and calculate the cost 20 times, and get the mean\n",
    "MSE3= np.array([])\n",
    "MAE3=np.array([])\n",
    "RMSE3=np.array([])\n",
    "for i in range(20): \n",
    "    # Apply Heuristic\n",
    "    training_r_copy3[\"Bill_Predict\"] = HM_bill_rng_DT_35(training_r_copy3)\n",
    "    MSE3=np.append(MSE3,mean_squared_error(training_r_copy3[\"total_bill\"], training_r_copy3[\"Bill_Predict\"]))\n",
    "    MAE3=np.append(MAE3,mean_absolute_error(training_r_copy3[\"total_bill\"], training_r_copy3[\"Bill_Predict\"]))\n",
    "    RMSE3=np.append(RMSE3,mean_squared_error(training_r_copy3[\"total_bill\"], training_r_copy3[\"Bill_Predict\"], squared=False))\n",
    "    \n",
    "print(\"MSE: \", MSE3.mean())\n",
    "print(\"MAE: \",MAE3.mean())\n",
    "print(\"RMSE: \",RMSE3.mean())"
   ]
  },
  {
   "cell_type": "markdown",
   "id": "7d7d8418",
   "metadata": {},
   "source": [
    "##### <span style=\"color:#D8A7B1\"> Attempt 4: Simplifying things with a simple range</span>\n",
    "\n",
    "**Psuedo Code:**\n",
    "\n",
    "\n",
    "\n",
    "<span style=\"color:#55BB99\">**loop through df**</span> \n",
    "\n",
    "    assign each predict to a random range between 7,34\n",
    "\n",
    "\n",
    "\n",
    "**Explanation:**\n",
    "* Sometimes the less features you have can help predict a more accurate result, so I tried using a simple range from 7 to 34 based on the majority of the density in the scatter plot\n",
    "* This lowered the error rate even more"
   ]
  },
  {
   "cell_type": "code",
   "execution_count": 46,
   "id": "2ffdecc9",
   "metadata": {},
   "outputs": [],
   "source": [
    "# get a copy\n",
    "training_r_copy4 = training_r.copy()\n",
    "\n",
    "\"\"\"\n",
    "This function predicts the total bill using a range from 7 to 34\n",
    "\"\"\"\n",
    "def HM_bill_rng(df):\n",
    "    preds = np.zeros(len(df))\n",
    "    for x in range(len(df)):\n",
    "\n",
    "        preds[x]=round(random.uniform(7,34), 2)\n",
    "\n",
    "    return preds\n",
    "\n",
    "# Apply Heuristic\n",
    "training_r_copy4[\"Bill_Predict\"] = HM_bill_rng(training_r_copy4)"
   ]
  },
  {
   "cell_type": "code",
   "execution_count": 47,
   "id": "cb074f23",
   "metadata": {},
   "outputs": [
    {
     "name": "stdout",
     "output_type": "stream",
     "text": [
      "MSE:  138.67254735897433\n",
      "MAE:  9.449997435897435\n",
      "RMSE:  11.76804125743853\n"
     ]
    }
   ],
   "source": [
    "# Run the HM model and calculate the cost 20 times, and get the mean\n",
    "MSE4= np.array([])\n",
    "MAE4=np.array([])\n",
    "RMSE4=np.array([])\n",
    "for i in range(20): \n",
    "    # Apply Heuristic\n",
    "    training_r_copy4[\"Bill_Predict\"] = HM_bill_rng(training_r_copy4)\n",
    "    MSE4=np.append(MSE4,mean_squared_error(training_r_copy4[\"total_bill\"], training_r_copy4[\"Bill_Predict\"]))\n",
    "    MAE4=np.append(MAE4,mean_absolute_error(training_r_copy4[\"total_bill\"], training_r_copy4[\"Bill_Predict\"]))\n",
    "    RMSE4=np.append(RMSE4,mean_squared_error(training_r_copy4[\"total_bill\"], training_r_copy4[\"Bill_Predict\"], squared=False))\n",
    "    \n",
    "print(\"MSE: \", MSE4.mean())\n",
    "print(\"MAE: \",MAE4.mean())\n",
    "print(\"RMSE: \",RMSE4.mean())"
   ]
  },
  {
   "cell_type": "markdown",
   "id": "ab2fd5ab",
   "metadata": {},
   "source": [
    "##### <span style=\"color:#D8A7B1\"> Attempt 5: Using 2 Ranges based on the size, tip and time </span>\n",
    "\n",
    "**Psuedo Code:**\n",
    "\n",
    "\n",
    "\n",
    "<span style=\"color:#55BB99\">**If**</span> the size of the group of people is 4 or less and the tip is 4 or less\n",
    "\n",
    "\n",
    "    Check if its lunch time and divide range by half, otherwise keep the range\n",
    "\n",
    "\n",
    "<span style=\"color:#55BB99\">**Else If**</span>  the size of the group of above 5 and their tips are above 5\n",
    "\n",
    "\n",
    "    Check if its lunch time and divide range by half, otherwise keep the range\n",
    "\n",
    "\n",
    "<span style=\"color:#55BB99\">**Else**</span> use the first range\n",
    "\n",
    "**Explanation:**\n",
    "* Depending on the size of the group and their tips it picks a range. \n",
    "* Then depending on the time if its lunch or dinner, dinner gets the higher end of the randomizer\n",
    "* This has reduced the error"
   ]
  },
  {
   "cell_type": "code",
   "execution_count": 48,
   "id": "f7b26ed3",
   "metadata": {},
   "outputs": [],
   "source": [
    "# get a copy\n",
    "training_r_copy5 = training_r.copy()\n",
    "\n",
    "\"\"\"\n",
    "This function predicts the total bill using a range depending on the size, tip and time respectively\n",
    "If its lunch time then divide the range by 2, otherwise keep it the same\n",
    "\"\"\"\n",
    "def HM_bill_rng_STT(df):\n",
    "    preds = np.zeros(len(df))\n",
    "    range1=[7,20]\n",
    "    range2=[21,34]\n",
    "    for x in range(len(df)):\n",
    "        if(df.iloc[x][\"size\"]<=4)& (df.iloc[x][\"tip\"]<=4):\n",
    "            if(df.iloc[x][\"time\"]=='lunch'):\n",
    "                preds[x]=round(random.uniform(range1[0]/2,range1[1]/2), 2)\n",
    "            else:\n",
    "                preds[x]=round(random.uniform(range1[0],range1[1]), 2)\n",
    "            \n",
    "        elif(df.iloc[x][\"size\"]>=5)& (df.iloc[x][\"tip\"]>=5):\n",
    "            if(df.iloc[x][\"time\"]=='lunch'):\n",
    "                preds[x]=round(random.uniform(range2[0]/2,range2[1]/2), 2)\n",
    "            else:\n",
    "                preds[x]=round(random.uniform(range2[0],range2[1]), 2)\n",
    "        else:\n",
    "            preds[x]=round(random.uniform(range1[0],range1[1]), 2)\n",
    "\n",
    "    return preds\n",
    "\n",
    "# Apply Heuristic\n",
    "training_r_copy5[\"Bill_Predict\"] = HM_bill_rng_STT(training_r_copy5)\n"
   ]
  },
  {
   "cell_type": "code",
   "execution_count": 49,
   "id": "aec55821",
   "metadata": {},
   "outputs": [
    {
     "name": "stdout",
     "output_type": "stream",
     "text": [
      "MSE:  130.0021353333333\n",
      "MAE:  8.354153846153846\n",
      "RMSE:  11.399287809067165\n"
     ]
    }
   ],
   "source": [
    "# Run the HM model and calculate the cost 20 times, and get the mean\n",
    "MSE5= np.array([])\n",
    "MAE5=np.array([])\n",
    "RMSE5=np.array([])\n",
    "for i in range(20): \n",
    "    # Apply Heuristic\n",
    "    training_r_copy5[\"Bill_Predict\"] = HM_bill_rng_STT(training_r_copy5)\n",
    "    MSE5=np.append(MSE5,mean_squared_error(training_r_copy5[\"total_bill\"], training_r_copy5[\"Bill_Predict\"]))\n",
    "    MAE5=np.append(MAE5,mean_absolute_error(training_r_copy5[\"total_bill\"], training_r_copy5[\"Bill_Predict\"]))\n",
    "    RMSE5=np.append(RMSE5,mean_squared_error(training_r_copy5[\"total_bill\"], training_r_copy5[\"Bill_Predict\"], squared=False))\n",
    "    \n",
    "print(\"MSE: \", MSE5.mean())\n",
    "print(\"MAE: \",MAE5.mean())\n",
    "print(\"RMSE: \",RMSE5.mean())"
   ]
  },
  {
   "cell_type": "markdown",
   "id": "aa1efe6f",
   "metadata": {},
   "source": [
    "##### <span style=\"color:#D8A7B1\"> Attempt 6: Using 2 Ranges based on the size, time, tip and day </span>\n",
    "\n",
    "**Psuedo Code:**\n",
    "\n",
    "\n",
    "\n",
    "<span style=\"color:#55BB99\">**If**</span> the size of the group of people is 4 or less\n",
    "\n",
    "\n",
    "     if its lunch time and the tips are 4 or less:\n",
    "         divide range by half\n",
    "     else:\n",
    "         if its Sat OR Sun OR Thur:\n",
    "             increase starting range by 3 times, otherwise keep range the same\n",
    "\n",
    "\n",
    "<span style=\"color:#55BB99\">**Else If**</span>  the size of the group of above 5 \n",
    "\n",
    "\n",
    "     if its lunch time and the tips are 5 or more:\n",
    "         divide range by half\n",
    "     else:\n",
    "         if its Sat OR Sun OR Thur:\n",
    "             increase starting range by 3 times, otherwise keep range the same\n",
    "\n",
    "\n",
    "<span style=\"color:#55BB99\">**Else**</span> use the first range\n",
    "\n",
    "**Explanation:**\n",
    "* Depending on the size of the group it picks a range. \n",
    "* Then depending on the time if its lunch or dinner and the tip amount, dinner gets the higher end of the randomizer\n",
    "* Then depending on if its Sat, Sun, or Thur this increases the starting range by 3 times\n",
    "* This has reduced the error"
   ]
  },
  {
   "cell_type": "code",
   "execution_count": 50,
   "id": "ea5b4951",
   "metadata": {},
   "outputs": [],
   "source": [
    "# get a copy\n",
    "training_r_copy6 = training_r.copy()\n",
    "\n",
    "\"\"\"\n",
    "This function predicts the total bill using a range depending on the size, time tip and day respectively\n",
    "Here I added if its dinner time on sat and sun then increase the min range by the max range divided by 2\n",
    "\"\"\"\n",
    "def HM_bill_rng_STTD(df):\n",
    "    preds = np.zeros(len(df))\n",
    "    range1=[7,20]\n",
    "    range2=[15,34]\n",
    "    for x in range(len(df)):\n",
    "        if(df.iloc[x][\"size\"]<=4):\n",
    "            if(df.iloc[x][\"time\"]=='Lunch')&(df.iloc[x][\"tip\"]<=4):\n",
    "                preds[x]=round(random.uniform(range1[0]/2,range1[1]/2), 2)     \n",
    "            else:\n",
    "                if(df.iloc[x][\"day\"]=='Sat')|(df.iloc[x][\"day\"]=='Sun')|(df.iloc[x][\"day\"]=='Thur'):\n",
    "                    preds[x]=round(random.uniform(range1[0]*3,range1[1]), 2)\n",
    "                else:\n",
    "                    preds[x]=round(random.uniform(range1[0],range1[1]), 2)\n",
    "            \n",
    "        elif(df.iloc[x][\"size\"]>=5):\n",
    "            if(df.iloc[x][\"time\"]=='Lunch')& (df.iloc[x][\"tip\"]>=5):\n",
    "                preds[x]=round(random.uniform(range2[0]/2,range2[1]/2), 2)\n",
    "                \n",
    "            else:\n",
    "                if(df.iloc[x][\"day\"]=='Sat')|(df.iloc[x][\"day\"]=='Sun')|(df.iloc[x][\"day\"]=='Thur'):\n",
    "                    preds[x]=round(random.uniform(range2[0]*3,range2[1]), 2)\n",
    "                else:\n",
    "                    preds[x]=round(random.uniform(range2[0],range2[1]), 2)\n",
    "        else:\n",
    "            preds[x]=round(random.uniform(range1[0],range1[1]), 2)\n",
    "\n",
    "    return preds\n",
    "\n",
    "# Apply Heuristic\n",
    "training_r_copy6[\"Bill_Predict\"] = HM_bill_rng_STTD(training_r_copy6)\n"
   ]
  },
  {
   "cell_type": "code",
   "execution_count": 51,
   "id": "70584b65",
   "metadata": {},
   "outputs": [
    {
     "name": "stdout",
     "output_type": "stream",
     "text": [
      "MSE:  95.22589633333332\n",
      "MAE:  7.791182051282052\n",
      "RMSE:  9.75748372476317\n"
     ]
    }
   ],
   "source": [
    "# Run the HM model and calculate the cost 20 times, and get the mean\n",
    "MSE6= np.array([])\n",
    "MAE6=np.array([])\n",
    "RMSE6=np.array([])\n",
    "for i in range(20): \n",
    "    # Apply Heuristic\n",
    "    training_r_copy6[\"Bill_Predict\"] = HM_bill_rng_STTD(training_r_copy6)\n",
    "    MSE6=np.append(MSE6,mean_squared_error(training_r_copy6[\"total_bill\"], training_r_copy6[\"Bill_Predict\"]))\n",
    "    MAE6=np.append(MAE6,mean_absolute_error(training_r_copy6[\"total_bill\"], training_r_copy6[\"Bill_Predict\"]))\n",
    "    RMSE6=np.append(RMSE6,mean_squared_error(training_r_copy6[\"total_bill\"], training_r_copy6[\"Bill_Predict\"], squared=False))\n",
    "    \n",
    "print(\"MSE: \", MSE6.mean())\n",
    "print(\"MAE: \",MAE6.mean())\n",
    "print(\"RMSE: \",RMSE6.mean())"
   ]
  },
  {
   "cell_type": "markdown",
   "id": "36c284c4",
   "metadata": {},
   "source": [
    "##### <span style=\"color:#D8A7B1\"> Attempt 7: Using the tip and bill mean </span>\n",
    "\n",
    "**Psuedo Code:**\n",
    "\n",
    "\n",
    "\n",
    "<span style=\"color:#55BB99\">**If**</span> tip is 4 or less\n",
    "\n",
    "\n",
    "     get mean of bill where tips are 4 or less and assign to predict\n",
    "\n",
    "\n",
    "<span style=\"color:#55BB99\">**Else If**</span>  tip is between 4.1 and 6\n",
    "\n",
    "\n",
    "     get mean of bill where tips are between 4.1 and 6 and assign to predict\n",
    "\n",
    "\n",
    "<span style=\"color:#55BB99\">**Else If**</span>  tip is between 6.1 and 8\n",
    "\n",
    "\n",
    "     get mean of bill where tips are between 6.1 and 8 and assign to predict\n",
    "\n",
    "\n",
    "<span style=\"color:#55BB99\">**Else**</span> get mean of bill where tips are between 8.1 and 10 and assign to predict\n",
    "\n",
    "**Explanation:**\n",
    "* Assign predictions based on the tips. \n",
    "* Get the mean of the bill for each tip range.\n",
    "* This gave me a better error rate by almost half."
   ]
  },
  {
   "cell_type": "code",
   "execution_count": 52,
   "id": "2b516f7b",
   "metadata": {},
   "outputs": [
    {
     "name": "stdout",
     "output_type": "stream",
     "text": [
      "MSE:  52.62010905106518\n",
      "MAE:  5.529123240411727\n",
      "RMSE:  7.2539719499778315\n"
     ]
    }
   ],
   "source": [
    "# get a copy\n",
    "training_r_copy7 = training_r.copy()\n",
    "\n",
    "\"\"\"\n",
    "This function predicts the total bill using the mean of the bill based on the tip amount\n",
    "\"\"\"\n",
    "def HM_bill_tip_mean(df):\n",
    "    preds = np.zeros(len(df))\n",
    "\n",
    "    for x in range(len(df)):\n",
    "        if(df.iloc[x][\"tip\"]<=4):\n",
    "            preds[x]= df[(df['tip']<=4)]['total_bill'].mean()\n",
    "        elif(df.iloc[x][\"tip\"]>4)& (df.iloc[x][\"tip\"]<=6):\n",
    "            preds[x]= df[(df['tip']>4)&(df['tip']<=6)]['total_bill'].mean()\n",
    "        elif(df.iloc[x][\"tip\"]>6)& (df.iloc[x][\"tip\"]<=8):\n",
    "            preds[x]= df[(df['tip']>6)&(df['tip']<=8)]['total_bill'].mean()\n",
    "        else:\n",
    "            preds[x]= df[(df['tip']>8)&(df['tip']<=10)]['total_bill'].mean()\n",
    "    return preds\n",
    "\n",
    "# Apply Heuristic\n",
    "training_r_copy7[\"Bill_Predict\"] = HM_bill_tip_mean(training_r_copy7)\n",
    "# Cost Functions for the Linear Regression (Tips)\n",
    "print(\"MSE: \", mean_squared_error(training_r_copy7[\"total_bill\"], training_r_copy7[\"Bill_Predict\"]))\n",
    "print(\"MAE: \",mean_absolute_error(training_r_copy7[\"total_bill\"], training_r_copy7[\"Bill_Predict\"]))\n",
    "print(\"RMSE: \",mean_squared_error(training_r_copy7[\"total_bill\"], training_r_copy7[\"Bill_Predict\"], squared=False))"
   ]
  },
  {
   "cell_type": "markdown",
   "id": "396971ff",
   "metadata": {},
   "source": [
    "##### <span style=\"color:#D8A7B1\"> Attempt 8: Using the size and bill mean </span>\n",
    "\n",
    "**Psuedo Code:**\n",
    "\n",
    "n = 1-6\n",
    "\n",
    "<span style=\"color:#55BB99\">**If**</span> size is n \n",
    "\n",
    "\n",
    "     get mean of bill where size is equal to n and assign to predict\n",
    "\n",
    "\n",
    "<span style=\"color:#55BB99\">**Else If**</span>  size is n+1\n",
    "\n",
    "\n",
    "     get mean of bill where size is equal to n+1 and assign to predict\n",
    ".\n",
    ".\n",
    ".\n",
    "\n",
    "\n",
    "<span style=\"color:#55BB99\">**Else**</span> get mean of bill where size is n=6 and assign to predict\n",
    "\n",
    "**Explanation:**\n",
    "* Assign predictions based on the size. \n",
    "* Get the mean of the bill for each size range.\n",
    "* This gave me the best error. "
   ]
  },
  {
   "cell_type": "code",
   "execution_count": 53,
   "id": "b3a755e3",
   "metadata": {},
   "outputs": [
    {
     "name": "stdout",
     "output_type": "stream",
     "text": [
      "MSE:  49.255407584452584\n",
      "MAE:  5.319965893365892\n",
      "RMSE:  7.018219687673832\n"
     ]
    }
   ],
   "source": [
    "# get a copy\n",
    "training_r_copy8 = training_r.copy()\n",
    "\n",
    "\"\"\"\n",
    "This function predicts the total bill using the mean of the bill for each size group\n",
    "\"\"\"\n",
    "def HM_bill_size_mean(df):\n",
    "    preds = np.zeros(len(df))\n",
    "\n",
    "    for x in range(len(df)):\n",
    "        if(df.iloc[x][\"size\"]==1):\n",
    "            preds[x]= df[(df['size']==1)]['total_bill'].mean()\n",
    "        elif(df.iloc[x][\"size\"]==2):\n",
    "            preds[x]= df[(df['size']==2)]['total_bill'].mean()\n",
    "        elif(df.iloc[x][\"size\"]==3):\n",
    "            preds[x]= df[(df['size']==3)]['total_bill'].mean()\n",
    "        elif(df.iloc[x][\"size\"]==4):\n",
    "            preds[x]= df[(df['size']==4)]['total_bill'].mean()\n",
    "        elif(df.iloc[x][\"size\"]==5):\n",
    "            preds[x]= df[(df['size']==5)]['total_bill'].mean()\n",
    "        else:\n",
    "            preds[x]= df[(df['size']==6)]['total_bill'].mean()\n",
    "    return preds\n",
    "\n",
    "# Apply Heuristic\n",
    "training_r_copy8[\"Bill_Predict\"] = HM_bill_size_mean(training_r_copy8)\n",
    "# Cost Functions for the Linear Regression (Tips)\n",
    "print(\"MSE: \", mean_squared_error(training_r_copy8[\"total_bill\"], training_r_copy8[\"Bill_Predict\"]))\n",
    "print(\"MAE: \",mean_absolute_error(training_r_copy8[\"total_bill\"], training_r_copy8[\"Bill_Predict\"]))\n",
    "print(\"RMSE: \",mean_squared_error(training_r_copy8[\"total_bill\"], training_r_copy8[\"Bill_Predict\"], squared=False))"
   ]
  },
  {
   "cell_type": "markdown",
   "id": "f170c101",
   "metadata": {},
   "source": [
    "##### <span style=\"color:#D8A7B1\"> Attempt 9: Using the tip and bill mean but adding Day conditions</span>\n",
    "\n",
    "**Psuedo Code:**\n",
    "\n",
    "\n",
    "\n",
    "<span style=\"color:#55BB99\">**If**</span> tip is 4 or less\n",
    "\n",
    "     If its Sun/Sat/Thur\n",
    "         get mean of bill where tips are 4 or less and the day is Sun/Sat/Thur and assign to predict\n",
    "     else\n",
    "         get mean of bill where tips are 4 or less and assign to predict\n",
    "\n",
    "\n",
    "<span style=\"color:#55BB99\">**Else If**</span>  tip is between 4.1 and 6\n",
    "\n",
    "     If its Sun/Sat/Thur\n",
    "     get mean of bill where tips are between 4.1 and 6 and the day is Sun/Sat/Thur and assign to predict\n",
    "     else\n",
    "        get mean of bill where tips are between 4.1 and 6 and assign to predict\n",
    "<span style=\"color:#55BB99\">**Else If**</span>  tip is between 6.1 and 8\n",
    "\n",
    "     If its Sun/Sat/Thur\n",
    "     get mean of bill where tips are between 6.1 and 8 and the day is Sun/Sat/Thur and assign to predict\n",
    "     else\n",
    "        get mean of bill where tips are between 6.1 and 8 and assign to predict\n",
    "        \n",
    "<span style=\"color:#55BB99\">**Else**</span> \n",
    "\n",
    "      If its Sun/Sat/Thur\n",
    "          get mean of bill where tips are between 8.1 and 10 and the day is Sun/Sat/Thur and assign to predict\n",
    "      else\n",
    "         get mean of bill where tips are between 8.1 and 10 and assign to predict\n",
    "     \n",
    "     \n",
    "**Explanation:**\n",
    "* Assign predictions based on the tips and day. \n",
    "* Get the mean of the bill for each tip range based on the day.\n",
    "* This gave me a slightly worse error rate then by using the size."
   ]
  },
  {
   "cell_type": "code",
   "execution_count": 54,
   "id": "8f0ba7cd",
   "metadata": {},
   "outputs": [
    {
     "name": "stdout",
     "output_type": "stream",
     "text": [
      "MSE:  53.78248066801965\n",
      "MAE:  5.6255921048805915\n",
      "RMSE:  7.3336539779307595\n"
     ]
    }
   ],
   "source": [
    "# get a copy\n",
    "training_r_copy9 = training_r.copy()\n",
    "\n",
    "\"\"\"\n",
    "This function predicts the total bill using the mean of the bill \n",
    "the mean is taken for subsets based on the conditions of the tip and day\n",
    "\"\"\"\n",
    "def HM_bill_tipD_mean(df):\n",
    "    preds = np.zeros(len(df))\n",
    "\n",
    "    for x in range(len(df)):\n",
    "        if(df.iloc[x][\"tip\"]<=4):\n",
    "            if(df.iloc[x][\"day\"]=='Sat')|(df.iloc[x][\"day\"]=='Sun')|(df.iloc[x][\"day\"]=='Thur'):\n",
    "                preds[x]= df[(df['tip']<=4)]['total_bill'].mean()         \n",
    "            else:\n",
    "                preds[x]= df[(df['tip']<=4)]['total_bill'].mean()\n",
    "        elif(df.iloc[x][\"tip\"]>4)& (df.iloc[x][\"tip\"]<=6):\n",
    "            if(df.iloc[x][\"day\"]=='Sat')|(df.iloc[x][\"day\"]=='Sun')|(df.iloc[x][\"day\"]=='Thur'):\n",
    "                preds[x]= df[(df['tip']>4)&(df['tip']<=6)]['total_bill'].mean()\n",
    "            else: \n",
    "                preds[x]= df[(df['tip']>4)&(df['tip']<=6)]['total_bill'].mean()\n",
    "        elif(df.iloc[x][\"tip\"]>6)& (df.iloc[x][\"tip\"]<=8):\n",
    "            if(df.iloc[x][\"day\"]=='Sat')|(df.iloc[x][\"day\"]=='Sun')|(df.iloc[x][\"day\"]=='Thur'):\n",
    "                preds[x]= df[(df['tip']>6)&(df['tip']<=8)]['total_bill'].mean()\n",
    "            else: \n",
    "                preds[x]= df[(df['tip']>6)&(df['tip']<=8)]['total_bill'].mean()\n",
    "        else:\n",
    "            if(df.iloc[x][\"day\"]=='Sat')|(df.iloc[x][\"day\"]=='Sun')|(df.iloc[x][\"day\"]=='Thur'):\n",
    "                preds[x]= df[(df['tip']>6)&(df['tip']<=10)]['total_bill'].mean()\n",
    "            else:\n",
    "                preds[x]= df[(df['tip']>6)&(df['tip']<=10)]['total_bill'].mean()\n",
    "    return preds\n",
    "\n",
    "# Apply Heuristic\n",
    "training_r_copy9[\"Bill_Predict\"] = HM_bill_tipD_mean(training_r_copy9)\n",
    "# Cost Functions for the Linear Regression (Tips)\n",
    "print(\"MSE: \", mean_squared_error(training_r_copy9[\"total_bill\"], training_r_copy9[\"Bill_Predict\"]))\n",
    "print(\"MAE: \",mean_absolute_error(training_r_copy9[\"total_bill\"], training_r_copy9[\"Bill_Predict\"]))\n",
    "print(\"RMSE: \",mean_squared_error(training_r_copy9[\"total_bill\"], training_r_copy9[\"Bill_Predict\"], squared=False))"
   ]
  },
  {
   "cell_type": "markdown",
   "id": "d1fcbea0",
   "metadata": {},
   "source": [
    "##### <span style=\"color:#D8A7B1\"> Attempt 10-11: Using the day or time and bill mean</span>\n",
    "\n",
    "**Psuedo Code:**\n",
    "\n",
    "\n",
    "\n",
    "<span style=\"color:#55BB99\">**If**</span> day is Thur\n",
    "\n",
    "         get mean of bill where day is Thur and assign to predict\n",
    "\n",
    "<span style=\"color:#55BB99\">**Else If**</span>  day is Fri\n",
    "\n",
    "     get mean of bill where day is Fri and assign to predict\n",
    "\n",
    "<span style=\"color:#55BB99\">**Else If**</span>  day is Sat\n",
    "\n",
    "     get mean of bill where day is Sat and assign to predict\n",
    "     \n",
    "<span style=\"color:#55BB99\">**Else If**</span>  day is Sun\n",
    "\n",
    "     get mean of bill where day is Sun and assign to predict\n",
    "     \n",
    "     \n",
    "**Explanation:**\n",
    "* Assign predictions based on the day. \n",
    "* Get the mean of the bill for each day.\n",
    "* This gave me a worse error rate.\n",
    "* **Note**: I tried this with day and also with time (lunch and dinner) but they both gave me the same result"
   ]
  },
  {
   "cell_type": "code",
   "execution_count": 55,
   "id": "dab99fa7",
   "metadata": {},
   "outputs": [
    {
     "name": "stdout",
     "output_type": "stream",
     "text": [
      "MSE:  72.79309609383434\n",
      "MAE:  6.693835444548887\n",
      "RMSE:  8.531887018346781\n"
     ]
    }
   ],
   "source": [
    "# get a copy\n",
    "training_r_copy10 = training_r.copy()\n",
    "\n",
    "\"\"\"\n",
    "This function predicts the total bill using the mean of the bill of each day\n",
    "\"\"\"\n",
    "def HM_bill_day_mean(df):\n",
    "    preds = np.zeros(len(df))\n",
    "\n",
    "    for x in range(len(df)):\n",
    "        if(df.iloc[x][\"day\"]==\"Thur\"):\n",
    "            preds[x]= df[(df[\"day\"]==\"Thur\")]['total_bill'].mean()\n",
    "        elif(df.iloc[x][\"day\"]==\"Fri\"):\n",
    "            preds[x]= df[(df[\"day\"]==\"Fri\")]['total_bill'].mean()\n",
    "        elif(df.iloc[x][\"day\"]==\"Sat\"):\n",
    "            preds[x]= df[(df[\"day\"]==\"Sat\")]['total_bill'].mean()\n",
    "        elif(df.iloc[x][\"day\"]==\"Sun\"):\n",
    "            preds[x]= df[(df[\"day\"]==\"Sun\")]['total_bill'].mean()\n",
    "    return preds\n",
    "\n",
    "# Apply Heuristic\n",
    "training_r_copy10[\"Bill_Predict\"] = HM_bill_day_mean(training_r_copy10)\n",
    "# Cost Functions for the Linear Regression (Tips)\n",
    "print(\"MSE: \", mean_squared_error(training_r_copy10[\"total_bill\"], training_r_copy10[\"Bill_Predict\"]))\n",
    "print(\"MAE: \",mean_absolute_error(training_r_copy10[\"total_bill\"], training_r_copy10[\"Bill_Predict\"]))\n",
    "print(\"RMSE: \",mean_squared_error(training_r_copy10[\"total_bill\"], training_r_copy10[\"Bill_Predict\"], squared=False))\n",
    "\n",
    "# I tried day and time and got on both: \n",
    "\n",
    "#MSE:  72.79309609383434\n",
    "#MAE:  6.693835444548887\n",
    "#RMSE:  8.531887018346781\n"
   ]
  },
  {
   "cell_type": "markdown",
   "id": "9aeb1724",
   "metadata": {},
   "source": [
    "### <span style=\"color:#55BB99\">3. Comparing all 10 iterations of the regression HM</span>\n",
    "\n",
    "\n",
    "| Attempt| Func Name | Cost Results | Conditions|\n",
    "| :--------| :----------- |:-----------  |:-----------  |\n",
    "| 1   | HM_bill_rng_D       |MSE:  **228.431**<br>MAE: **12.165**<br>RMSE:  **15.098**|1)Get the range of bill for each day and randomize the prediction between that range.|\n",
    "| 2   | HM_bill_rng_DT        |MSE:  **345.243**<br>MAE: **15.880**<br>RMSE:  **18.578** |1)If its Dinner time then I want the randomizer to pick from the higher side of the range specified, therefore I made it start from the min + max/2 and end at the max to shift it to start from the middle to the highest.<br>2)If its Lunch time randomize from the normal range.<br>3)However this increased the error. |\n",
    "| 3   | HM_bill_rng_DT_35        |MSE:  **187.593**<br>MAE: **11.816**<br>RMSE:  **13.694** |1) After investigating the previous attempt it was due to some outliers as we saw in the scatter plot, so I reduced all the ranges max to be 35 which drastically improved the mode.|\n",
    "| 4   | HM_bill_rng        |MSE:  **137.807**<br>MAE: **9.437**<br>RMSE:  **11.732** |1) Sometimes the less features you have can help predict a more accurate result, so I tried using a simple range from 7 to 34 based on the majority of the density in the scatter plot.<br>2) This lowered the error rate even more.|\n",
    "| 5   | HM_bill_rng_STT        |MSE:  **134.342**<br>MAE: **8.511**<br>RMSE:  **11.588** |1) Depending on the size of the group and their tips it picks a range.<br> 2) Then depending on the time if its lunch or dinner, dinner gets the higher end of the randomizer.<br>3) This has reduced the error.|\n",
    "| 6   | HM_bill_rng_STTD        |MSE:  **94.269**<br>MAE: **7.753**<br>RMSE:  **9.708** |1) Depending on the size of the group it picks a range.<br>2) Then depending on the time if its lunch or dinner and the tip amount, dinner gets the higher end of the randomizer.<br>3) Then depending on if its Sat, Sun, or Thur this increases the starting range by 3 times.<br>4) This has reduced the error.|\n",
    "| 7   | HM_bill_tip_mean        |MSE:  **52.620**<br>MAE: **5.529**<br>RMSE:  **7.253** |1) Assign predictions based on the tips.<br> 2) Get the mean of the bill for each tip range.<br>3) This gave me a better error rate by almost half.|\n",
    "| 8   | HM_bill_size_mean        |MSE:  **49.255**<br>MAE: **5.319**<br>RMSE:  **7.018** |1) Assign predictions based on the size.<br> 2) Get the mean of the bill for each size range.<br>3) This gave me the best error.|\n",
    "| 9   | HM_bill_tipD_mean        |MSE:  **53.782**<br>MAE: **5.625**<br>RMSE:  **7.333** |1) Assign predictions based on the tips and day.<br> 2) Get the mean of the bill for each tip range based on the day.<br>3) This gave me a slightly worse error rate then by using the size.|\n",
    "| 10   | HM_bill_day_mean       |MSE:  **72.793**<br>MAE: **6.693**<br>RMSE:  **8.531** |1) Assign predictions based on the day.<br> 2) Get the mean of the bill for each day.<br>3) This gave me a worse error rate.<br>4) **Note**: I tried this with day and also with time (lunch and dinner) but they both gave me the same result.|\n",
    "\n",
    "\n",
    "**And the winner is Attempt 8, HM_bill_size_mean!**\n",
    "\n",
    "<img align=\"center\" src=\"./gifs/yay2.gif\"> "
   ]
  },
  {
   "cell_type": "markdown",
   "id": "1f45a415",
   "metadata": {},
   "source": [
    "### <span style=\"color:#55BB99\">4. Testing Regression Model using Test split</span>"
   ]
  },
  {
   "cell_type": "code",
   "execution_count": 56,
   "id": "312f6bba",
   "metadata": {},
   "outputs": [
    {
     "name": "stdout",
     "output_type": "stream",
     "text": [
      "MSE:  36.802662857142856\n",
      "MAE:  4.397632653061224\n",
      "RMSE:  6.0665198307714165\n"
     ]
    }
   ],
   "source": [
    "testing_r_copy1= testing_r.copy()\n",
    "# Apply Heuristic\n",
    "testing_r_copy1[\"Bill_Predict\"] = HM_bill_size_mean(testing_r_copy1)\n",
    "# Cost Functions for the Linear Regression (Tips)\n",
    "print(\"MSE: \", mean_squared_error(testing_r_copy1[\"total_bill\"], testing_r_copy1[\"Bill_Predict\"]))\n",
    "print(\"MAE: \",mean_absolute_error(testing_r_copy1[\"total_bill\"], testing_r_copy1[\"Bill_Predict\"]))\n",
    "print(\"RMSE: \",mean_squared_error(testing_r_copy1[\"total_bill\"], testing_r_copy1[\"Bill_Predict\"], squared=False))"
   ]
  },
  {
   "cell_type": "markdown",
   "id": "1bf9c857",
   "metadata": {},
   "source": [
    "### <span style=\"color:#55BB99\">5. Baseline Model for Regression</span>"
   ]
  },
  {
   "cell_type": "code",
   "execution_count": 57,
   "id": "a4ef946e",
   "metadata": {},
   "outputs": [
    {
     "name": "stdout",
     "output_type": "stream",
     "text": [
      "MSE:  76.52728031558186\n",
      "MAE:  6.874303747534518\n",
      "RMSE:  8.747987215101647\n"
     ]
    }
   ],
   "source": [
    "# get a copy\n",
    "training_r_copy11 = training_r.copy()\n",
    "\n",
    "\"\"\"\n",
    "This function predicts the total bill using a range depending on the day\n",
    "Here I added if its dinner time on sat and sun then increase the min range by the max range divided by 2\n",
    "\"\"\"\n",
    "def heuristic_bill_mean(df):\n",
    "    preds = np.zeros(len(df))\n",
    "\n",
    "    for x in range(len(df)):\n",
    "        preds[x]= df[\"total_bill\"].mean()       \n",
    "\n",
    "    return preds\n",
    "\n",
    "# Apply Heuristic\n",
    "training_r_copy11[\"Bill_Predict\"] = heuristic_bill_mean(training_r_copy11)\n",
    "# Cost Functions for the Linear Regression (Tips)\n",
    "print(\"MSE: \", mean_squared_error(training_r_copy11[\"total_bill\"], training_r_copy11[\"Bill_Predict\"]))\n",
    "print(\"MAE: \",mean_absolute_error(training_r_copy11[\"total_bill\"], training_r_copy11[\"Bill_Predict\"]))\n",
    "print(\"RMSE: \",mean_squared_error(training_r_copy11[\"total_bill\"], training_r_copy11[\"Bill_Predict\"], squared=False))"
   ]
  },
  {
   "cell_type": "markdown",
   "id": "480c82a4",
   "metadata": {},
   "source": [
    "### <span style=\"color:#55BB99\">6. Our Regression HM VS. Linear Regression</span>"
   ]
  },
  {
   "cell_type": "code",
   "execution_count": 58,
   "id": "930dcd36",
   "metadata": {},
   "outputs": [
    {
     "name": "stdout",
     "output_type": "stream",
     "text": [
      "Scikit's Linear Regression Score results:\n",
      "MSE:  29.823562131061887\n",
      "MAE:  3.9615317233591942\n",
      "RMSE:  5.461095323381738\n",
      "\n",
      "Power Puff Girl's Regression Score results:\n",
      "MSE:  36.802662857142856\n",
      "MAE:  4.397632653061224\n",
      "RMSE:  6.0665198307714165\n"
     ]
    }
   ],
   "source": [
    "# Linear Regression from Scikit Learn\n",
    "\n",
    "print(\"Scikit's Linear Regression Score results:\")\n",
    "# Cost Functions for the Linear Regression (Tips)\n",
    "print(\"MSE: \", mean_squared_error(y_test_r, y_pred_r))\n",
    "print(\"MAE: \",mean_absolute_error(y_test_r, y_pred_r))       \n",
    "print(\"RMSE: \",mean_squared_error(y_test_r, y_pred_r, squared=False))\n",
    "\n",
    "print(\"\\nPower Puff Girl's Regression Score results:\")\n",
    "# Apply Heuristic\n",
    "testing_r_copy1[\"Bill_Predict\"] = HM_bill_size_mean(testing_r_copy1)\n",
    "# Cost Functions for the Linear Regression (Tips)\n",
    "print(\"MSE: \", mean_squared_error(testing_r_copy1[\"total_bill\"], testing_r_copy1[\"Bill_Predict\"]))\n",
    "print(\"MAE: \",mean_absolute_error(testing_r_copy1[\"total_bill\"], testing_r_copy1[\"Bill_Predict\"]))\n",
    "print(\"RMSE: \",mean_squared_error(testing_r_copy1[\"total_bill\"], testing_r_copy1[\"Bill_Predict\"], squared=False))"
   ]
  },
  {
   "cell_type": "markdown",
   "id": "317b75c3",
   "metadata": {},
   "source": [
    "<img align=\"center\" src=\"./gifs/end.gif\"> "
   ]
  }
 ],
 "metadata": {
  "kernelspec": {
   "display_name": "Python 3",
   "language": "python",
   "name": "python3"
  },
  "language_info": {
   "codemirror_mode": {
    "name": "ipython",
    "version": 3
   },
   "file_extension": ".py",
   "mimetype": "text/x-python",
   "name": "python",
   "nbconvert_exporter": "python",
   "pygments_lexer": "ipython3",
   "version": "3.8.8"
  }
 },
 "nbformat": 4,
 "nbformat_minor": 5
}
