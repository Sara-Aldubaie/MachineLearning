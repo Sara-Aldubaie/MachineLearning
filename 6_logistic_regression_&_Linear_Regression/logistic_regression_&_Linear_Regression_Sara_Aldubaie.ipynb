{
 "cells": [
  {
   "cell_type": "markdown",
   "id": "33a84eb7",
   "metadata": {},
   "source": [
    "<img align=\"right\" width=\"200\" height=\"200\" src=\"https://static.wikia.nocookie.net/lego/images/2/23/PPG_logo.png\">\n",
    "\n",
    "# <span style=\"color:#EF7C8E\">Logistic regression & Linear Regression (Option 2)</span>\n",
    "### <span style=\"color:#726060\"> Sara Aldubaie</span>\n",
    "<hr style=\"border:2px solid gray\"> </hr>"
   ]
  },
  {
   "cell_type": "code",
   "execution_count": 1,
   "id": "3b99fc0c",
   "metadata": {},
   "outputs": [],
   "source": [
    "import numpy as np\n",
    "import pandas as pd\n",
    "import seaborn as sns\n",
    "import matplotlib.pyplot as plt\n",
    "import math\n",
    "\n",
    "from sklearn.model_selection import train_test_split\n",
    "from sklearn.linear_model import LinearRegression\n",
    "from sklearn.linear_model import LogisticRegression\n",
    "\n",
    "from sklearn.metrics import accuracy_score\n",
    "from sklearn.metrics import recall_score\n",
    "from sklearn.metrics import precision_score\n",
    "\n",
    "from sklearn.preprocessing import KBinsDiscretizer\n",
    "\n",
    "from sklearn.preprocessing import OneHotEncoder\n",
    "from sklearn.preprocessing import OrdinalEncoder\n",
    "\n",
    "from sklearn.preprocessing import StandardScaler\n",
    "\n",
    "from sklearn.metrics import confusion_matrix\n",
    "from sklearn.metrics import plot_confusion_matrix\n",
    "\n",
    "from sklearn.metrics import r2_score\n"
   ]
  },
  {
   "cell_type": "code",
   "execution_count": 2,
   "id": "ef290864",
   "metadata": {
    "scrolled": true
   },
   "outputs": [
    {
     "data": {
      "text/html": [
       "<div>\n",
       "<style scoped>\n",
       "    .dataframe tbody tr th:only-of-type {\n",
       "        vertical-align: middle;\n",
       "    }\n",
       "\n",
       "    .dataframe tbody tr th {\n",
       "        vertical-align: top;\n",
       "    }\n",
       "\n",
       "    .dataframe thead th {\n",
       "        text-align: right;\n",
       "    }\n",
       "</style>\n",
       "<table border=\"1\" class=\"dataframe\">\n",
       "  <thead>\n",
       "    <tr style=\"text-align: right;\">\n",
       "      <th></th>\n",
       "      <th>total_bill</th>\n",
       "      <th>tip</th>\n",
       "      <th>sex</th>\n",
       "      <th>smoker</th>\n",
       "      <th>day</th>\n",
       "      <th>time</th>\n",
       "      <th>size</th>\n",
       "    </tr>\n",
       "  </thead>\n",
       "  <tbody>\n",
       "    <tr>\n",
       "      <th>0</th>\n",
       "      <td>16.99</td>\n",
       "      <td>1.01</td>\n",
       "      <td>Female</td>\n",
       "      <td>No</td>\n",
       "      <td>Sun</td>\n",
       "      <td>Dinner</td>\n",
       "      <td>2</td>\n",
       "    </tr>\n",
       "    <tr>\n",
       "      <th>1</th>\n",
       "      <td>10.34</td>\n",
       "      <td>1.66</td>\n",
       "      <td>Male</td>\n",
       "      <td>No</td>\n",
       "      <td>Sun</td>\n",
       "      <td>Dinner</td>\n",
       "      <td>3</td>\n",
       "    </tr>\n",
       "    <tr>\n",
       "      <th>2</th>\n",
       "      <td>21.01</td>\n",
       "      <td>3.50</td>\n",
       "      <td>Male</td>\n",
       "      <td>No</td>\n",
       "      <td>Sun</td>\n",
       "      <td>Dinner</td>\n",
       "      <td>3</td>\n",
       "    </tr>\n",
       "    <tr>\n",
       "      <th>3</th>\n",
       "      <td>23.68</td>\n",
       "      <td>3.31</td>\n",
       "      <td>Male</td>\n",
       "      <td>No</td>\n",
       "      <td>Sun</td>\n",
       "      <td>Dinner</td>\n",
       "      <td>2</td>\n",
       "    </tr>\n",
       "    <tr>\n",
       "      <th>4</th>\n",
       "      <td>24.59</td>\n",
       "      <td>3.61</td>\n",
       "      <td>Female</td>\n",
       "      <td>No</td>\n",
       "      <td>Sun</td>\n",
       "      <td>Dinner</td>\n",
       "      <td>4</td>\n",
       "    </tr>\n",
       "  </tbody>\n",
       "</table>\n",
       "</div>"
      ],
      "text/plain": [
       "   total_bill   tip     sex smoker  day    time  size\n",
       "0       16.99  1.01  Female     No  Sun  Dinner     2\n",
       "1       10.34  1.66    Male     No  Sun  Dinner     3\n",
       "2       21.01  3.50    Male     No  Sun  Dinner     3\n",
       "3       23.68  3.31    Male     No  Sun  Dinner     2\n",
       "4       24.59  3.61  Female     No  Sun  Dinner     4"
      ]
     },
     "execution_count": 2,
     "metadata": {},
     "output_type": "execute_result"
    }
   ],
   "source": [
    "df = sns.load_dataset(\"tips\")\n",
    "\n",
    "df.head()"
   ]
  },
  {
   "cell_type": "code",
   "execution_count": 3,
   "id": "0975c101",
   "metadata": {},
   "outputs": [
    {
     "data": {
      "text/plain": [
       "total_bill    0\n",
       "tip           0\n",
       "sex           0\n",
       "smoker        0\n",
       "day           0\n",
       "time          0\n",
       "size          0\n",
       "dtype: int64"
      ]
     },
     "execution_count": 3,
     "metadata": {},
     "output_type": "execute_result"
    }
   ],
   "source": [
    "df.isnull().sum()"
   ]
  },
  {
   "cell_type": "code",
   "execution_count": 4,
   "id": "73bb37db",
   "metadata": {},
   "outputs": [
    {
     "data": {
      "text/html": [
       "<div>\n",
       "<style scoped>\n",
       "    .dataframe tbody tr th:only-of-type {\n",
       "        vertical-align: middle;\n",
       "    }\n",
       "\n",
       "    .dataframe tbody tr th {\n",
       "        vertical-align: top;\n",
       "    }\n",
       "\n",
       "    .dataframe thead th {\n",
       "        text-align: right;\n",
       "    }\n",
       "</style>\n",
       "<table border=\"1\" class=\"dataframe\">\n",
       "  <thead>\n",
       "    <tr style=\"text-align: right;\">\n",
       "      <th></th>\n",
       "      <th>total_bill</th>\n",
       "      <th>tip</th>\n",
       "      <th>sex</th>\n",
       "      <th>smoker</th>\n",
       "      <th>day</th>\n",
       "      <th>time</th>\n",
       "      <th>size</th>\n",
       "      <th>tips_groups</th>\n",
       "    </tr>\n",
       "  </thead>\n",
       "  <tbody>\n",
       "    <tr>\n",
       "      <th>0</th>\n",
       "      <td>16.99</td>\n",
       "      <td>1.01</td>\n",
       "      <td>Female</td>\n",
       "      <td>No</td>\n",
       "      <td>Sun</td>\n",
       "      <td>Dinner</td>\n",
       "      <td>2</td>\n",
       "      <td>0.0</td>\n",
       "    </tr>\n",
       "    <tr>\n",
       "      <th>1</th>\n",
       "      <td>10.34</td>\n",
       "      <td>1.66</td>\n",
       "      <td>Male</td>\n",
       "      <td>No</td>\n",
       "      <td>Sun</td>\n",
       "      <td>Dinner</td>\n",
       "      <td>3</td>\n",
       "      <td>0.0</td>\n",
       "    </tr>\n",
       "    <tr>\n",
       "      <th>2</th>\n",
       "      <td>21.01</td>\n",
       "      <td>3.50</td>\n",
       "      <td>Male</td>\n",
       "      <td>No</td>\n",
       "      <td>Sun</td>\n",
       "      <td>Dinner</td>\n",
       "      <td>3</td>\n",
       "      <td>1.0</td>\n",
       "    </tr>\n",
       "    <tr>\n",
       "      <th>3</th>\n",
       "      <td>23.68</td>\n",
       "      <td>3.31</td>\n",
       "      <td>Male</td>\n",
       "      <td>No</td>\n",
       "      <td>Sun</td>\n",
       "      <td>Dinner</td>\n",
       "      <td>2</td>\n",
       "      <td>1.0</td>\n",
       "    </tr>\n",
       "    <tr>\n",
       "      <th>4</th>\n",
       "      <td>24.59</td>\n",
       "      <td>3.61</td>\n",
       "      <td>Female</td>\n",
       "      <td>No</td>\n",
       "      <td>Sun</td>\n",
       "      <td>Dinner</td>\n",
       "      <td>4</td>\n",
       "      <td>1.0</td>\n",
       "    </tr>\n",
       "  </tbody>\n",
       "</table>\n",
       "</div>"
      ],
      "text/plain": [
       "   total_bill   tip     sex smoker  day    time  size  tips_groups\n",
       "0       16.99  1.01  Female     No  Sun  Dinner     2          0.0\n",
       "1       10.34  1.66    Male     No  Sun  Dinner     3          0.0\n",
       "2       21.01  3.50    Male     No  Sun  Dinner     3          1.0\n",
       "3       23.68  3.31    Male     No  Sun  Dinner     2          1.0\n",
       "4       24.59  3.61  Female     No  Sun  Dinner     4          1.0"
      ]
     },
     "execution_count": 4,
     "metadata": {},
     "output_type": "execute_result"
    }
   ],
   "source": [
    "# Bin the tip column into 3 bins\n",
    "\n",
    "binner = KBinsDiscretizer(\n",
    "    n_bins = 3, # how many bins to create from continuous variable\n",
    "    encode=\"ordinal\", # how to encode \n",
    "    strategy=\"kmeans\" # how to create the bins\n",
    ")\n",
    "\n",
    "# Create a new column with binned values\n",
    "df[\"tips_groups\"] = binner.fit_transform(df[[\"tip\"]])\n",
    "\n",
    "\n",
    "df.head()"
   ]
  },
  {
   "cell_type": "code",
   "execution_count": 5,
   "id": "e69563e9",
   "metadata": {},
   "outputs": [],
   "source": [
    "#df['tips_groups'] = df['tips_groups'].replace(to_replace = 0.0,value = 'Bad Tipper')\n",
    "#df['tips_groups'] = df['tips_groups'].replace(to_replace = 1.0,value = 'Good Tipper')\n",
    "#df['tips_groups'] = df['tips_groups'].replace(to_replace = 2.0,value = 'Excellent Tipper')\n",
    "\n",
    "#df.head(7)"
   ]
  },
  {
   "cell_type": "code",
   "execution_count": 6,
   "id": "09391cd2",
   "metadata": {},
   "outputs": [
    {
     "data": {
      "text/plain": [
       "<seaborn.axisgrid.PairGrid at 0x188c534c190>"
      ]
     },
     "execution_count": 6,
     "metadata": {},
     "output_type": "execute_result"
    },
    {
     "data": {
      "image/png": "[encoded data removed]",
      "text/plain": [
       "<Figure size 720x720 with 20 Axes>"
      ]
     },
     "metadata": {
      "needs_background": "light"
     },
     "output_type": "display_data"
    }
   ],
   "source": [
    "sns.pairplot(df)"
   ]
  },
  {
   "cell_type": "code",
   "execution_count": 7,
   "id": "6e97ec51",
   "metadata": {},
   "outputs": [
    {
     "data": {
      "text/html": [
       "<style  type=\"text/css\" >\n",
       "#T_83b7f_row0_col0,#T_83b7f_row1_col1,#T_83b7f_row2_col2,#T_83b7f_row3_col3{\n",
       "            background-color:  #b40426;\n",
       "            color:  #f1f1f1;\n",
       "        }#T_83b7f_row0_col1{\n",
       "            background-color:  #b5cdfa;\n",
       "            color:  #000000;\n",
       "        }#T_83b7f_row0_col2{\n",
       "            background-color:  #aac7fd;\n",
       "            color:  #000000;\n",
       "        }#T_83b7f_row0_col3{\n",
       "            background-color:  #90b2fe;\n",
       "            color:  #000000;\n",
       "        }#T_83b7f_row1_col0{\n",
       "            background-color:  #96b7ff;\n",
       "            color:  #000000;\n",
       "        }#T_83b7f_row1_col2{\n",
       "            background-color:  #6b8df0;\n",
       "            color:  #000000;\n",
       "        }#T_83b7f_row1_col3{\n",
       "            background-color:  #f08b6e;\n",
       "            color:  #000000;\n",
       "        }#T_83b7f_row2_col0{\n",
       "            background-color:  #5977e3;\n",
       "            color:  #000000;\n",
       "        }#T_83b7f_row2_col1,#T_83b7f_row2_col3,#T_83b7f_row3_col0,#T_83b7f_row3_col2{\n",
       "            background-color:  #3b4cc0;\n",
       "            color:  #f1f1f1;\n",
       "        }#T_83b7f_row3_col1{\n",
       "            background-color:  #f59c7d;\n",
       "            color:  #000000;\n",
       "        }</style><table id=\"T_83b7f_\" ><thead>    <tr>        <th class=\"blank level0\" ></th>        <th class=\"col_heading level0 col0\" >total_bill</th>        <th class=\"col_heading level0 col1\" >tip</th>        <th class=\"col_heading level0 col2\" >size</th>        <th class=\"col_heading level0 col3\" >tips_groups</th>    </tr></thead><tbody>\n",
       "                <tr>\n",
       "                        <th id=\"T_83b7f_level0_row0\" class=\"row_heading level0 row0\" >total_bill</th>\n",
       "                        <td id=\"T_83b7f_row0_col0\" class=\"data row0 col0\" >1.000000</td>\n",
       "                        <td id=\"T_83b7f_row0_col1\" class=\"data row0 col1\" >0.675734</td>\n",
       "                        <td id=\"T_83b7f_row0_col2\" class=\"data row0 col2\" >0.598315</td>\n",
       "                        <td id=\"T_83b7f_row0_col3\" class=\"data row0 col3\" >0.553596</td>\n",
       "            </tr>\n",
       "            <tr>\n",
       "                        <th id=\"T_83b7f_level0_row1\" class=\"row_heading level0 row1\" >tip</th>\n",
       "                        <td id=\"T_83b7f_row1_col0\" class=\"data row1 col0\" >0.675734</td>\n",
       "                        <td id=\"T_83b7f_row1_col1\" class=\"data row1 col1\" >1.000000</td>\n",
       "                        <td id=\"T_83b7f_row1_col2\" class=\"data row1 col2\" >0.489299</td>\n",
       "                        <td id=\"T_83b7f_row1_col3\" class=\"data row1 col3\" >0.868589</td>\n",
       "            </tr>\n",
       "            <tr>\n",
       "                        <th id=\"T_83b7f_level0_row2\" class=\"row_heading level0 row2\" >size</th>\n",
       "                        <td id=\"T_83b7f_row2_col0\" class=\"data row2 col0\" >0.598315</td>\n",
       "                        <td id=\"T_83b7f_row2_col1\" class=\"data row2 col1\" >0.489299</td>\n",
       "                        <td id=\"T_83b7f_row2_col2\" class=\"data row2 col2\" >1.000000</td>\n",
       "                        <td id=\"T_83b7f_row2_col3\" class=\"data row2 col3\" >0.395980</td>\n",
       "            </tr>\n",
       "            <tr>\n",
       "                        <th id=\"T_83b7f_level0_row3\" class=\"row_heading level0 row3\" >tips_groups</th>\n",
       "                        <td id=\"T_83b7f_row3_col0\" class=\"data row3 col0\" >0.553596</td>\n",
       "                        <td id=\"T_83b7f_row3_col1\" class=\"data row3 col1\" >0.868589</td>\n",
       "                        <td id=\"T_83b7f_row3_col2\" class=\"data row3 col2\" >0.395980</td>\n",
       "                        <td id=\"T_83b7f_row3_col3\" class=\"data row3 col3\" >1.000000</td>\n",
       "            </tr>\n",
       "    </tbody></table>"
      ],
      "text/plain": [
       "<pandas.io.formats.style.Styler at 0x188c69e3e80>"
      ]
     },
     "execution_count": 7,
     "metadata": {},
     "output_type": "execute_result"
    }
   ],
   "source": [
    "corr = df.corr()\n",
    "corr.style.background_gradient(cmap='coolwarm')"
   ]
  },
  {
   "cell_type": "code",
   "execution_count": 8,
   "id": "a4b6b2ce",
   "metadata": {},
   "outputs": [
    {
     "data": {
      "text/html": [
       "<div>\n",
       "<style scoped>\n",
       "    .dataframe tbody tr th:only-of-type {\n",
       "        vertical-align: middle;\n",
       "    }\n",
       "\n",
       "    .dataframe tbody tr th {\n",
       "        vertical-align: top;\n",
       "    }\n",
       "\n",
       "    .dataframe thead th {\n",
       "        text-align: right;\n",
       "    }\n",
       "</style>\n",
       "<table border=\"1\" class=\"dataframe\">\n",
       "  <thead>\n",
       "    <tr style=\"text-align: right;\">\n",
       "      <th></th>\n",
       "      <th>sex</th>\n",
       "      <th>smoker</th>\n",
       "      <th>day</th>\n",
       "      <th>time</th>\n",
       "    </tr>\n",
       "  </thead>\n",
       "  <tbody>\n",
       "    <tr>\n",
       "      <th>count</th>\n",
       "      <td>244</td>\n",
       "      <td>244</td>\n",
       "      <td>244</td>\n",
       "      <td>244</td>\n",
       "    </tr>\n",
       "    <tr>\n",
       "      <th>unique</th>\n",
       "      <td>2</td>\n",
       "      <td>2</td>\n",
       "      <td>4</td>\n",
       "      <td>2</td>\n",
       "    </tr>\n",
       "    <tr>\n",
       "      <th>top</th>\n",
       "      <td>Male</td>\n",
       "      <td>No</td>\n",
       "      <td>Sat</td>\n",
       "      <td>Dinner</td>\n",
       "    </tr>\n",
       "    <tr>\n",
       "      <th>freq</th>\n",
       "      <td>157</td>\n",
       "      <td>151</td>\n",
       "      <td>87</td>\n",
       "      <td>176</td>\n",
       "    </tr>\n",
       "  </tbody>\n",
       "</table>\n",
       "</div>"
      ],
      "text/plain": [
       "         sex smoker  day    time\n",
       "count    244    244  244     244\n",
       "unique     2      2    4       2\n",
       "top     Male     No  Sat  Dinner\n",
       "freq     157    151   87     176"
      ]
     },
     "execution_count": 8,
     "metadata": {},
     "output_type": "execute_result"
    }
   ],
   "source": [
    "df.describe(exclude=\"number\")"
   ]
  },
  {
   "cell_type": "markdown",
   "id": "9a592b6f",
   "metadata": {},
   "source": [
    "\n",
    "# <span style=\"color:#EF7C8E\">One Hot Encoded</span>"
   ]
  },
  {
   "cell_type": "code",
   "execution_count": 9,
   "id": "113941c9",
   "metadata": {},
   "outputs": [],
   "source": [
    "# Create our One Hot Encoder object\n",
    "one_hot = OneHotEncoder()\n",
    "\n",
    "col_names = ['sex', 'smoker','day', 'time']\n",
    "\n",
    "# One Hot encode the column\n",
    "one_hot_df = one_hot.fit_transform(df[col_names]).toarray()"
   ]
  },
  {
   "cell_type": "code",
   "execution_count": 10,
   "id": "e0f4f4ab",
   "metadata": {},
   "outputs": [],
   "source": [
    "def col_names(one_hot_model):\n",
    "    \n",
    "    \"Create columns names list for one hot encoded feature\"\n",
    "    \n",
    "    column_names = []\n",
    "    \n",
    "    col_names = ['sex', 'smoker','day', 'time']\n",
    "\n",
    "    for y in range(len(one_hot_model.categories_)):\n",
    "        for z in range(len(one_hot_model.categories_[y])):\n",
    "            # print(one_hot.categories_[y][z])\n",
    "            column_names.append(col_names[y]+\"_\"+one_hot_model.categories_[y][z])\n",
    "            \n",
    "    return column_names\n",
    "\n",
    "column_names = col_names(one_hot)"
   ]
  },
  {
   "cell_type": "code",
   "execution_count": 11,
   "id": "e2ed24de",
   "metadata": {},
   "outputs": [],
   "source": [
    "# Cast One Hot Encoded values into a dataframe\n",
    "\n",
    "oh_df = pd.DataFrame(\n",
    "    one_hot_df,\n",
    "    index=df.index,\n",
    "    columns = column_names\n",
    ")"
   ]
  },
  {
   "cell_type": "markdown",
   "id": "1571d5eb",
   "metadata": {},
   "source": [
    "# <span style=\"color:#EF7C8E\">Logistic regression</span>"
   ]
  },
  {
   "cell_type": "code",
   "execution_count": 12,
   "id": "aef5962f",
   "metadata": {},
   "outputs": [],
   "source": [
    "df_new = df.merge(oh_df, on=df.index).set_index(\"key_0\").drop(['sex', 'smoker','day', 'time', 'tip'], axis=1)"
   ]
  },
  {
   "cell_type": "code",
   "execution_count": 13,
   "id": "cff53fbb",
   "metadata": {
    "scrolled": false
   },
   "outputs": [
    {
     "data": {
      "text/html": [
       "<div>\n",
       "<style scoped>\n",
       "    .dataframe tbody tr th:only-of-type {\n",
       "        vertical-align: middle;\n",
       "    }\n",
       "\n",
       "    .dataframe tbody tr th {\n",
       "        vertical-align: top;\n",
       "    }\n",
       "\n",
       "    .dataframe thead th {\n",
       "        text-align: right;\n",
       "    }\n",
       "</style>\n",
       "<table border=\"1\" class=\"dataframe\">\n",
       "  <thead>\n",
       "    <tr style=\"text-align: right;\">\n",
       "      <th></th>\n",
       "      <th>total_bill</th>\n",
       "      <th>size</th>\n",
       "      <th>tips_groups</th>\n",
       "      <th>sex_Female</th>\n",
       "      <th>sex_Male</th>\n",
       "      <th>smoker_No</th>\n",
       "      <th>smoker_Yes</th>\n",
       "      <th>day_Fri</th>\n",
       "      <th>day_Sat</th>\n",
       "      <th>day_Sun</th>\n",
       "      <th>day_Thur</th>\n",
       "      <th>time_Dinner</th>\n",
       "      <th>time_Lunch</th>\n",
       "    </tr>\n",
       "    <tr>\n",
       "      <th>key_0</th>\n",
       "      <th></th>\n",
       "      <th></th>\n",
       "      <th></th>\n",
       "      <th></th>\n",
       "      <th></th>\n",
       "      <th></th>\n",
       "      <th></th>\n",
       "      <th></th>\n",
       "      <th></th>\n",
       "      <th></th>\n",
       "      <th></th>\n",
       "      <th></th>\n",
       "      <th></th>\n",
       "    </tr>\n",
       "  </thead>\n",
       "  <tbody>\n",
       "    <tr>\n",
       "      <th>0</th>\n",
       "      <td>16.99</td>\n",
       "      <td>2</td>\n",
       "      <td>0.0</td>\n",
       "      <td>1.0</td>\n",
       "      <td>0.0</td>\n",
       "      <td>1.0</td>\n",
       "      <td>0.0</td>\n",
       "      <td>0.0</td>\n",
       "      <td>0.0</td>\n",
       "      <td>1.0</td>\n",
       "      <td>0.0</td>\n",
       "      <td>1.0</td>\n",
       "      <td>0.0</td>\n",
       "    </tr>\n",
       "    <tr>\n",
       "      <th>1</th>\n",
       "      <td>10.34</td>\n",
       "      <td>3</td>\n",
       "      <td>0.0</td>\n",
       "      <td>0.0</td>\n",
       "      <td>1.0</td>\n",
       "      <td>1.0</td>\n",
       "      <td>0.0</td>\n",
       "      <td>0.0</td>\n",
       "      <td>0.0</td>\n",
       "      <td>1.0</td>\n",
       "      <td>0.0</td>\n",
       "      <td>1.0</td>\n",
       "      <td>0.0</td>\n",
       "    </tr>\n",
       "    <tr>\n",
       "      <th>2</th>\n",
       "      <td>21.01</td>\n",
       "      <td>3</td>\n",
       "      <td>1.0</td>\n",
       "      <td>0.0</td>\n",
       "      <td>1.0</td>\n",
       "      <td>1.0</td>\n",
       "      <td>0.0</td>\n",
       "      <td>0.0</td>\n",
       "      <td>0.0</td>\n",
       "      <td>1.0</td>\n",
       "      <td>0.0</td>\n",
       "      <td>1.0</td>\n",
       "      <td>0.0</td>\n",
       "    </tr>\n",
       "    <tr>\n",
       "      <th>3</th>\n",
       "      <td>23.68</td>\n",
       "      <td>2</td>\n",
       "      <td>1.0</td>\n",
       "      <td>0.0</td>\n",
       "      <td>1.0</td>\n",
       "      <td>1.0</td>\n",
       "      <td>0.0</td>\n",
       "      <td>0.0</td>\n",
       "      <td>0.0</td>\n",
       "      <td>1.0</td>\n",
       "      <td>0.0</td>\n",
       "      <td>1.0</td>\n",
       "      <td>0.0</td>\n",
       "    </tr>\n",
       "    <tr>\n",
       "      <th>4</th>\n",
       "      <td>24.59</td>\n",
       "      <td>4</td>\n",
       "      <td>1.0</td>\n",
       "      <td>1.0</td>\n",
       "      <td>0.0</td>\n",
       "      <td>1.0</td>\n",
       "      <td>0.0</td>\n",
       "      <td>0.0</td>\n",
       "      <td>0.0</td>\n",
       "      <td>1.0</td>\n",
       "      <td>0.0</td>\n",
       "      <td>1.0</td>\n",
       "      <td>0.0</td>\n",
       "    </tr>\n",
       "  </tbody>\n",
       "</table>\n",
       "</div>"
      ],
      "text/plain": [
       "       total_bill  size  tips_groups  sex_Female  sex_Male  smoker_No  \\\n",
       "key_0                                                                   \n",
       "0           16.99     2          0.0         1.0       0.0        1.0   \n",
       "1           10.34     3          0.0         0.0       1.0        1.0   \n",
       "2           21.01     3          1.0         0.0       1.0        1.0   \n",
       "3           23.68     2          1.0         0.0       1.0        1.0   \n",
       "4           24.59     4          1.0         1.0       0.0        1.0   \n",
       "\n",
       "       smoker_Yes  day_Fri  day_Sat  day_Sun  day_Thur  time_Dinner  \\\n",
       "key_0                                                                 \n",
       "0             0.0      0.0      0.0      1.0       0.0          1.0   \n",
       "1             0.0      0.0      0.0      1.0       0.0          1.0   \n",
       "2             0.0      0.0      0.0      1.0       0.0          1.0   \n",
       "3             0.0      0.0      0.0      1.0       0.0          1.0   \n",
       "4             0.0      0.0      0.0      1.0       0.0          1.0   \n",
       "\n",
       "       time_Lunch  \n",
       "key_0              \n",
       "0             0.0  \n",
       "1             0.0  \n",
       "2             0.0  \n",
       "3             0.0  \n",
       "4             0.0  "
      ]
     },
     "execution_count": 13,
     "metadata": {},
     "output_type": "execute_result"
    }
   ],
   "source": [
    "df_new.head()"
   ]
  },
  {
   "cell_type": "code",
   "execution_count": 14,
   "id": "b57df7d7",
   "metadata": {},
   "outputs": [],
   "source": [
    "# Note: select all columns but the target \n",
    "X = df_new.loc[:, df_new.columns != 'tips_groups']\n",
    "y = df_new.loc[:, 'tips_groups']\n",
    "\n",
    "\n",
    "# Splitting the dataset into the Training set and Test set\n",
    "X_train, X_test, y_train, y_test = train_test_split(X, \n",
    "                                                    y, \n",
    "                                                    train_size = 0.80, \n",
    "                                                    random_state = 42)\n",
    "\n",
    "# Standardize features by removing the mean and scaling to unit variance\n",
    "sc = StandardScaler()\n",
    "\n",
    "X_train = sc.fit_transform(X_train)\n",
    "X_test = sc.transform(X_test)\n",
    "\n",
    "\n",
    "# LogisticRegression\n",
    "classifier = LogisticRegression()\n",
    "classifier.fit(X_train, y_train)\n",
    "y_pred = classifier.predict(X_test)"
   ]
  },
  {
   "cell_type": "code",
   "execution_count": 15,
   "id": "dde0c844",
   "metadata": {
    "scrolled": false
   },
   "outputs": [],
   "source": [
    "test_dataset_log = pd.DataFrame(X_test, columns= ['total_bill' ,'size','sex_Female', 'sex_Male', 'smoker_No', 'smoker_Yes', 'day_Fri', 'day_Sat', 'day_Sun', 'day_Thur', 'time_Dinner', 'time_Lunch'])\n",
    "\n",
    "test_dataset_log['Actual_tip'] = y_test.to_numpy()\n",
    "test_dataset_log['Predict_tip'] = y_pred\n"
   ]
  },
  {
   "cell_type": "code",
   "execution_count": 16,
   "id": "9eee6fde",
   "metadata": {},
   "outputs": [],
   "source": [
    "test_dataset_log['Actual_tip'] = test_dataset_log['Actual_tip'].replace(to_replace = 0.0,value = 'Bad Tipper')\n",
    "test_dataset_log['Actual_tip'] = test_dataset_log['Actual_tip'].replace(to_replace = 1.0,value = 'Good Tipper')\n",
    "test_dataset_log['Actual_tip'] = test_dataset_log['Actual_tip'].replace(to_replace = 2.0,value = 'Excellent Tipper')\n",
    "test_dataset_log['Predict_tip'] = test_dataset_log['Predict_tip'].replace(to_replace = 0.0,value = 'Bad Tipper')\n",
    "test_dataset_log['Predict_tip'] = test_dataset_log['Predict_tip'].replace(to_replace = 1.0,value = 'Good Tipper')\n",
    "test_dataset_log['Predict_tip'] = test_dataset_log['Predict_tip'].replace(to_replace = 2.0,value = 'Excellent Tipper')\n",
    "\n"
   ]
  },
  {
   "cell_type": "code",
   "execution_count": 17,
   "id": "b06c5f1a",
   "metadata": {},
   "outputs": [
    {
     "data": {
      "text/plain": [
       "True     34\n",
       "False    15\n",
       "dtype: int64"
      ]
     },
     "execution_count": 17,
     "metadata": {},
     "output_type": "execute_result"
    }
   ],
   "source": [
    "pred_log = (test_dataset_log['Actual_tip'] == test_dataset_log['Predict_tip']).value_counts()\n",
    "pred_log "
   ]
  },
  {
   "cell_type": "code",
   "execution_count": 18,
   "id": "42453d3e",
   "metadata": {},
   "outputs": [
    {
     "data": {
      "text/plain": [
       "Bad Tipper          37\n",
       "Good Tipper         10\n",
       "Excellent Tipper     2\n",
       "Name: Predict_tip, dtype: int64"
      ]
     },
     "execution_count": 18,
     "metadata": {},
     "output_type": "execute_result"
    }
   ],
   "source": [
    "test_dataset_log['Predict_tip'].value_counts()"
   ]
  },
  {
   "cell_type": "code",
   "execution_count": 19,
   "id": "bc80ee4d",
   "metadata": {},
   "outputs": [],
   "source": [
    "cm = confusion_matrix(y_test, y_pred)"
   ]
  },
  {
   "cell_type": "code",
   "execution_count": 20,
   "id": "87d428df",
   "metadata": {
    "scrolled": true
   },
   "outputs": [
    {
     "data": {
      "text/plain": [
       "<sklearn.metrics._plot.confusion_matrix.ConfusionMatrixDisplay at 0x188c691ddf0>"
      ]
     },
     "execution_count": 20,
     "metadata": {},
     "output_type": "execute_result"
    },
    {
     "data": {
      "image/png": "[encoded data removed]",
      "text/plain": [
       "<Figure size 432x288 with 2 Axes>"
      ]
     },
     "metadata": {
      "needs_background": "light"
     },
     "output_type": "display_data"
    }
   ],
   "source": [
    "# NOTE: \n",
    "# 0 ---> Bad Tipper\n",
    "# 1 ---> Good Tipper\n",
    "# 2 ---> Excellent Tipper\n",
    "\n",
    "plot_confusion_matrix(classifier, X=X_test, y_true=y_test, cmap='Blues')\n"
   ]
  },
  {
   "cell_type": "code",
   "execution_count": 22,
   "id": "caf6f3b9",
   "metadata": {},
   "outputs": [
    {
     "data": {
      "text/plain": [
       "{'Recall': 0.6938775510204082,\n",
       " 'Precision': 0.6938775510204082,\n",
       " 'Accuracy': 0.6938775510204082}"
      ]
     },
     "execution_count": 22,
     "metadata": {},
     "output_type": "execute_result"
    }
   ],
   "source": [
    "def classification_score(y_true, y_predict):\n",
    "    \n",
    "    \"Calculate classification Score Functions and print output\"\n",
    "    \n",
    "    result_dict = {}\n",
    "    \n",
    "    recall =recall_score(y_true, y_predict, average = 'micro')\n",
    "    precision  =precision_score(y_true, y_predict, average = 'micro')\n",
    "    accuracy =accuracy_score(y_true, y_predict)\n",
    "    \n",
    "    ls = [recall, precision, accuracy]\n",
    "    ls2 = [\"Recall\", \"Precision\", \"Accuracy\"]\n",
    "    \n",
    "    for x in range(len(ls)):\n",
    "        #print(f\"{ls2[x]}: {ls[x]}\")\n",
    "        result_dict[ls2[x]] = ls[x]\n",
    "    \n",
    "    return result_dict\n",
    "\n",
    "classification_score(y_test, y_pred)"
   ]
  },
  {
   "cell_type": "markdown",
   "id": "59644c9b",
   "metadata": {},
   "source": [
    "# <span style=\"color:#EF7C8E\">Linear Regression</span>"
   ]
  },
  {
   "cell_type": "code",
   "execution_count": null,
   "id": "dd36c0e1",
   "metadata": {},
   "outputs": [],
   "source": [
    "df_lin = df.merge(oh_df, on=df.index).set_index(\"key_0\").drop(['sex', 'smoker','day', 'time'], axis=1)"
   ]
  },
  {
   "cell_type": "code",
   "execution_count": null,
   "id": "fea7370b",
   "metadata": {},
   "outputs": [],
   "source": [
    "df_lin.head()"
   ]
  },
  {
   "cell_type": "code",
   "execution_count": null,
   "id": "b6f55f60",
   "metadata": {},
   "outputs": [],
   "source": [
    "# Note: select all columns but the target \n",
    "X = df_lin.loc[:, df_lin.columns != 'tip']\n",
    "y = df_lin.loc[:, 'tip']\n",
    "\n",
    "\n",
    "# Splitting the dataset into the Training set and Test set\n",
    "X_train, X_test, y_train, y_test = train_test_split(X, \n",
    "                                                    y, \n",
    "                                                    train_size = 0.80, \n",
    "                                                    random_state = 42)\n",
    "\n",
    "multi_lr = LinearRegression()\n",
    "\n",
    "multi_lr.fit(X_train, y_train)\n",
    "\n",
    "multi_predictions = multi_lr.predict(X_test)\n",
    "\n",
    "\n",
    "r2_score_4 = r2_score(y_true=y_test, y_pred=multi_predictions)"
   ]
  },
  {
   "cell_type": "code",
   "execution_count": null,
   "id": "f296bd95",
   "metadata": {},
   "outputs": [],
   "source": [
    "test_dataset_lin = pd.DataFrame(X_test, columns= ['total_bill' ,'size','sex_Female', 'sex_Male', 'smoker_No', 'smoker_Yes', 'day_Fri', 'day_Sat', 'day_Sun', 'day_Thur', 'time_Dinner', 'time_Lunch'])\n",
    "\n",
    "test_dataset_lin['Actual_tip'] = y_test.to_numpy()\n",
    "test_dataset_lin['Predict_tip'] = multi_predictions"
   ]
  },
  {
   "cell_type": "code",
   "execution_count": null,
   "id": "1011ae57",
   "metadata": {},
   "outputs": [],
   "source": [
    "test_dataset_lin.head()"
   ]
  },
  {
   "cell_type": "code",
   "execution_count": null,
   "id": "41a18fea",
   "metadata": {},
   "outputs": [],
   "source": [
    "result_l = []\n",
    "for ind in test_dataset_lin.index:\n",
    "    tolerance = math.isclose(test_dataset_lin['Actual_tip'][ind], test_dataset_lin['Predict_tip'][ind], abs_tol = 0.10 * test_dataset_lin['Actual_tip'][ind])  \n",
    "    result_l.append(tolerance)\n",
    "    \n",
    "test_dataset_lin['tolerance'] = result_l\n",
    "pred_l = test_dataset_lin['tolerance'].value_counts()"
   ]
  },
  {
   "cell_type": "code",
   "execution_count": null,
   "id": "d10cdb9d",
   "metadata": {},
   "outputs": [],
   "source": [
    "print('Linear Regression: ')\n",
    "print(round((pred_l[False]/len(test_dataset_lin))*100, 2),'%')\n",
    "print('--'*10)\n",
    "print('Logistic Regression:')\n",
    "print(round((pred_log[False]/len(test_dataset_log))*100,2),'%')"
   ]
  },
  {
   "cell_type": "markdown",
   "id": "e1477293",
   "metadata": {},
   "source": [
    "## <span style=\"color:#EF7C8E\">The Result:  </span>\n",
    "\n",
    "\n",
    "<span style=\"color:#726060\">The Logistic Regression Model has a lower percentage of false prediction, so the Logistic Regression has a better performance than the Linear Regression </span>"
   ]
  }
 ],
 "metadata": {
  "kernelspec": {
   "display_name": "Python 3",
   "language": "python",
   "name": "python3"
  },
  "language_info": {
   "codemirror_mode": {
    "name": "ipython",
    "version": 3
   },
   "file_extension": ".py",
   "mimetype": "text/x-python",
   "name": "python",
   "nbconvert_exporter": "python",
   "pygments_lexer": "ipython3",
   "version": "3.8.8"
  }
 },
 "nbformat": 4,
 "nbformat_minor": 5
}
