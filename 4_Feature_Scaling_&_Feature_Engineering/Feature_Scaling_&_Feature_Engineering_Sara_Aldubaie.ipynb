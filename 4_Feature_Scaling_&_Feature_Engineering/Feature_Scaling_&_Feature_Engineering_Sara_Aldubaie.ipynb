{
 "cells": [
  {
   "cell_type": "markdown",
   "id": "70006505",
   "metadata": {},
   "source": [
    "<img align=\"right\" width=\"200\" height=\"200\" src=\"https://static.wikia.nocookie.net/lego/images/2/23/PPG_logo.png\">\n",
    "\n",
    "# <span style=\"color:#EF7C8E\">Feature Scaling & Feature Engineering</span>\n",
    "### <span style=\"color:#726060\"> Sara Aldubaie</span>\n",
    "<hr style=\"border:2px solid gray\"> </hr>"
   ]
  },
  {
   "cell_type": "code",
   "execution_count": 1,
   "id": "ceed88fc",
   "metadata": {},
   "outputs": [],
   "source": [
    "import pandas as pd\n",
    "import numpy as np\n",
    "import matplotlib.pyplot as plt\n",
    "import seaborn as sns\n",
    "\n",
    "from sklearn.model_selection import train_test_split\n",
    "from sklearn.linear_model import LinearRegression\n",
    "from sklearn.linear_model import LogisticRegression\n",
    "\n",
    "# Cost Functions\n",
    "from sklearn.metrics import mean_squared_error\n",
    "from sklearn.metrics import mean_absolute_error\n",
    "\n",
    "# \n",
    "from sklearn.metrics import accuracy_score\n",
    "from sklearn.metrics import recall_score\n",
    "from sklearn.metrics import precision_score\n",
    "\n",
    "# Scalers\n",
    "from sklearn.preprocessing import StandardScaler\n",
    "from sklearn.preprocessing import RobustScaler\n",
    "from sklearn.preprocessing import MinMaxScaler\n",
    "\n",
    "# Feature Engineering\n",
    "from sklearn.preprocessing import OneHotEncoder\n",
    "from sklearn.preprocessing import OrdinalEncoder\n",
    "\n",
    "# Plot style\n",
    "plt.style.use(\"seaborn-whitegrid\")"
   ]
  },
  {
   "cell_type": "code",
   "execution_count": 2,
   "id": "9b84afc1",
   "metadata": {},
   "outputs": [
    {
     "data": {
      "text/plain": [
       "survived         0\n",
       "pclass           0\n",
       "sex              0\n",
       "age            177\n",
       "sibsp            0\n",
       "parch            0\n",
       "fare             0\n",
       "embarked         2\n",
       "class            0\n",
       "who              0\n",
       "adult_male       0\n",
       "deck           688\n",
       "embark_town      2\n",
       "alive            0\n",
       "alone            0\n",
       "dtype: int64"
      ]
     },
     "execution_count": 2,
     "metadata": {},
     "output_type": "execute_result"
    }
   ],
   "source": [
    "# Load Data\n",
    "df = sns.load_dataset(\"titanic\")\n",
    "\n",
    "df.isnull().sum()"
   ]
  },
  {
   "cell_type": "code",
   "execution_count": 3,
   "id": "9e5e6a75",
   "metadata": {},
   "outputs": [],
   "source": [
    "# duplicate columns or more than 80% values are nulls \n",
    "df = df.drop(['adult_male', 'embarked', 'alive', 'alone', 'deck' ], axis = 1)\n",
    "# fill null using Forward filling \n",
    "\n",
    "\n",
    "ffill_col = ['age', 'embark_town']\n",
    "df.update(df[ffill_col].fillna(method=\"ffill\"))\n",
    "\n",
    "\n",
    "\n",
    "# Split Data\n",
    "train, test = train_test_split(\n",
    "    df, \n",
    "    train_size = .80,\n",
    "    test_size =.20,\n",
    "    random_state=42\n",
    ")\n",
    "\n",
    "train, val = train_test_split(\n",
    "    train,\n",
    "    train_size = .80,\n",
    "    test_size = .20,\n",
    "    random_state=42\n",
    ")"
   ]
  },
  {
   "cell_type": "code",
   "execution_count": 4,
   "id": "8b958596",
   "metadata": {},
   "outputs": [
    {
     "data": {
      "text/html": [
       "<div>\n",
       "<style scoped>\n",
       "    .dataframe tbody tr th:only-of-type {\n",
       "        vertical-align: middle;\n",
       "    }\n",
       "\n",
       "    .dataframe tbody tr th {\n",
       "        vertical-align: top;\n",
       "    }\n",
       "\n",
       "    .dataframe thead th {\n",
       "        text-align: right;\n",
       "    }\n",
       "</style>\n",
       "<table border=\"1\" class=\"dataframe\">\n",
       "  <thead>\n",
       "    <tr style=\"text-align: right;\">\n",
       "      <th></th>\n",
       "      <th>survived</th>\n",
       "      <th>pclass</th>\n",
       "      <th>sex</th>\n",
       "      <th>age</th>\n",
       "      <th>sibsp</th>\n",
       "      <th>parch</th>\n",
       "      <th>fare</th>\n",
       "      <th>class</th>\n",
       "      <th>who</th>\n",
       "      <th>embark_town</th>\n",
       "    </tr>\n",
       "  </thead>\n",
       "  <tbody>\n",
       "    <tr>\n",
       "      <th>517</th>\n",
       "      <td>0</td>\n",
       "      <td>3</td>\n",
       "      <td>male</td>\n",
       "      <td>34.00</td>\n",
       "      <td>0</td>\n",
       "      <td>0</td>\n",
       "      <td>24.1500</td>\n",
       "      <td>Third</td>\n",
       "      <td>man</td>\n",
       "      <td>Queenstown</td>\n",
       "    </tr>\n",
       "    <tr>\n",
       "      <th>792</th>\n",
       "      <td>0</td>\n",
       "      <td>3</td>\n",
       "      <td>female</td>\n",
       "      <td>16.00</td>\n",
       "      <td>8</td>\n",
       "      <td>2</td>\n",
       "      <td>69.5500</td>\n",
       "      <td>Third</td>\n",
       "      <td>woman</td>\n",
       "      <td>Southampton</td>\n",
       "    </tr>\n",
       "    <tr>\n",
       "      <th>472</th>\n",
       "      <td>1</td>\n",
       "      <td>2</td>\n",
       "      <td>female</td>\n",
       "      <td>33.00</td>\n",
       "      <td>1</td>\n",
       "      <td>2</td>\n",
       "      <td>27.7500</td>\n",
       "      <td>Second</td>\n",
       "      <td>woman</td>\n",
       "      <td>Southampton</td>\n",
       "    </tr>\n",
       "    <tr>\n",
       "      <th>483</th>\n",
       "      <td>1</td>\n",
       "      <td>3</td>\n",
       "      <td>female</td>\n",
       "      <td>63.00</td>\n",
       "      <td>0</td>\n",
       "      <td>0</td>\n",
       "      <td>9.5875</td>\n",
       "      <td>Third</td>\n",
       "      <td>woman</td>\n",
       "      <td>Southampton</td>\n",
       "    </tr>\n",
       "    <tr>\n",
       "      <th>9</th>\n",
       "      <td>1</td>\n",
       "      <td>2</td>\n",
       "      <td>female</td>\n",
       "      <td>14.00</td>\n",
       "      <td>1</td>\n",
       "      <td>0</td>\n",
       "      <td>30.0708</td>\n",
       "      <td>Second</td>\n",
       "      <td>child</td>\n",
       "      <td>Cherbourg</td>\n",
       "    </tr>\n",
       "    <tr>\n",
       "      <th>769</th>\n",
       "      <td>0</td>\n",
       "      <td>3</td>\n",
       "      <td>male</td>\n",
       "      <td>32.00</td>\n",
       "      <td>0</td>\n",
       "      <td>0</td>\n",
       "      <td>8.3625</td>\n",
       "      <td>Third</td>\n",
       "      <td>man</td>\n",
       "      <td>Southampton</td>\n",
       "    </tr>\n",
       "    <tr>\n",
       "      <th>743</th>\n",
       "      <td>0</td>\n",
       "      <td>3</td>\n",
       "      <td>male</td>\n",
       "      <td>24.00</td>\n",
       "      <td>1</td>\n",
       "      <td>0</td>\n",
       "      <td>16.1000</td>\n",
       "      <td>Third</td>\n",
       "      <td>man</td>\n",
       "      <td>Southampton</td>\n",
       "    </tr>\n",
       "    <tr>\n",
       "      <th>634</th>\n",
       "      <td>0</td>\n",
       "      <td>3</td>\n",
       "      <td>female</td>\n",
       "      <td>9.00</td>\n",
       "      <td>3</td>\n",
       "      <td>2</td>\n",
       "      <td>27.9000</td>\n",
       "      <td>Third</td>\n",
       "      <td>child</td>\n",
       "      <td>Southampton</td>\n",
       "    </tr>\n",
       "    <tr>\n",
       "      <th>562</th>\n",
       "      <td>0</td>\n",
       "      <td>2</td>\n",
       "      <td>male</td>\n",
       "      <td>28.00</td>\n",
       "      <td>0</td>\n",
       "      <td>0</td>\n",
       "      <td>13.5000</td>\n",
       "      <td>Second</td>\n",
       "      <td>man</td>\n",
       "      <td>Southampton</td>\n",
       "    </tr>\n",
       "    <tr>\n",
       "      <th>869</th>\n",
       "      <td>1</td>\n",
       "      <td>3</td>\n",
       "      <td>male</td>\n",
       "      <td>4.00</td>\n",
       "      <td>1</td>\n",
       "      <td>1</td>\n",
       "      <td>11.1333</td>\n",
       "      <td>Third</td>\n",
       "      <td>child</td>\n",
       "      <td>Southampton</td>\n",
       "    </tr>\n",
       "    <tr>\n",
       "      <th>544</th>\n",
       "      <td>0</td>\n",
       "      <td>1</td>\n",
       "      <td>male</td>\n",
       "      <td>50.00</td>\n",
       "      <td>1</td>\n",
       "      <td>0</td>\n",
       "      <td>106.4250</td>\n",
       "      <td>First</td>\n",
       "      <td>man</td>\n",
       "      <td>Cherbourg</td>\n",
       "    </tr>\n",
       "    <tr>\n",
       "      <th>405</th>\n",
       "      <td>0</td>\n",
       "      <td>2</td>\n",
       "      <td>male</td>\n",
       "      <td>34.00</td>\n",
       "      <td>1</td>\n",
       "      <td>0</td>\n",
       "      <td>21.0000</td>\n",
       "      <td>Second</td>\n",
       "      <td>man</td>\n",
       "      <td>Southampton</td>\n",
       "    </tr>\n",
       "    <tr>\n",
       "      <th>510</th>\n",
       "      <td>1</td>\n",
       "      <td>3</td>\n",
       "      <td>male</td>\n",
       "      <td>29.00</td>\n",
       "      <td>0</td>\n",
       "      <td>0</td>\n",
       "      <td>7.7500</td>\n",
       "      <td>Third</td>\n",
       "      <td>man</td>\n",
       "      <td>Queenstown</td>\n",
       "    </tr>\n",
       "    <tr>\n",
       "      <th>725</th>\n",
       "      <td>0</td>\n",
       "      <td>3</td>\n",
       "      <td>male</td>\n",
       "      <td>20.00</td>\n",
       "      <td>0</td>\n",
       "      <td>0</td>\n",
       "      <td>8.6625</td>\n",
       "      <td>Third</td>\n",
       "      <td>man</td>\n",
       "      <td>Southampton</td>\n",
       "    </tr>\n",
       "    <tr>\n",
       "      <th>755</th>\n",
       "      <td>1</td>\n",
       "      <td>2</td>\n",
       "      <td>male</td>\n",
       "      <td>0.67</td>\n",
       "      <td>1</td>\n",
       "      <td>1</td>\n",
       "      <td>14.5000</td>\n",
       "      <td>Second</td>\n",
       "      <td>child</td>\n",
       "      <td>Southampton</td>\n",
       "    </tr>\n",
       "    <tr>\n",
       "      <th>0</th>\n",
       "      <td>0</td>\n",
       "      <td>3</td>\n",
       "      <td>male</td>\n",
       "      <td>22.00</td>\n",
       "      <td>1</td>\n",
       "      <td>0</td>\n",
       "      <td>7.2500</td>\n",
       "      <td>Third</td>\n",
       "      <td>man</td>\n",
       "      <td>Southampton</td>\n",
       "    </tr>\n",
       "    <tr>\n",
       "      <th>93</th>\n",
       "      <td>0</td>\n",
       "      <td>3</td>\n",
       "      <td>male</td>\n",
       "      <td>26.00</td>\n",
       "      <td>1</td>\n",
       "      <td>2</td>\n",
       "      <td>20.5750</td>\n",
       "      <td>Third</td>\n",
       "      <td>man</td>\n",
       "      <td>Southampton</td>\n",
       "    </tr>\n",
       "    <tr>\n",
       "      <th>420</th>\n",
       "      <td>0</td>\n",
       "      <td>3</td>\n",
       "      <td>male</td>\n",
       "      <td>10.00</td>\n",
       "      <td>0</td>\n",
       "      <td>0</td>\n",
       "      <td>7.8958</td>\n",
       "      <td>Third</td>\n",
       "      <td>man</td>\n",
       "      <td>Cherbourg</td>\n",
       "    </tr>\n",
       "    <tr>\n",
       "      <th>791</th>\n",
       "      <td>0</td>\n",
       "      <td>2</td>\n",
       "      <td>male</td>\n",
       "      <td>16.00</td>\n",
       "      <td>0</td>\n",
       "      <td>0</td>\n",
       "      <td>26.0000</td>\n",
       "      <td>Second</td>\n",
       "      <td>man</td>\n",
       "      <td>Southampton</td>\n",
       "    </tr>\n",
       "    <tr>\n",
       "      <th>800</th>\n",
       "      <td>0</td>\n",
       "      <td>2</td>\n",
       "      <td>male</td>\n",
       "      <td>34.00</td>\n",
       "      <td>0</td>\n",
       "      <td>0</td>\n",
       "      <td>13.0000</td>\n",
       "      <td>Second</td>\n",
       "      <td>man</td>\n",
       "      <td>Southampton</td>\n",
       "    </tr>\n",
       "    <tr>\n",
       "      <th>644</th>\n",
       "      <td>1</td>\n",
       "      <td>3</td>\n",
       "      <td>female</td>\n",
       "      <td>0.75</td>\n",
       "      <td>2</td>\n",
       "      <td>1</td>\n",
       "      <td>19.2583</td>\n",
       "      <td>Third</td>\n",
       "      <td>child</td>\n",
       "      <td>Cherbourg</td>\n",
       "    </tr>\n",
       "    <tr>\n",
       "      <th>764</th>\n",
       "      <td>0</td>\n",
       "      <td>3</td>\n",
       "      <td>male</td>\n",
       "      <td>16.00</td>\n",
       "      <td>0</td>\n",
       "      <td>0</td>\n",
       "      <td>7.7750</td>\n",
       "      <td>Third</td>\n",
       "      <td>man</td>\n",
       "      <td>Southampton</td>\n",
       "    </tr>\n",
       "    <tr>\n",
       "      <th>414</th>\n",
       "      <td>1</td>\n",
       "      <td>3</td>\n",
       "      <td>male</td>\n",
       "      <td>44.00</td>\n",
       "      <td>0</td>\n",
       "      <td>0</td>\n",
       "      <td>7.9250</td>\n",
       "      <td>Third</td>\n",
       "      <td>man</td>\n",
       "      <td>Southampton</td>\n",
       "    </tr>\n",
       "    <tr>\n",
       "      <th>95</th>\n",
       "      <td>0</td>\n",
       "      <td>3</td>\n",
       "      <td>male</td>\n",
       "      <td>59.00</td>\n",
       "      <td>0</td>\n",
       "      <td>0</td>\n",
       "      <td>8.0500</td>\n",
       "      <td>Third</td>\n",
       "      <td>man</td>\n",
       "      <td>Southampton</td>\n",
       "    </tr>\n",
       "    <tr>\n",
       "      <th>302</th>\n",
       "      <td>0</td>\n",
       "      <td>3</td>\n",
       "      <td>male</td>\n",
       "      <td>19.00</td>\n",
       "      <td>0</td>\n",
       "      <td>0</td>\n",
       "      <td>0.0000</td>\n",
       "      <td>Third</td>\n",
       "      <td>man</td>\n",
       "      <td>Southampton</td>\n",
       "    </tr>\n",
       "    <tr>\n",
       "      <th>872</th>\n",
       "      <td>0</td>\n",
       "      <td>1</td>\n",
       "      <td>male</td>\n",
       "      <td>33.00</td>\n",
       "      <td>0</td>\n",
       "      <td>0</td>\n",
       "      <td>5.0000</td>\n",
       "      <td>First</td>\n",
       "      <td>man</td>\n",
       "      <td>Southampton</td>\n",
       "    </tr>\n",
       "    <tr>\n",
       "      <th>437</th>\n",
       "      <td>1</td>\n",
       "      <td>2</td>\n",
       "      <td>female</td>\n",
       "      <td>24.00</td>\n",
       "      <td>2</td>\n",
       "      <td>3</td>\n",
       "      <td>18.7500</td>\n",
       "      <td>Second</td>\n",
       "      <td>woman</td>\n",
       "      <td>Southampton</td>\n",
       "    </tr>\n",
       "    <tr>\n",
       "      <th>495</th>\n",
       "      <td>0</td>\n",
       "      <td>3</td>\n",
       "      <td>male</td>\n",
       "      <td>21.00</td>\n",
       "      <td>0</td>\n",
       "      <td>0</td>\n",
       "      <td>14.4583</td>\n",
       "      <td>Third</td>\n",
       "      <td>man</td>\n",
       "      <td>Cherbourg</td>\n",
       "    </tr>\n",
       "    <tr>\n",
       "      <th>384</th>\n",
       "      <td>0</td>\n",
       "      <td>3</td>\n",
       "      <td>male</td>\n",
       "      <td>35.00</td>\n",
       "      <td>0</td>\n",
       "      <td>0</td>\n",
       "      <td>7.8958</td>\n",
       "      <td>Third</td>\n",
       "      <td>man</td>\n",
       "      <td>Southampton</td>\n",
       "    </tr>\n",
       "    <tr>\n",
       "      <th>635</th>\n",
       "      <td>1</td>\n",
       "      <td>2</td>\n",
       "      <td>female</td>\n",
       "      <td>28.00</td>\n",
       "      <td>0</td>\n",
       "      <td>0</td>\n",
       "      <td>13.0000</td>\n",
       "      <td>Second</td>\n",
       "      <td>woman</td>\n",
       "      <td>Southampton</td>\n",
       "    </tr>\n",
       "  </tbody>\n",
       "</table>\n",
       "</div>"
      ],
      "text/plain": [
       "     survived  pclass     sex    age  sibsp  parch      fare   class    who  \\\n",
       "517         0       3    male  34.00      0      0   24.1500   Third    man   \n",
       "792         0       3  female  16.00      8      2   69.5500   Third  woman   \n",
       "472         1       2  female  33.00      1      2   27.7500  Second  woman   \n",
       "483         1       3  female  63.00      0      0    9.5875   Third  woman   \n",
       "9           1       2  female  14.00      1      0   30.0708  Second  child   \n",
       "769         0       3    male  32.00      0      0    8.3625   Third    man   \n",
       "743         0       3    male  24.00      1      0   16.1000   Third    man   \n",
       "634         0       3  female   9.00      3      2   27.9000   Third  child   \n",
       "562         0       2    male  28.00      0      0   13.5000  Second    man   \n",
       "869         1       3    male   4.00      1      1   11.1333   Third  child   \n",
       "544         0       1    male  50.00      1      0  106.4250   First    man   \n",
       "405         0       2    male  34.00      1      0   21.0000  Second    man   \n",
       "510         1       3    male  29.00      0      0    7.7500   Third    man   \n",
       "725         0       3    male  20.00      0      0    8.6625   Third    man   \n",
       "755         1       2    male   0.67      1      1   14.5000  Second  child   \n",
       "0           0       3    male  22.00      1      0    7.2500   Third    man   \n",
       "93          0       3    male  26.00      1      2   20.5750   Third    man   \n",
       "420         0       3    male  10.00      0      0    7.8958   Third    man   \n",
       "791         0       2    male  16.00      0      0   26.0000  Second    man   \n",
       "800         0       2    male  34.00      0      0   13.0000  Second    man   \n",
       "644         1       3  female   0.75      2      1   19.2583   Third  child   \n",
       "764         0       3    male  16.00      0      0    7.7750   Third    man   \n",
       "414         1       3    male  44.00      0      0    7.9250   Third    man   \n",
       "95          0       3    male  59.00      0      0    8.0500   Third    man   \n",
       "302         0       3    male  19.00      0      0    0.0000   Third    man   \n",
       "872         0       1    male  33.00      0      0    5.0000   First    man   \n",
       "437         1       2  female  24.00      2      3   18.7500  Second  woman   \n",
       "495         0       3    male  21.00      0      0   14.4583   Third    man   \n",
       "384         0       3    male  35.00      0      0    7.8958   Third    man   \n",
       "635         1       2  female  28.00      0      0   13.0000  Second  woman   \n",
       "\n",
       "     embark_town  \n",
       "517   Queenstown  \n",
       "792  Southampton  \n",
       "472  Southampton  \n",
       "483  Southampton  \n",
       "9      Cherbourg  \n",
       "769  Southampton  \n",
       "743  Southampton  \n",
       "634  Southampton  \n",
       "562  Southampton  \n",
       "869  Southampton  \n",
       "544    Cherbourg  \n",
       "405  Southampton  \n",
       "510   Queenstown  \n",
       "725  Southampton  \n",
       "755  Southampton  \n",
       "0    Southampton  \n",
       "93   Southampton  \n",
       "420    Cherbourg  \n",
       "791  Southampton  \n",
       "800  Southampton  \n",
       "644    Cherbourg  \n",
       "764  Southampton  \n",
       "414  Southampton  \n",
       "95   Southampton  \n",
       "302  Southampton  \n",
       "872  Southampton  \n",
       "437  Southampton  \n",
       "495    Cherbourg  \n",
       "384  Southampton  \n",
       "635  Southampton  "
      ]
     },
     "execution_count": 4,
     "metadata": {},
     "output_type": "execute_result"
    }
   ],
   "source": [
    "train.head(30)"
   ]
  },
  {
   "cell_type": "code",
   "execution_count": 5,
   "id": "c00cdf2a",
   "metadata": {},
   "outputs": [
    {
     "name": "stdout",
     "output_type": "stream",
     "text": [
      "<class 'pandas.core.frame.DataFrame'>\n",
      "Int64Index: 569 entries, 517 to 131\n",
      "Data columns (total 10 columns):\n",
      " #   Column       Non-Null Count  Dtype   \n",
      "---  ------       --------------  -----   \n",
      " 0   survived     569 non-null    int64   \n",
      " 1   pclass       569 non-null    int64   \n",
      " 2   sex          569 non-null    object  \n",
      " 3   age          569 non-null    float64 \n",
      " 4   sibsp        569 non-null    int64   \n",
      " 5   parch        569 non-null    int64   \n",
      " 6   fare         569 non-null    float64 \n",
      " 7   class        569 non-null    category\n",
      " 8   who          569 non-null    object  \n",
      " 9   embark_town  569 non-null    object  \n",
      "dtypes: category(1), float64(2), int64(4), object(3)\n",
      "memory usage: 45.1+ KB\n"
     ]
    }
   ],
   "source": [
    "train.info()"
   ]
  },
  {
   "cell_type": "code",
   "execution_count": 6,
   "id": "b8a8ee68",
   "metadata": {},
   "outputs": [
    {
     "data": {
      "text/plain": [
       "survived          int64\n",
       "pclass            int64\n",
       "sex              object\n",
       "age             float64\n",
       "sibsp             int64\n",
       "parch             int64\n",
       "fare            float64\n",
       "class          category\n",
       "who              object\n",
       "embark_town      object\n",
       "dtype: object"
      ]
     },
     "execution_count": 6,
     "metadata": {},
     "output_type": "execute_result"
    }
   ],
   "source": [
    "# Model with only numeric features\n",
    "train.dtypes"
   ]
  },
  {
   "cell_type": "code",
   "execution_count": 7,
   "id": "e064f5c4",
   "metadata": {},
   "outputs": [
    {
     "data": {
      "text/plain": [
       "array([ True,  True, False,  True,  True,  True,  True, False, False,\n",
       "       False])"
      ]
     },
     "execution_count": 7,
     "metadata": {},
     "output_type": "execute_result"
    }
   ],
   "source": [
    "(df.dtypes != \"category\").values & (df.dtypes != \"object\").values "
   ]
  },
  {
   "cell_type": "code",
   "execution_count": 8,
   "id": "55378f23",
   "metadata": {},
   "outputs": [],
   "source": [
    "def cleaner(df):\n",
    "    \"Return Only Numeric Features\"\n",
    "    \n",
    "    # Create boolean array with only columns that are float64\n",
    "    columns_bool = (df.dtypes != \"category\").values & (df.dtypes != \"object\").values \n",
    "\n",
    "    # Return only numeric columns\n",
    "    df = df.iloc[:, columns_bool].dropna()\n",
    "\n",
    "    return df\n",
    "\n",
    "train_numeric = cleaner(train)\n",
    "val_numeric = cleaner(val)"
   ]
  },
  {
   "cell_type": "code",
   "execution_count": 9,
   "id": "2525bf14",
   "metadata": {},
   "outputs": [],
   "source": [
    "# Create X, y train and validation sets\n",
    "\n",
    "target = \"survived\"\n",
    "\n",
    "X_train = train_numeric.drop(target, axis=1)\n",
    "y_train = train_numeric[target]\n",
    "\n",
    "X_val = val_numeric.drop(target, axis=1)\n",
    "y_val = val_numeric[target]"
   ]
  },
  {
   "cell_type": "code",
   "execution_count": 10,
   "id": "f713e9d3",
   "metadata": {},
   "outputs": [
    {
     "data": {
      "text/plain": [
       "0.6643356643356644"
      ]
     },
     "execution_count": 10,
     "metadata": {},
     "output_type": "execute_result"
    }
   ],
   "source": [
    "lr = LogisticRegression()\n",
    "lr.fit(X_train, y_train)\n",
    "lr.score(X_val, y_val)"
   ]
  },
  {
   "cell_type": "code",
   "execution_count": 11,
   "id": "1b808cf1",
   "metadata": {},
   "outputs": [
    {
     "data": {
      "text/plain": [
       "array([[-0.80545841, -0.02345904, -0.21009216,  0.21810948,  0.00494747]])"
      ]
     },
     "execution_count": 11,
     "metadata": {},
     "output_type": "execute_result"
    }
   ],
   "source": [
    "lr.coef_"
   ]
  },
  {
   "cell_type": "code",
   "execution_count": 12,
   "id": "da48afd6",
   "metadata": {},
   "outputs": [
    {
     "data": {
      "text/plain": [
       "array([1.87289773])"
      ]
     },
     "execution_count": 12,
     "metadata": {},
     "output_type": "execute_result"
    }
   ],
   "source": [
    "lr.intercept_"
   ]
  },
  {
   "cell_type": "code",
   "execution_count": 13,
   "id": "fd3d4449",
   "metadata": {},
   "outputs": [
    {
     "data": {
      "text/html": [
       "<div>\n",
       "<style scoped>\n",
       "    .dataframe tbody tr th:only-of-type {\n",
       "        vertical-align: middle;\n",
       "    }\n",
       "\n",
       "    .dataframe tbody tr th {\n",
       "        vertical-align: top;\n",
       "    }\n",
       "\n",
       "    .dataframe thead th {\n",
       "        text-align: right;\n",
       "    }\n",
       "</style>\n",
       "<table border=\"1\" class=\"dataframe\">\n",
       "  <thead>\n",
       "    <tr style=\"text-align: right;\">\n",
       "      <th></th>\n",
       "      <th>pclass</th>\n",
       "      <th>age</th>\n",
       "      <th>sibsp</th>\n",
       "      <th>parch</th>\n",
       "      <th>fare</th>\n",
       "      <th>survived</th>\n",
       "    </tr>\n",
       "  </thead>\n",
       "  <tbody>\n",
       "    <tr>\n",
       "      <th>517</th>\n",
       "      <td>3</td>\n",
       "      <td>34.0</td>\n",
       "      <td>0</td>\n",
       "      <td>0</td>\n",
       "      <td>24.1500</td>\n",
       "      <td>0</td>\n",
       "    </tr>\n",
       "    <tr>\n",
       "      <th>792</th>\n",
       "      <td>3</td>\n",
       "      <td>16.0</td>\n",
       "      <td>8</td>\n",
       "      <td>2</td>\n",
       "      <td>69.5500</td>\n",
       "      <td>0</td>\n",
       "    </tr>\n",
       "    <tr>\n",
       "      <th>472</th>\n",
       "      <td>2</td>\n",
       "      <td>33.0</td>\n",
       "      <td>1</td>\n",
       "      <td>2</td>\n",
       "      <td>27.7500</td>\n",
       "      <td>1</td>\n",
       "    </tr>\n",
       "    <tr>\n",
       "      <th>483</th>\n",
       "      <td>3</td>\n",
       "      <td>63.0</td>\n",
       "      <td>0</td>\n",
       "      <td>0</td>\n",
       "      <td>9.5875</td>\n",
       "      <td>1</td>\n",
       "    </tr>\n",
       "    <tr>\n",
       "      <th>9</th>\n",
       "      <td>2</td>\n",
       "      <td>14.0</td>\n",
       "      <td>1</td>\n",
       "      <td>0</td>\n",
       "      <td>30.0708</td>\n",
       "      <td>1</td>\n",
       "    </tr>\n",
       "    <tr>\n",
       "      <th>...</th>\n",
       "      <td>...</td>\n",
       "      <td>...</td>\n",
       "      <td>...</td>\n",
       "      <td>...</td>\n",
       "      <td>...</td>\n",
       "      <td>...</td>\n",
       "    </tr>\n",
       "    <tr>\n",
       "      <th>79</th>\n",
       "      <td>3</td>\n",
       "      <td>30.0</td>\n",
       "      <td>0</td>\n",
       "      <td>0</td>\n",
       "      <td>12.4750</td>\n",
       "      <td>1</td>\n",
       "    </tr>\n",
       "    <tr>\n",
       "      <th>164</th>\n",
       "      <td>3</td>\n",
       "      <td>1.0</td>\n",
       "      <td>4</td>\n",
       "      <td>1</td>\n",
       "      <td>39.6875</td>\n",
       "      <td>0</td>\n",
       "    </tr>\n",
       "    <tr>\n",
       "      <th>117</th>\n",
       "      <td>2</td>\n",
       "      <td>29.0</td>\n",
       "      <td>1</td>\n",
       "      <td>0</td>\n",
       "      <td>21.0000</td>\n",
       "      <td>0</td>\n",
       "    </tr>\n",
       "    <tr>\n",
       "      <th>8</th>\n",
       "      <td>3</td>\n",
       "      <td>27.0</td>\n",
       "      <td>0</td>\n",
       "      <td>2</td>\n",
       "      <td>11.1333</td>\n",
       "      <td>1</td>\n",
       "    </tr>\n",
       "    <tr>\n",
       "      <th>131</th>\n",
       "      <td>3</td>\n",
       "      <td>20.0</td>\n",
       "      <td>0</td>\n",
       "      <td>0</td>\n",
       "      <td>7.0500</td>\n",
       "      <td>0</td>\n",
       "    </tr>\n",
       "  </tbody>\n",
       "</table>\n",
       "<p>569 rows × 6 columns</p>\n",
       "</div>"
      ],
      "text/plain": [
       "     pclass   age  sibsp  parch     fare  survived\n",
       "517       3  34.0      0      0  24.1500         0\n",
       "792       3  16.0      8      2  69.5500         0\n",
       "472       2  33.0      1      2  27.7500         1\n",
       "483       3  63.0      0      0   9.5875         1\n",
       "9         2  14.0      1      0  30.0708         1\n",
       "..      ...   ...    ...    ...      ...       ...\n",
       "79        3  30.0      0      0  12.4750         1\n",
       "164       3   1.0      4      1  39.6875         0\n",
       "117       2  29.0      1      0  21.0000         0\n",
       "8         3  27.0      0      2  11.1333         1\n",
       "131       3  20.0      0      0   7.0500         0\n",
       "\n",
       "[569 rows x 6 columns]"
      ]
     },
     "execution_count": 13,
     "metadata": {},
     "output_type": "execute_result"
    }
   ],
   "source": [
    "pd.concat([X_train, y_train], axis = 1)"
   ]
  },
  {
   "cell_type": "code",
   "execution_count": 14,
   "id": "46dfea58",
   "metadata": {},
   "outputs": [
    {
     "name": "stdout",
     "output_type": "stream",
     "text": [
      "Baseline\n",
      "Recall: 0.0\n",
      "Precision: 0.0\n",
      "Accuracy: 0.6274165202108963\n",
      "\n",
      "Logistic Regression\n",
      "Recall: 0.419811320754717\n",
      "Precision: 0.6691729323308271\n",
      "Accuracy: 0.7065026362038664\n"
     ]
    },
    {
     "name": "stderr",
     "output_type": "stream",
     "text": [
      "C:\\Users\\SarOonh\\anaconda3\\lib\\site-packages\\sklearn\\metrics\\_classification.py:1245: UndefinedMetricWarning: Precision is ill-defined and being set to 0.0 due to no predicted samples. Use `zero_division` parameter to control this behavior.\n",
      "  _warn_prf(average, modifier, msg_start, len(result))\n"
     ]
    }
   ],
   "source": [
    "def classification_score(y_true, y_predict):\n",
    "    \n",
    "    \n",
    "    \"Calculate classification Score Functions and print output\"\n",
    "    \n",
    "    result_dict = {}\n",
    "    \n",
    "    recall =recall_score(y_true, y_predict)\n",
    "    precision  =precision_score(y_true, y_predict)\n",
    "    accuracy =accuracy_score(y_true, y_predict)\n",
    "    \n",
    "    ls = [recall, precision, accuracy]\n",
    "    ls2 = [\"Recall\", \"Precision\", \"Accuracy\"]\n",
    "    \n",
    "    for x in range(len(ls)):\n",
    "        print(f\"{ls2[x]}: {ls[x]}\")\n",
    "        result_dict[ls2[x]] = ls[x]\n",
    "    \n",
    "    return result_dict\n",
    "\n",
    "# Save results to object and print results\n",
    "print(\"Baseline\")\n",
    "b_preds = [y_train.mode() for x in range(len(y_train))]\n",
    "res0 = classification_score(y_train, b_preds)\n",
    "print(\"\\nLogistic Regression\")\n",
    "res1 = classification_score(y_train, lr.predict(X_train))"
   ]
  },
  {
   "cell_type": "code",
   "execution_count": 15,
   "id": "f735b341",
   "metadata": {},
   "outputs": [
    {
     "data": {
      "text/plain": [
       "array([[ 0.7933513 ,  0.36420292, -0.48356406, -0.47705818, -0.1682761 ],\n",
       "       [ 0.7933513 , -0.88560988,  5.93388081,  1.97946764,  0.71422213],\n",
       "       [-0.41688165,  0.29476887,  0.31861655,  1.97946764, -0.09829827],\n",
       "       [ 0.7933513 ,  2.37779021, -0.48356406, -0.47705818, -0.45134615],\n",
       "       [-0.41688165, -1.02447797,  0.31861655, -0.47705818, -0.05318589]])"
      ]
     },
     "execution_count": 15,
     "metadata": {},
     "output_type": "execute_result"
    }
   ],
   "source": [
    "# Instantiate Scaler Object\n",
    "scaler = StandardScaler()\n",
    "\n",
    "# Apply to X data\n",
    "X_train_scaled = scaler.fit_transform(X_train)\n",
    "X_val_scaled = scaler.transform(X_val)\n",
    "\n",
    "# Look at the transformed data\n",
    "X_train_scaled[:5]"
   ]
  },
  {
   "cell_type": "code",
   "execution_count": 16,
   "id": "ea55f231",
   "metadata": {},
   "outputs": [
    {
     "data": {
      "text/plain": [
       "0.6713286713286714"
      ]
     },
     "execution_count": 16,
     "metadata": {},
     "output_type": "execute_result"
    }
   ],
   "source": [
    "# Train the model \n",
    "lr2 = LogisticRegression()\n",
    "lr2.fit(X_train_scaled, y_train)\n",
    "lr2.score(X_val_scaled, y_val)"
   ]
  },
  {
   "cell_type": "code",
   "execution_count": 17,
   "id": "919cb730",
   "metadata": {},
   "outputs": [
    {
     "name": "stdout",
     "output_type": "stream",
     "text": [
      "Recall: 0.42857142857142855\n",
      "Precision: 0.6153846153846154\n",
      "Accuracy: 0.6713286713286714\n"
     ]
    }
   ],
   "source": [
    "res2 = classification_score(y_val, lr2.predict(X_val_scaled))"
   ]
  },
  {
   "cell_type": "code",
   "execution_count": 18,
   "id": "799c9d01",
   "metadata": {},
   "outputs": [
    {
     "data": {
      "text/plain": [
       "array([[-0.67190643, -0.33554799, -0.25901055,  0.17962306,  0.24507638]])"
      ]
     },
     "execution_count": 18,
     "metadata": {},
     "output_type": "execute_result"
    }
   ],
   "source": [
    "lr2.coef_"
   ]
  },
  {
   "cell_type": "code",
   "execution_count": 19,
   "id": "66a3a84b",
   "metadata": {},
   "outputs": [
    {
     "data": {
      "text/html": [
       "<div>\n",
       "<style scoped>\n",
       "    .dataframe tbody tr th:only-of-type {\n",
       "        vertical-align: middle;\n",
       "    }\n",
       "\n",
       "    .dataframe tbody tr th {\n",
       "        vertical-align: top;\n",
       "    }\n",
       "\n",
       "    .dataframe thead th {\n",
       "        text-align: right;\n",
       "    }\n",
       "</style>\n",
       "<table border=\"1\" class=\"dataframe\">\n",
       "  <thead>\n",
       "    <tr style=\"text-align: right;\">\n",
       "      <th></th>\n",
       "      <th>0</th>\n",
       "      <th>1</th>\n",
       "      <th>2</th>\n",
       "      <th>3</th>\n",
       "      <th>4</th>\n",
       "    </tr>\n",
       "  </thead>\n",
       "  <tbody>\n",
       "    <tr>\n",
       "      <th>count</th>\n",
       "      <td>5.690000e+02</td>\n",
       "      <td>5.690000e+02</td>\n",
       "      <td>5.690000e+02</td>\n",
       "      <td>5.690000e+02</td>\n",
       "      <td>5.690000e+02</td>\n",
       "    </tr>\n",
       "    <tr>\n",
       "      <th>mean</th>\n",
       "      <td>-3.523836e-16</td>\n",
       "      <td>7.863267e-17</td>\n",
       "      <td>-1.303390e-16</td>\n",
       "      <td>2.421418e-16</td>\n",
       "      <td>6.185250e-17</td>\n",
       "    </tr>\n",
       "    <tr>\n",
       "      <th>std</th>\n",
       "      <td>1.000880e+00</td>\n",
       "      <td>1.000880e+00</td>\n",
       "      <td>1.000880e+00</td>\n",
       "      <td>1.000880e+00</td>\n",
       "      <td>1.000880e+00</td>\n",
       "    </tr>\n",
       "    <tr>\n",
       "      <th>min</th>\n",
       "      <td>-1.627115e+00</td>\n",
       "      <td>-1.967392e+00</td>\n",
       "      <td>-4.835641e-01</td>\n",
       "      <td>-4.770582e-01</td>\n",
       "      <td>-6.377107e-01</td>\n",
       "    </tr>\n",
       "    <tr>\n",
       "      <th>25%</th>\n",
       "      <td>-4.168816e-01</td>\n",
       "      <td>-6.773078e-01</td>\n",
       "      <td>-4.835641e-01</td>\n",
       "      <td>-4.770582e-01</td>\n",
       "      <td>-4.836623e-01</td>\n",
       "    </tr>\n",
       "    <tr>\n",
       "      <th>50%</th>\n",
       "      <td>7.933513e-01</td>\n",
       "      <td>-5.240135e-02</td>\n",
       "      <td>-4.835641e-01</td>\n",
       "      <td>-4.770582e-01</td>\n",
       "      <td>-3.566661e-01</td>\n",
       "    </tr>\n",
       "    <tr>\n",
       "      <th>75%</th>\n",
       "      <td>7.933513e-01</td>\n",
       "      <td>5.030710e-01</td>\n",
       "      <td>3.186166e-01</td>\n",
       "      <td>-4.770582e-01</td>\n",
       "      <td>-4.484298e-02</td>\n",
       "    </tr>\n",
       "    <tr>\n",
       "      <th>max</th>\n",
       "      <td>7.933513e-01</td>\n",
       "      <td>3.558169e+00</td>\n",
       "      <td>5.933881e+00</td>\n",
       "      <td>6.892519e+00</td>\n",
       "      <td>9.321091e+00</td>\n",
       "    </tr>\n",
       "  </tbody>\n",
       "</table>\n",
       "</div>"
      ],
      "text/plain": [
       "                  0             1             2             3             4\n",
       "count  5.690000e+02  5.690000e+02  5.690000e+02  5.690000e+02  5.690000e+02\n",
       "mean  -3.523836e-16  7.863267e-17 -1.303390e-16  2.421418e-16  6.185250e-17\n",
       "std    1.000880e+00  1.000880e+00  1.000880e+00  1.000880e+00  1.000880e+00\n",
       "min   -1.627115e+00 -1.967392e+00 -4.835641e-01 -4.770582e-01 -6.377107e-01\n",
       "25%   -4.168816e-01 -6.773078e-01 -4.835641e-01 -4.770582e-01 -4.836623e-01\n",
       "50%    7.933513e-01 -5.240135e-02 -4.835641e-01 -4.770582e-01 -3.566661e-01\n",
       "75%    7.933513e-01  5.030710e-01  3.186166e-01 -4.770582e-01 -4.484298e-02\n",
       "max    7.933513e-01  3.558169e+00  5.933881e+00  6.892519e+00  9.321091e+00"
      ]
     },
     "execution_count": 19,
     "metadata": {},
     "output_type": "execute_result"
    }
   ],
   "source": [
    "pd.DataFrame(X_train_scaled).describe()"
   ]
  },
  {
   "cell_type": "code",
   "execution_count": 20,
   "id": "8d203ef9",
   "metadata": {},
   "outputs": [
    {
     "data": {
      "text/plain": [
       "array([[ 0.        ,  0.35294118,  0.        ,  0.        ,  0.42931118],\n",
       "       [ 0.        , -0.70588235,  8.        ,  2.        ,  2.44038538],\n",
       "       [-1.        ,  0.29411765,  1.        ,  2.        ,  0.58877962],\n",
       "       [ 0.        ,  2.05882353,  0.        ,  0.        , -0.2157608 ],\n",
       "       [-1.        , -0.82352941,  1.        ,  0.        ,  0.69158361]])"
      ]
     },
     "execution_count": 20,
     "metadata": {},
     "output_type": "execute_result"
    }
   ],
   "source": [
    "# Instantiate Scaler Object\n",
    "scaler2 = RobustScaler()\n",
    "\n",
    "# Apply to X data\n",
    "X_train_robust = scaler2.fit_transform(X_train)\n",
    "X_val_robust = scaler2.transform(X_val)\n",
    "\n",
    "# Look at the transformed data\n",
    "X_train_robust[:5]"
   ]
  },
  {
   "cell_type": "code",
   "execution_count": 21,
   "id": "7224ae7c",
   "metadata": {},
   "outputs": [
    {
     "data": {
      "text/plain": [
       "0.6713286713286714"
      ]
     },
     "execution_count": 21,
     "metadata": {},
     "output_type": "execute_result"
    }
   ],
   "source": [
    "# Train the model\n",
    "lr3 = LogisticRegression()\n",
    "lr3.fit(X_train_robust, y_train)\n",
    "lr3.score(X_val_robust, y_val)"
   ]
  },
  {
   "cell_type": "code",
   "execution_count": 22,
   "id": "67031942",
   "metadata": {},
   "outputs": [
    {
     "name": "stdout",
     "output_type": "stream",
     "text": [
      "Recall: 0.42857142857142855\n",
      "Precision: 0.6153846153846154\n",
      "Accuracy: 0.6713286713286714\n"
     ]
    }
   ],
   "source": [
    "res3 = classification_score(y_val, lr3.predict(X_val_robust))"
   ]
  },
  {
   "cell_type": "code",
   "execution_count": 23,
   "id": "ce316535",
   "metadata": {},
   "outputs": [
    {
     "data": {
      "text/plain": [
       "array([[-0.67190643, -0.33554799, -0.25901055,  0.17962306,  0.24507638]])"
      ]
     },
     "execution_count": 23,
     "metadata": {},
     "output_type": "execute_result"
    }
   ],
   "source": [
    "lr2.coef_"
   ]
  },
  {
   "cell_type": "code",
   "execution_count": 24,
   "id": "10b2ab31",
   "metadata": {},
   "outputs": [
    {
     "data": {
      "text/plain": [
       "array([[1.        , 0.42196532, 0.        , 0.        , 0.04713766],\n",
       "       [1.        , 0.19577783, 1.        , 0.33333333, 0.13575256],\n",
       "       [0.5       , 0.40939935, 0.125     , 0.33333333, 0.05416439],\n",
       "       [1.        , 0.78637849, 0.        , 0.        , 0.01871355],\n",
       "       [0.5       , 0.17064589, 0.125     , 0.        , 0.05869429]])"
      ]
     },
     "execution_count": 24,
     "metadata": {},
     "output_type": "execute_result"
    }
   ],
   "source": [
    "# Instantiate Scaler Object\n",
    "scaler3 = MinMaxScaler()\n",
    "\n",
    "# Apply to X data\n",
    "X_train_mm = scaler3.fit_transform(X_train)\n",
    "X_val_mm = scaler3.transform(X_val)\n",
    "\n",
    "# Look at the transformed data\n",
    "X_train_mm[:5]"
   ]
  },
  {
   "cell_type": "code",
   "execution_count": 25,
   "id": "e912751c",
   "metadata": {},
   "outputs": [
    {
     "data": {
      "text/plain": [
       "0.6713286713286714"
      ]
     },
     "execution_count": 25,
     "metadata": {},
     "output_type": "execute_result"
    }
   ],
   "source": [
    "# Train the model\n",
    "lr4 = LogisticRegression()\n",
    "lr4.fit(X_train_mm, y_train)\n",
    "lr4.score(X_val_mm, y_val)"
   ]
  },
  {
   "cell_type": "code",
   "execution_count": 26,
   "id": "3999e1fb",
   "metadata": {},
   "outputs": [
    {
     "name": "stdout",
     "output_type": "stream",
     "text": [
      "Recall: 0.4107142857142857\n",
      "Precision: 0.6216216216216216\n",
      "Accuracy: 0.6713286713286714\n"
     ]
    }
   ],
   "source": [
    "res4 = classification_score(y_val, lr4.predict(X_val_mm))"
   ]
  },
  {
   "cell_type": "code",
   "execution_count": 27,
   "id": "0e15821a",
   "metadata": {},
   "outputs": [
    {
     "data": {
      "text/plain": [
       "array([[-1.65246186, -1.36266754, -0.81684239,  0.87030963,  1.0187786 ]])"
      ]
     },
     "execution_count": 27,
     "metadata": {},
     "output_type": "execute_result"
    }
   ],
   "source": [
    "lr4.coef_"
   ]
  },
  {
   "cell_type": "code",
   "execution_count": 28,
   "id": "e7294ef4",
   "metadata": {},
   "outputs": [
    {
     "data": {
      "text/html": [
       "<div>\n",
       "<style scoped>\n",
       "    .dataframe tbody tr th:only-of-type {\n",
       "        vertical-align: middle;\n",
       "    }\n",
       "\n",
       "    .dataframe tbody tr th {\n",
       "        vertical-align: top;\n",
       "    }\n",
       "\n",
       "    .dataframe thead th {\n",
       "        text-align: right;\n",
       "    }\n",
       "</style>\n",
       "<table border=\"1\" class=\"dataframe\">\n",
       "  <thead>\n",
       "    <tr style=\"text-align: right;\">\n",
       "      <th></th>\n",
       "      <th>sex</th>\n",
       "      <th>class</th>\n",
       "      <th>who</th>\n",
       "      <th>embark_town</th>\n",
       "    </tr>\n",
       "  </thead>\n",
       "  <tbody>\n",
       "    <tr>\n",
       "      <th>count</th>\n",
       "      <td>569</td>\n",
       "      <td>569</td>\n",
       "      <td>569</td>\n",
       "      <td>569</td>\n",
       "    </tr>\n",
       "    <tr>\n",
       "      <th>unique</th>\n",
       "      <td>2</td>\n",
       "      <td>3</td>\n",
       "      <td>3</td>\n",
       "      <td>3</td>\n",
       "    </tr>\n",
       "    <tr>\n",
       "      <th>top</th>\n",
       "      <td>male</td>\n",
       "      <td>Third</td>\n",
       "      <td>man</td>\n",
       "      <td>Southampton</td>\n",
       "    </tr>\n",
       "    <tr>\n",
       "      <th>freq</th>\n",
       "      <td>376</td>\n",
       "      <td>326</td>\n",
       "      <td>347</td>\n",
       "      <td>420</td>\n",
       "    </tr>\n",
       "  </tbody>\n",
       "</table>\n",
       "</div>"
      ],
      "text/plain": [
       "         sex  class  who  embark_town\n",
       "count    569    569  569          569\n",
       "unique     2      3    3            3\n",
       "top     male  Third  man  Southampton\n",
       "freq     376    326  347          420"
      ]
     },
     "execution_count": 28,
     "metadata": {},
     "output_type": "execute_result"
    }
   ],
   "source": [
    "train.describe(exclude=\"number\")"
   ]
  },
  {
   "cell_type": "code",
   "execution_count": 29,
   "id": "310b02ce",
   "metadata": {},
   "outputs": [],
   "source": [
    "# Extract Date Times\n",
    "\n",
    "# Create our One Hot Encoder object\n",
    "one_hot = OneHotEncoder()\n",
    "\n",
    "col_names = [\"class\",\"who\" ,\"embark_town\"]\n",
    "\n",
    "# One Hot encode the column\n",
    "one_hot_df = one_hot.fit_transform(train[col_names]).toarray()\n",
    "one_hot_df_val = one_hot.transform(val[col_names]).toarray()"
   ]
  },
  {
   "cell_type": "code",
   "execution_count": 30,
   "id": "f77a0a93",
   "metadata": {},
   "outputs": [
    {
     "data": {
      "text/plain": [
       "[array(['First', 'Second', 'Third'], dtype=object),\n",
       " array(['child', 'man', 'woman'], dtype=object),\n",
       " array(['Cherbourg', 'Queenstown', 'Southampton'], dtype=object)]"
      ]
     },
     "execution_count": 30,
     "metadata": {},
     "output_type": "execute_result"
    }
   ],
   "source": [
    "# Look at the categories\n",
    "one_hot.categories_"
   ]
  },
  {
   "cell_type": "code",
   "execution_count": 31,
   "id": "980e2331",
   "metadata": {},
   "outputs": [
    {
     "data": {
      "text/plain": [
       "['class_First',\n",
       " 'class_Second',\n",
       " 'class_Third',\n",
       " 'who_child',\n",
       " 'who_man',\n",
       " 'who_woman',\n",
       " 'embark_town_Cherbourg',\n",
       " 'embark_town_Queenstown',\n",
       " 'embark_town_Southampton']"
      ]
     },
     "execution_count": 31,
     "metadata": {},
     "output_type": "execute_result"
    }
   ],
   "source": [
    "# Create column names list for one hot encoded features\n",
    "column_names = []\n",
    "\n",
    "for y in range(len(one_hot.categories_)):\n",
    "    for z in range(len(one_hot.categories_[y])):\n",
    "        #print(one_hot.categories_[y][z])\n",
    "        column_names.append(col_names[y]+\"_\"+one_hot.categories_[y][z])\n",
    "\n",
    "\n",
    "column_names"
   ]
  },
  {
   "cell_type": "code",
   "execution_count": 32,
   "id": "03edd2db",
   "metadata": {},
   "outputs": [],
   "source": [
    "def col_names(one_hot_model):\n",
    "    \n",
    "    \"Create columns names list for one hot encoded feature\"\n",
    "    \n",
    "    column_names = []\n",
    "    \n",
    "    col_names = [\"class\",\"who\" ,\"embark_town\"]\n",
    "\n",
    "    for y in range(len(one_hot_model.categories_)):\n",
    "        for z in range(len(one_hot_model.categories_[y])):\n",
    "            # print(one_hot.categories_[y][z])\n",
    "            column_names.append(col_names[y]+\"_\"+one_hot_model.categories_[y][z])\n",
    "            \n",
    "    return column_names\n",
    "\n",
    "column_names = col_names(one_hot)"
   ]
  },
  {
   "cell_type": "code",
   "execution_count": 33,
   "id": "96b44d22",
   "metadata": {},
   "outputs": [
    {
     "data": {
      "text/plain": [
       "array([[0., 0., 1., ..., 0., 1., 0.],\n",
       "       [0., 0., 1., ..., 0., 0., 1.],\n",
       "       [0., 1., 0., ..., 0., 0., 1.],\n",
       "       ...,\n",
       "       [0., 1., 0., ..., 0., 0., 1.],\n",
       "       [0., 0., 1., ..., 0., 0., 1.],\n",
       "       [0., 0., 1., ..., 0., 0., 1.]])"
      ]
     },
     "execution_count": 33,
     "metadata": {},
     "output_type": "execute_result"
    }
   ],
   "source": [
    "# Values for each row\n",
    "one_hot_df"
   ]
  },
  {
   "cell_type": "code",
   "execution_count": 34,
   "id": "d6b30517",
   "metadata": {},
   "outputs": [
    {
     "name": "stdout",
     "output_type": "stream",
     "text": [
      "(569, 9)\n",
      "(143, 9)\n"
     ]
    }
   ],
   "source": [
    "# Cast One Hot Encoded values into a dataframe\n",
    "\n",
    "oh_df = pd.DataFrame(\n",
    "    one_hot_df,\n",
    "    index=train.index,\n",
    "    columns = column_names\n",
    ")\n",
    "\n",
    "oh_df_val = pd.DataFrame(\n",
    "    one_hot_df_val,\n",
    "    index=val.index,\n",
    "    columns = column_names\n",
    ")\n",
    "\n",
    "print(oh_df.shape)\n",
    "print(oh_df_val.shape)"
   ]
  },
  {
   "cell_type": "code",
   "execution_count": 35,
   "id": "7709e38b",
   "metadata": {},
   "outputs": [
    {
     "data": {
      "text/html": [
       "<div>\n",
       "<style scoped>\n",
       "    .dataframe tbody tr th:only-of-type {\n",
       "        vertical-align: middle;\n",
       "    }\n",
       "\n",
       "    .dataframe tbody tr th {\n",
       "        vertical-align: top;\n",
       "    }\n",
       "\n",
       "    .dataframe thead th {\n",
       "        text-align: right;\n",
       "    }\n",
       "</style>\n",
       "<table border=\"1\" class=\"dataframe\">\n",
       "  <thead>\n",
       "    <tr style=\"text-align: right;\">\n",
       "      <th></th>\n",
       "      <th>class_First</th>\n",
       "      <th>class_Second</th>\n",
       "      <th>class_Third</th>\n",
       "      <th>who_child</th>\n",
       "      <th>who_man</th>\n",
       "      <th>who_woman</th>\n",
       "      <th>embark_town_Cherbourg</th>\n",
       "      <th>embark_town_Queenstown</th>\n",
       "      <th>embark_town_Southampton</th>\n",
       "    </tr>\n",
       "  </thead>\n",
       "  <tbody>\n",
       "    <tr>\n",
       "      <th>517</th>\n",
       "      <td>0.0</td>\n",
       "      <td>0.0</td>\n",
       "      <td>1.0</td>\n",
       "      <td>0.0</td>\n",
       "      <td>1.0</td>\n",
       "      <td>0.0</td>\n",
       "      <td>0.0</td>\n",
       "      <td>1.0</td>\n",
       "      <td>0.0</td>\n",
       "    </tr>\n",
       "    <tr>\n",
       "      <th>792</th>\n",
       "      <td>0.0</td>\n",
       "      <td>0.0</td>\n",
       "      <td>1.0</td>\n",
       "      <td>0.0</td>\n",
       "      <td>0.0</td>\n",
       "      <td>1.0</td>\n",
       "      <td>0.0</td>\n",
       "      <td>0.0</td>\n",
       "      <td>1.0</td>\n",
       "    </tr>\n",
       "    <tr>\n",
       "      <th>472</th>\n",
       "      <td>0.0</td>\n",
       "      <td>1.0</td>\n",
       "      <td>0.0</td>\n",
       "      <td>0.0</td>\n",
       "      <td>0.0</td>\n",
       "      <td>1.0</td>\n",
       "      <td>0.0</td>\n",
       "      <td>0.0</td>\n",
       "      <td>1.0</td>\n",
       "    </tr>\n",
       "    <tr>\n",
       "      <th>483</th>\n",
       "      <td>0.0</td>\n",
       "      <td>0.0</td>\n",
       "      <td>1.0</td>\n",
       "      <td>0.0</td>\n",
       "      <td>0.0</td>\n",
       "      <td>1.0</td>\n",
       "      <td>0.0</td>\n",
       "      <td>0.0</td>\n",
       "      <td>1.0</td>\n",
       "    </tr>\n",
       "    <tr>\n",
       "      <th>9</th>\n",
       "      <td>0.0</td>\n",
       "      <td>1.0</td>\n",
       "      <td>0.0</td>\n",
       "      <td>1.0</td>\n",
       "      <td>0.0</td>\n",
       "      <td>0.0</td>\n",
       "      <td>1.0</td>\n",
       "      <td>0.0</td>\n",
       "      <td>0.0</td>\n",
       "    </tr>\n",
       "  </tbody>\n",
       "</table>\n",
       "</div>"
      ],
      "text/plain": [
       "     class_First  class_Second  class_Third  who_child  who_man  who_woman  \\\n",
       "517          0.0           0.0          1.0        0.0      1.0        0.0   \n",
       "792          0.0           0.0          1.0        0.0      0.0        1.0   \n",
       "472          0.0           1.0          0.0        0.0      0.0        1.0   \n",
       "483          0.0           0.0          1.0        0.0      0.0        1.0   \n",
       "9            0.0           1.0          0.0        1.0      0.0        0.0   \n",
       "\n",
       "     embark_town_Cherbourg  embark_town_Queenstown  embark_town_Southampton  \n",
       "517                    0.0                     1.0                      0.0  \n",
       "792                    0.0                     0.0                      1.0  \n",
       "472                    0.0                     0.0                      1.0  \n",
       "483                    0.0                     0.0                      1.0  \n",
       "9                      1.0                     0.0                      0.0  "
      ]
     },
     "execution_count": 35,
     "metadata": {},
     "output_type": "execute_result"
    }
   ],
   "source": [
    "oh_df.head()"
   ]
  },
  {
   "cell_type": "code",
   "execution_count": 36,
   "id": "085564ed",
   "metadata": {},
   "outputs": [
    {
     "name": "stdout",
     "output_type": "stream",
     "text": [
      "(569, 16)\n",
      "(143, 16)\n"
     ]
    }
   ],
   "source": [
    "# Create train_new df by mergind train and one hot encoded df together and drop color and clarity cols\n",
    "train_new = train.merge(oh_df, on=train.index).set_index(\"key_0\").drop([\"class\",\"who\" ,\"embark_town\"], axis=1)\n",
    "val_new = val.merge(oh_df_val, on=val.index).set_index(\"key_0\").drop([\"class\",\"who\" ,\"embark_town\"], axis=1)\n",
    "\n",
    "print(train_new.shape)\n",
    "print(val_new.shape)"
   ]
  },
  {
   "cell_type": "code",
   "execution_count": 37,
   "id": "045e96e3",
   "metadata": {},
   "outputs": [
    {
     "data": {
      "text/html": [
       "<div>\n",
       "<style scoped>\n",
       "    .dataframe tbody tr th:only-of-type {\n",
       "        vertical-align: middle;\n",
       "    }\n",
       "\n",
       "    .dataframe tbody tr th {\n",
       "        vertical-align: top;\n",
       "    }\n",
       "\n",
       "    .dataframe thead th {\n",
       "        text-align: right;\n",
       "    }\n",
       "</style>\n",
       "<table border=\"1\" class=\"dataframe\">\n",
       "  <thead>\n",
       "    <tr style=\"text-align: right;\">\n",
       "      <th></th>\n",
       "      <th>survived</th>\n",
       "      <th>pclass</th>\n",
       "      <th>sex</th>\n",
       "      <th>age</th>\n",
       "      <th>sibsp</th>\n",
       "      <th>parch</th>\n",
       "      <th>fare</th>\n",
       "      <th>class_First</th>\n",
       "      <th>class_Second</th>\n",
       "      <th>class_Third</th>\n",
       "      <th>who_child</th>\n",
       "      <th>who_man</th>\n",
       "      <th>who_woman</th>\n",
       "      <th>embark_town_Cherbourg</th>\n",
       "      <th>embark_town_Queenstown</th>\n",
       "      <th>embark_town_Southampton</th>\n",
       "    </tr>\n",
       "    <tr>\n",
       "      <th>key_0</th>\n",
       "      <th></th>\n",
       "      <th></th>\n",
       "      <th></th>\n",
       "      <th></th>\n",
       "      <th></th>\n",
       "      <th></th>\n",
       "      <th></th>\n",
       "      <th></th>\n",
       "      <th></th>\n",
       "      <th></th>\n",
       "      <th></th>\n",
       "      <th></th>\n",
       "      <th></th>\n",
       "      <th></th>\n",
       "      <th></th>\n",
       "      <th></th>\n",
       "    </tr>\n",
       "  </thead>\n",
       "  <tbody>\n",
       "    <tr>\n",
       "      <th>517</th>\n",
       "      <td>0</td>\n",
       "      <td>3</td>\n",
       "      <td>male</td>\n",
       "      <td>34.0</td>\n",
       "      <td>0</td>\n",
       "      <td>0</td>\n",
       "      <td>24.1500</td>\n",
       "      <td>0.0</td>\n",
       "      <td>0.0</td>\n",
       "      <td>1.0</td>\n",
       "      <td>0.0</td>\n",
       "      <td>1.0</td>\n",
       "      <td>0.0</td>\n",
       "      <td>0.0</td>\n",
       "      <td>1.0</td>\n",
       "      <td>0.0</td>\n",
       "    </tr>\n",
       "    <tr>\n",
       "      <th>792</th>\n",
       "      <td>0</td>\n",
       "      <td>3</td>\n",
       "      <td>female</td>\n",
       "      <td>16.0</td>\n",
       "      <td>8</td>\n",
       "      <td>2</td>\n",
       "      <td>69.5500</td>\n",
       "      <td>0.0</td>\n",
       "      <td>0.0</td>\n",
       "      <td>1.0</td>\n",
       "      <td>0.0</td>\n",
       "      <td>0.0</td>\n",
       "      <td>1.0</td>\n",
       "      <td>0.0</td>\n",
       "      <td>0.0</td>\n",
       "      <td>1.0</td>\n",
       "    </tr>\n",
       "    <tr>\n",
       "      <th>472</th>\n",
       "      <td>1</td>\n",
       "      <td>2</td>\n",
       "      <td>female</td>\n",
       "      <td>33.0</td>\n",
       "      <td>1</td>\n",
       "      <td>2</td>\n",
       "      <td>27.7500</td>\n",
       "      <td>0.0</td>\n",
       "      <td>1.0</td>\n",
       "      <td>0.0</td>\n",
       "      <td>0.0</td>\n",
       "      <td>0.0</td>\n",
       "      <td>1.0</td>\n",
       "      <td>0.0</td>\n",
       "      <td>0.0</td>\n",
       "      <td>1.0</td>\n",
       "    </tr>\n",
       "    <tr>\n",
       "      <th>483</th>\n",
       "      <td>1</td>\n",
       "      <td>3</td>\n",
       "      <td>female</td>\n",
       "      <td>63.0</td>\n",
       "      <td>0</td>\n",
       "      <td>0</td>\n",
       "      <td>9.5875</td>\n",
       "      <td>0.0</td>\n",
       "      <td>0.0</td>\n",
       "      <td>1.0</td>\n",
       "      <td>0.0</td>\n",
       "      <td>0.0</td>\n",
       "      <td>1.0</td>\n",
       "      <td>0.0</td>\n",
       "      <td>0.0</td>\n",
       "      <td>1.0</td>\n",
       "    </tr>\n",
       "    <tr>\n",
       "      <th>9</th>\n",
       "      <td>1</td>\n",
       "      <td>2</td>\n",
       "      <td>female</td>\n",
       "      <td>14.0</td>\n",
       "      <td>1</td>\n",
       "      <td>0</td>\n",
       "      <td>30.0708</td>\n",
       "      <td>0.0</td>\n",
       "      <td>1.0</td>\n",
       "      <td>0.0</td>\n",
       "      <td>1.0</td>\n",
       "      <td>0.0</td>\n",
       "      <td>0.0</td>\n",
       "      <td>1.0</td>\n",
       "      <td>0.0</td>\n",
       "      <td>0.0</td>\n",
       "    </tr>\n",
       "  </tbody>\n",
       "</table>\n",
       "</div>"
      ],
      "text/plain": [
       "       survived  pclass     sex   age  sibsp  parch     fare  class_First  \\\n",
       "key_0                                                                       \n",
       "517           0       3    male  34.0      0      0  24.1500          0.0   \n",
       "792           0       3  female  16.0      8      2  69.5500          0.0   \n",
       "472           1       2  female  33.0      1      2  27.7500          0.0   \n",
       "483           1       3  female  63.0      0      0   9.5875          0.0   \n",
       "9             1       2  female  14.0      1      0  30.0708          0.0   \n",
       "\n",
       "       class_Second  class_Third  who_child  who_man  who_woman  \\\n",
       "key_0                                                             \n",
       "517             0.0          1.0        0.0      1.0        0.0   \n",
       "792             0.0          1.0        0.0      0.0        1.0   \n",
       "472             1.0          0.0        0.0      0.0        1.0   \n",
       "483             0.0          1.0        0.0      0.0        1.0   \n",
       "9               1.0          0.0        1.0      0.0        0.0   \n",
       "\n",
       "       embark_town_Cherbourg  embark_town_Queenstown  embark_town_Southampton  \n",
       "key_0                                                                          \n",
       "517                      0.0                     1.0                      0.0  \n",
       "792                      0.0                     0.0                      1.0  \n",
       "472                      0.0                     0.0                      1.0  \n",
       "483                      0.0                     0.0                      1.0  \n",
       "9                        1.0                     0.0                      0.0  "
      ]
     },
     "execution_count": 37,
     "metadata": {},
     "output_type": "execute_result"
    }
   ],
   "source": [
    "train_new.head()"
   ]
  },
  {
   "cell_type": "code",
   "execution_count": 38,
   "id": "128d1236",
   "metadata": {},
   "outputs": [],
   "source": [
    "ordinal = OrdinalEncoder()\n",
    "\n",
    "col_names = [\"sex\"]\n",
    "\n",
    "# Ordinal encode the column\n",
    "ordinal_ls = ordinal.fit_transform(train[col_names])\n",
    "ordinal_ls_val = ordinal.transform(val[col_names])"
   ]
  },
  {
   "cell_type": "code",
   "execution_count": 39,
   "id": "d0e6967b",
   "metadata": {},
   "outputs": [
    {
     "data": {
      "text/plain": [
       "[array(['female', 'male'], dtype=object)]"
      ]
     },
     "execution_count": 39,
     "metadata": {},
     "output_type": "execute_result"
    }
   ],
   "source": [
    "# Look at categories\n",
    "ordinal.categories_"
   ]
  },
  {
   "cell_type": "code",
   "execution_count": 40,
   "id": "de0895c6",
   "metadata": {},
   "outputs": [
    {
     "data": {
      "text/html": [
       "<div>\n",
       "<style scoped>\n",
       "    .dataframe tbody tr th:only-of-type {\n",
       "        vertical-align: middle;\n",
       "    }\n",
       "\n",
       "    .dataframe tbody tr th {\n",
       "        vertical-align: top;\n",
       "    }\n",
       "\n",
       "    .dataframe thead th {\n",
       "        text-align: right;\n",
       "    }\n",
       "</style>\n",
       "<table border=\"1\" class=\"dataframe\">\n",
       "  <thead>\n",
       "    <tr style=\"text-align: right;\">\n",
       "      <th></th>\n",
       "      <th>survived</th>\n",
       "      <th>pclass</th>\n",
       "      <th>sex</th>\n",
       "      <th>age</th>\n",
       "      <th>sibsp</th>\n",
       "      <th>parch</th>\n",
       "      <th>fare</th>\n",
       "      <th>class_First</th>\n",
       "      <th>class_Second</th>\n",
       "      <th>class_Third</th>\n",
       "      <th>who_child</th>\n",
       "      <th>who_man</th>\n",
       "      <th>who_woman</th>\n",
       "      <th>embark_town_Cherbourg</th>\n",
       "      <th>embark_town_Queenstown</th>\n",
       "      <th>embark_town_Southampton</th>\n",
       "    </tr>\n",
       "    <tr>\n",
       "      <th>key_0</th>\n",
       "      <th></th>\n",
       "      <th></th>\n",
       "      <th></th>\n",
       "      <th></th>\n",
       "      <th></th>\n",
       "      <th></th>\n",
       "      <th></th>\n",
       "      <th></th>\n",
       "      <th></th>\n",
       "      <th></th>\n",
       "      <th></th>\n",
       "      <th></th>\n",
       "      <th></th>\n",
       "      <th></th>\n",
       "      <th></th>\n",
       "      <th></th>\n",
       "    </tr>\n",
       "  </thead>\n",
       "  <tbody>\n",
       "    <tr>\n",
       "      <th>495</th>\n",
       "      <td>0</td>\n",
       "      <td>3</td>\n",
       "      <td>1.0</td>\n",
       "      <td>21.0</td>\n",
       "      <td>0</td>\n",
       "      <td>0</td>\n",
       "      <td>14.4583</td>\n",
       "      <td>0.0</td>\n",
       "      <td>0.0</td>\n",
       "      <td>1.0</td>\n",
       "      <td>0.0</td>\n",
       "      <td>1.0</td>\n",
       "      <td>0.0</td>\n",
       "      <td>1.0</td>\n",
       "      <td>0.0</td>\n",
       "      <td>0.0</td>\n",
       "    </tr>\n",
       "    <tr>\n",
       "      <th>161</th>\n",
       "      <td>1</td>\n",
       "      <td>2</td>\n",
       "      <td>0.0</td>\n",
       "      <td>40.0</td>\n",
       "      <td>0</td>\n",
       "      <td>0</td>\n",
       "      <td>15.7500</td>\n",
       "      <td>0.0</td>\n",
       "      <td>1.0</td>\n",
       "      <td>0.0</td>\n",
       "      <td>0.0</td>\n",
       "      <td>0.0</td>\n",
       "      <td>1.0</td>\n",
       "      <td>0.0</td>\n",
       "      <td>0.0</td>\n",
       "      <td>1.0</td>\n",
       "    </tr>\n",
       "    <tr>\n",
       "      <th>178</th>\n",
       "      <td>0</td>\n",
       "      <td>2</td>\n",
       "      <td>1.0</td>\n",
       "      <td>30.0</td>\n",
       "      <td>0</td>\n",
       "      <td>0</td>\n",
       "      <td>13.0000</td>\n",
       "      <td>0.0</td>\n",
       "      <td>1.0</td>\n",
       "      <td>0.0</td>\n",
       "      <td>0.0</td>\n",
       "      <td>1.0</td>\n",
       "      <td>0.0</td>\n",
       "      <td>0.0</td>\n",
       "      <td>0.0</td>\n",
       "      <td>1.0</td>\n",
       "    </tr>\n",
       "    <tr>\n",
       "      <th>404</th>\n",
       "      <td>0</td>\n",
       "      <td>3</td>\n",
       "      <td>0.0</td>\n",
       "      <td>20.0</td>\n",
       "      <td>0</td>\n",
       "      <td>0</td>\n",
       "      <td>8.6625</td>\n",
       "      <td>0.0</td>\n",
       "      <td>0.0</td>\n",
       "      <td>1.0</td>\n",
       "      <td>0.0</td>\n",
       "      <td>0.0</td>\n",
       "      <td>1.0</td>\n",
       "      <td>0.0</td>\n",
       "      <td>0.0</td>\n",
       "      <td>1.0</td>\n",
       "    </tr>\n",
       "    <tr>\n",
       "      <th>467</th>\n",
       "      <td>0</td>\n",
       "      <td>1</td>\n",
       "      <td>1.0</td>\n",
       "      <td>56.0</td>\n",
       "      <td>0</td>\n",
       "      <td>0</td>\n",
       "      <td>26.5500</td>\n",
       "      <td>1.0</td>\n",
       "      <td>0.0</td>\n",
       "      <td>0.0</td>\n",
       "      <td>0.0</td>\n",
       "      <td>1.0</td>\n",
       "      <td>0.0</td>\n",
       "      <td>0.0</td>\n",
       "      <td>0.0</td>\n",
       "      <td>1.0</td>\n",
       "    </tr>\n",
       "  </tbody>\n",
       "</table>\n",
       "</div>"
      ],
      "text/plain": [
       "       survived  pclass  sex   age  sibsp  parch     fare  class_First  \\\n",
       "key_0                                                                    \n",
       "495           0       3  1.0  21.0      0      0  14.4583          0.0   \n",
       "161           1       2  0.0  40.0      0      0  15.7500          0.0   \n",
       "178           0       2  1.0  30.0      0      0  13.0000          0.0   \n",
       "404           0       3  0.0  20.0      0      0   8.6625          0.0   \n",
       "467           0       1  1.0  56.0      0      0  26.5500          1.0   \n",
       "\n",
       "       class_Second  class_Third  who_child  who_man  who_woman  \\\n",
       "key_0                                                             \n",
       "495             0.0          1.0        0.0      1.0        0.0   \n",
       "161             1.0          0.0        0.0      0.0        1.0   \n",
       "178             1.0          0.0        0.0      1.0        0.0   \n",
       "404             0.0          1.0        0.0      0.0        1.0   \n",
       "467             0.0          0.0        0.0      1.0        0.0   \n",
       "\n",
       "       embark_town_Cherbourg  embark_town_Queenstown  embark_town_Southampton  \n",
       "key_0                                                                          \n",
       "495                      1.0                     0.0                      0.0  \n",
       "161                      0.0                     0.0                      1.0  \n",
       "178                      0.0                     0.0                      1.0  \n",
       "404                      0.0                     0.0                      1.0  \n",
       "467                      0.0                     0.0                      1.0  "
      ]
     },
     "execution_count": 40,
     "metadata": {},
     "output_type": "execute_result"
    }
   ],
   "source": [
    "# Add oridnally encoded column to the data\n",
    "train_new[\"sex\"] = ordinal_ls\n",
    "val_new[\"sex\"] = ordinal_ls_val\n",
    "\n",
    "train_new.sample(5)"
   ]
  },
  {
   "cell_type": "code",
   "execution_count": 41,
   "id": "a7acfd71",
   "metadata": {},
   "outputs": [],
   "source": [
    "target = \"survived\"\n",
    "\n",
    "X_train = train_new.drop(target, axis=1)\n",
    "y_train = train_new[target]\n",
    "\n",
    "X_val = val_new.drop(target, axis=1)\n",
    "y_val = val_new[target]"
   ]
  },
  {
   "cell_type": "code",
   "execution_count": 42,
   "id": "a1a791e4",
   "metadata": {},
   "outputs": [
    {
     "name": "stderr",
     "output_type": "stream",
     "text": [
      "C:\\Users\\SarOonh\\anaconda3\\lib\\site-packages\\sklearn\\linear_model\\_logistic.py:763: ConvergenceWarning: lbfgs failed to converge (status=1):\n",
      "STOP: TOTAL NO. of ITERATIONS REACHED LIMIT.\n",
      "\n",
      "Increase the number of iterations (max_iter) or scale the data as shown in:\n",
      "    https://scikit-learn.org/stable/modules/preprocessing.html\n",
      "Please also refer to the documentation for alternative solver options:\n",
      "    https://scikit-learn.org/stable/modules/linear_model.html#logistic-regression\n",
      "  n_iter_i = _check_optimize_result(\n"
     ]
    },
    {
     "data": {
      "text/plain": [
       "0.8251748251748252"
      ]
     },
     "execution_count": 42,
     "metadata": {},
     "output_type": "execute_result"
    }
   ],
   "source": [
    "lr5 = LogisticRegression()\n",
    "\n",
    "lr5.fit(X_train, y_train)\n",
    "lr5.score(X_val, y_val)"
   ]
  },
  {
   "cell_type": "code",
   "execution_count": 43,
   "id": "0d5195b8",
   "metadata": {},
   "outputs": [
    {
     "name": "stdout",
     "output_type": "stream",
     "text": [
      "Recall: 0.7678571428571429\n",
      "Precision: 0.7818181818181819\n",
      "Accuracy: 0.8251748251748252\n"
     ]
    }
   ],
   "source": [
    "res4 = classification_score(y_val, lr5.predict(X_val))"
   ]
  },
  {
   "cell_type": "code",
   "execution_count": 44,
   "id": "4bf1c220",
   "metadata": {},
   "outputs": [
    {
     "data": {
      "text/html": [
       "<div>\n",
       "<style scoped>\n",
       "    .dataframe tbody tr th:only-of-type {\n",
       "        vertical-align: middle;\n",
       "    }\n",
       "\n",
       "    .dataframe tbody tr th {\n",
       "        vertical-align: top;\n",
       "    }\n",
       "\n",
       "    .dataframe thead th {\n",
       "        text-align: right;\n",
       "    }\n",
       "</style>\n",
       "<table border=\"1\" class=\"dataframe\">\n",
       "  <thead>\n",
       "    <tr style=\"text-align: right;\">\n",
       "      <th></th>\n",
       "      <th>pclass</th>\n",
       "      <th>sex</th>\n",
       "      <th>age</th>\n",
       "      <th>sibsp</th>\n",
       "      <th>parch</th>\n",
       "      <th>fare</th>\n",
       "      <th>class_First</th>\n",
       "      <th>class_Second</th>\n",
       "      <th>class_Third</th>\n",
       "      <th>who_child</th>\n",
       "      <th>who_man</th>\n",
       "      <th>who_woman</th>\n",
       "      <th>embark_town_Cherbourg</th>\n",
       "      <th>embark_town_Queenstown</th>\n",
       "      <th>embark_town_Southampton</th>\n",
       "    </tr>\n",
       "    <tr>\n",
       "      <th>key_0</th>\n",
       "      <th></th>\n",
       "      <th></th>\n",
       "      <th></th>\n",
       "      <th></th>\n",
       "      <th></th>\n",
       "      <th></th>\n",
       "      <th></th>\n",
       "      <th></th>\n",
       "      <th></th>\n",
       "      <th></th>\n",
       "      <th></th>\n",
       "      <th></th>\n",
       "      <th></th>\n",
       "      <th></th>\n",
       "      <th></th>\n",
       "    </tr>\n",
       "  </thead>\n",
       "  <tbody>\n",
       "    <tr>\n",
       "      <th>517</th>\n",
       "      <td>3</td>\n",
       "      <td>1.0</td>\n",
       "      <td>34.0</td>\n",
       "      <td>0</td>\n",
       "      <td>0</td>\n",
       "      <td>24.1500</td>\n",
       "      <td>0.0</td>\n",
       "      <td>0.0</td>\n",
       "      <td>1.0</td>\n",
       "      <td>0.0</td>\n",
       "      <td>1.0</td>\n",
       "      <td>0.0</td>\n",
       "      <td>0.0</td>\n",
       "      <td>1.0</td>\n",
       "      <td>0.0</td>\n",
       "    </tr>\n",
       "    <tr>\n",
       "      <th>792</th>\n",
       "      <td>3</td>\n",
       "      <td>0.0</td>\n",
       "      <td>16.0</td>\n",
       "      <td>8</td>\n",
       "      <td>2</td>\n",
       "      <td>69.5500</td>\n",
       "      <td>0.0</td>\n",
       "      <td>0.0</td>\n",
       "      <td>1.0</td>\n",
       "      <td>0.0</td>\n",
       "      <td>0.0</td>\n",
       "      <td>1.0</td>\n",
       "      <td>0.0</td>\n",
       "      <td>0.0</td>\n",
       "      <td>1.0</td>\n",
       "    </tr>\n",
       "    <tr>\n",
       "      <th>472</th>\n",
       "      <td>2</td>\n",
       "      <td>0.0</td>\n",
       "      <td>33.0</td>\n",
       "      <td>1</td>\n",
       "      <td>2</td>\n",
       "      <td>27.7500</td>\n",
       "      <td>0.0</td>\n",
       "      <td>1.0</td>\n",
       "      <td>0.0</td>\n",
       "      <td>0.0</td>\n",
       "      <td>0.0</td>\n",
       "      <td>1.0</td>\n",
       "      <td>0.0</td>\n",
       "      <td>0.0</td>\n",
       "      <td>1.0</td>\n",
       "    </tr>\n",
       "    <tr>\n",
       "      <th>483</th>\n",
       "      <td>3</td>\n",
       "      <td>0.0</td>\n",
       "      <td>63.0</td>\n",
       "      <td>0</td>\n",
       "      <td>0</td>\n",
       "      <td>9.5875</td>\n",
       "      <td>0.0</td>\n",
       "      <td>0.0</td>\n",
       "      <td>1.0</td>\n",
       "      <td>0.0</td>\n",
       "      <td>0.0</td>\n",
       "      <td>1.0</td>\n",
       "      <td>0.0</td>\n",
       "      <td>0.0</td>\n",
       "      <td>1.0</td>\n",
       "    </tr>\n",
       "    <tr>\n",
       "      <th>9</th>\n",
       "      <td>2</td>\n",
       "      <td>0.0</td>\n",
       "      <td>14.0</td>\n",
       "      <td>1</td>\n",
       "      <td>0</td>\n",
       "      <td>30.0708</td>\n",
       "      <td>0.0</td>\n",
       "      <td>1.0</td>\n",
       "      <td>0.0</td>\n",
       "      <td>1.0</td>\n",
       "      <td>0.0</td>\n",
       "      <td>0.0</td>\n",
       "      <td>1.0</td>\n",
       "      <td>0.0</td>\n",
       "      <td>0.0</td>\n",
       "    </tr>\n",
       "    <tr>\n",
       "      <th>...</th>\n",
       "      <td>...</td>\n",
       "      <td>...</td>\n",
       "      <td>...</td>\n",
       "      <td>...</td>\n",
       "      <td>...</td>\n",
       "      <td>...</td>\n",
       "      <td>...</td>\n",
       "      <td>...</td>\n",
       "      <td>...</td>\n",
       "      <td>...</td>\n",
       "      <td>...</td>\n",
       "      <td>...</td>\n",
       "      <td>...</td>\n",
       "      <td>...</td>\n",
       "      <td>...</td>\n",
       "    </tr>\n",
       "    <tr>\n",
       "      <th>79</th>\n",
       "      <td>3</td>\n",
       "      <td>0.0</td>\n",
       "      <td>30.0</td>\n",
       "      <td>0</td>\n",
       "      <td>0</td>\n",
       "      <td>12.4750</td>\n",
       "      <td>0.0</td>\n",
       "      <td>0.0</td>\n",
       "      <td>1.0</td>\n",
       "      <td>0.0</td>\n",
       "      <td>0.0</td>\n",
       "      <td>1.0</td>\n",
       "      <td>0.0</td>\n",
       "      <td>0.0</td>\n",
       "      <td>1.0</td>\n",
       "    </tr>\n",
       "    <tr>\n",
       "      <th>164</th>\n",
       "      <td>3</td>\n",
       "      <td>1.0</td>\n",
       "      <td>1.0</td>\n",
       "      <td>4</td>\n",
       "      <td>1</td>\n",
       "      <td>39.6875</td>\n",
       "      <td>0.0</td>\n",
       "      <td>0.0</td>\n",
       "      <td>1.0</td>\n",
       "      <td>1.0</td>\n",
       "      <td>0.0</td>\n",
       "      <td>0.0</td>\n",
       "      <td>0.0</td>\n",
       "      <td>0.0</td>\n",
       "      <td>1.0</td>\n",
       "    </tr>\n",
       "    <tr>\n",
       "      <th>117</th>\n",
       "      <td>2</td>\n",
       "      <td>1.0</td>\n",
       "      <td>29.0</td>\n",
       "      <td>1</td>\n",
       "      <td>0</td>\n",
       "      <td>21.0000</td>\n",
       "      <td>0.0</td>\n",
       "      <td>1.0</td>\n",
       "      <td>0.0</td>\n",
       "      <td>0.0</td>\n",
       "      <td>1.0</td>\n",
       "      <td>0.0</td>\n",
       "      <td>0.0</td>\n",
       "      <td>0.0</td>\n",
       "      <td>1.0</td>\n",
       "    </tr>\n",
       "    <tr>\n",
       "      <th>8</th>\n",
       "      <td>3</td>\n",
       "      <td>0.0</td>\n",
       "      <td>27.0</td>\n",
       "      <td>0</td>\n",
       "      <td>2</td>\n",
       "      <td>11.1333</td>\n",
       "      <td>0.0</td>\n",
       "      <td>0.0</td>\n",
       "      <td>1.0</td>\n",
       "      <td>0.0</td>\n",
       "      <td>0.0</td>\n",
       "      <td>1.0</td>\n",
       "      <td>0.0</td>\n",
       "      <td>0.0</td>\n",
       "      <td>1.0</td>\n",
       "    </tr>\n",
       "    <tr>\n",
       "      <th>131</th>\n",
       "      <td>3</td>\n",
       "      <td>1.0</td>\n",
       "      <td>20.0</td>\n",
       "      <td>0</td>\n",
       "      <td>0</td>\n",
       "      <td>7.0500</td>\n",
       "      <td>0.0</td>\n",
       "      <td>0.0</td>\n",
       "      <td>1.0</td>\n",
       "      <td>0.0</td>\n",
       "      <td>1.0</td>\n",
       "      <td>0.0</td>\n",
       "      <td>0.0</td>\n",
       "      <td>0.0</td>\n",
       "      <td>1.0</td>\n",
       "    </tr>\n",
       "  </tbody>\n",
       "</table>\n",
       "<p>569 rows × 15 columns</p>\n",
       "</div>"
      ],
      "text/plain": [
       "       pclass  sex   age  sibsp  parch     fare  class_First  class_Second  \\\n",
       "key_0                                                                        \n",
       "517         3  1.0  34.0      0      0  24.1500          0.0           0.0   \n",
       "792         3  0.0  16.0      8      2  69.5500          0.0           0.0   \n",
       "472         2  0.0  33.0      1      2  27.7500          0.0           1.0   \n",
       "483         3  0.0  63.0      0      0   9.5875          0.0           0.0   \n",
       "9           2  0.0  14.0      1      0  30.0708          0.0           1.0   \n",
       "...       ...  ...   ...    ...    ...      ...          ...           ...   \n",
       "79          3  0.0  30.0      0      0  12.4750          0.0           0.0   \n",
       "164         3  1.0   1.0      4      1  39.6875          0.0           0.0   \n",
       "117         2  1.0  29.0      1      0  21.0000          0.0           1.0   \n",
       "8           3  0.0  27.0      0      2  11.1333          0.0           0.0   \n",
       "131         3  1.0  20.0      0      0   7.0500          0.0           0.0   \n",
       "\n",
       "       class_Third  who_child  who_man  who_woman  embark_town_Cherbourg  \\\n",
       "key_0                                                                      \n",
       "517            1.0        0.0      1.0        0.0                    0.0   \n",
       "792            1.0        0.0      0.0        1.0                    0.0   \n",
       "472            0.0        0.0      0.0        1.0                    0.0   \n",
       "483            1.0        0.0      0.0        1.0                    0.0   \n",
       "9              0.0        1.0      0.0        0.0                    1.0   \n",
       "...            ...        ...      ...        ...                    ...   \n",
       "79             1.0        0.0      0.0        1.0                    0.0   \n",
       "164            1.0        1.0      0.0        0.0                    0.0   \n",
       "117            0.0        0.0      1.0        0.0                    0.0   \n",
       "8              1.0        0.0      0.0        1.0                    0.0   \n",
       "131            1.0        0.0      1.0        0.0                    0.0   \n",
       "\n",
       "       embark_town_Queenstown  embark_town_Southampton  \n",
       "key_0                                                   \n",
       "517                       1.0                      0.0  \n",
       "792                       0.0                      1.0  \n",
       "472                       0.0                      1.0  \n",
       "483                       0.0                      1.0  \n",
       "9                         0.0                      0.0  \n",
       "...                       ...                      ...  \n",
       "79                        0.0                      1.0  \n",
       "164                       0.0                      1.0  \n",
       "117                       0.0                      1.0  \n",
       "8                         0.0                      1.0  \n",
       "131                       0.0                      1.0  \n",
       "\n",
       "[569 rows x 15 columns]"
      ]
     },
     "execution_count": 44,
     "metadata": {},
     "output_type": "execute_result"
    }
   ],
   "source": [
    "X_train"
   ]
  },
  {
   "cell_type": "code",
   "execution_count": 45,
   "id": "a02dc9ec",
   "metadata": {},
   "outputs": [
    {
     "data": {
      "text/plain": [
       "True"
      ]
     },
     "execution_count": 45,
     "metadata": {},
     "output_type": "execute_result"
    }
   ],
   "source": [
    "# Verify that index values match in both datasets\n",
    "# We expect to see the same number of rows in X_train as the sum value\n",
    "X_train.shape[0] == sum(X_train.index == y_train.index)"
   ]
  },
  {
   "cell_type": "code",
   "execution_count": 46,
   "id": "9baa401b",
   "metadata": {},
   "outputs": [
    {
     "name": "stderr",
     "output_type": "stream",
     "text": [
      "C:\\Users\\SarOonh\\anaconda3\\lib\\site-packages\\sklearn\\linear_model\\_logistic.py:763: ConvergenceWarning: lbfgs failed to converge (status=1):\n",
      "STOP: TOTAL NO. of ITERATIONS REACHED LIMIT.\n",
      "\n",
      "Increase the number of iterations (max_iter) or scale the data as shown in:\n",
      "    https://scikit-learn.org/stable/modules/preprocessing.html\n",
      "Please also refer to the documentation for alternative solver options:\n",
      "    https://scikit-learn.org/stable/modules/linear_model.html#logistic-regression\n",
      "  n_iter_i = _check_optimize_result(\n"
     ]
    },
    {
     "data": {
      "text/plain": [
       "0.8251748251748252"
      ]
     },
     "execution_count": 46,
     "metadata": {},
     "output_type": "execute_result"
    }
   ],
   "source": [
    "# Model\n",
    "lr6 = LogisticRegression()\n",
    "\n",
    "lr6.fit(X_train, y_train)\n",
    "lr6.score(X_val, y_val)"
   ]
  },
  {
   "cell_type": "code",
   "execution_count": 47,
   "id": "0576a655",
   "metadata": {},
   "outputs": [
    {
     "name": "stdout",
     "output_type": "stream",
     "text": [
      "Recall: 0.7678571428571429\n",
      "Precision: 0.7818181818181819\n",
      "Accuracy: 0.8251748251748252\n"
     ]
    }
   ],
   "source": [
    "res5 = classification_score(y_val, lr6.predict(X_val))"
   ]
  },
  {
   "cell_type": "code",
   "execution_count": 48,
   "id": "8c8b5ae1",
   "metadata": {},
   "outputs": [
    {
     "name": "stdout",
     "output_type": "stream",
     "text": [
      "Recall %: 45\n",
      "Precision %: 14\n",
      "Accuracy %: 14\n"
     ]
    }
   ],
   "source": [
    "# remember in classification you calc the % of increase\n",
    "# and in regression you calc the % of decrease \n",
    "# this is because of the nature of the cost functions for each type\n",
    "\n",
    "\n",
    "delta_Recall = ((res5['Recall']- res1['Recall'])/res5['Recall'])*100\n",
    "delta_Precision = ((res5['Precision']- res1['Precision'])/res5['Precision'])*100\n",
    "delta_Accuracy = ((res5['Accuracy']- res1['Accuracy'])/res5['Accuracy'])*100\n",
    "\n",
    "delta_ls = [round(delta_Recall), round(delta_Precision), round(delta_Accuracy)]\n",
    "delta_ls2 = [\"Recall %\", \"Precision %\", \"Accuracy %\"]\n",
    "    \n",
    "for x in range(len(delta_ls)):\n",
    "    print(f\"{delta_ls2[x]}: {delta_ls[x]}\")\n",
    "        "
   ]
  },
  {
   "cell_type": "code",
   "execution_count": 49,
   "id": "f294d932",
   "metadata": {},
   "outputs": [],
   "source": [
    "# Used for saving out models\n",
    "import joblib\n",
    "import seaborn as sns\n",
    "import datetime"
   ]
  },
  {
   "cell_type": "code",
   "execution_count": 50,
   "id": "4cdc9b0a",
   "metadata": {},
   "outputs": [
    {
     "data": {
      "text/plain": [
       "'2021-06-22 15:17:19.531271'"
      ]
     },
     "execution_count": 50,
     "metadata": {},
     "output_type": "execute_result"
    }
   ],
   "source": [
    "# Getting a time stamp for today\n",
    "\n",
    "str(datetime.datetime.today())"
   ]
  },
  {
   "cell_type": "code",
   "execution_count": 51,
   "id": "1b6e2c90",
   "metadata": {},
   "outputs": [
    {
     "data": {
      "text/plain": [
       "'2021-06-22'"
      ]
     },
     "execution_count": 51,
     "metadata": {},
     "output_type": "execute_result"
    }
   ],
   "source": [
    "# Getting only the date from the time stamp\n",
    "\n",
    "str(datetime.datetime.today())[:10]"
   ]
  },
  {
   "cell_type": "code",
   "execution_count": 52,
   "id": "253109b3",
   "metadata": {},
   "outputs": [
    {
     "data": {
      "text/plain": [
       "['./models/model_2021_06_22']"
      ]
     },
     "execution_count": 52,
     "metadata": {},
     "output_type": "execute_result"
    }
   ],
   "source": [
    "# Save the model as todays date\n",
    "\n",
    "# Note: these will be saved in a file called models\n",
    "# Note: if the file does not exist --> create it\n",
    "# Todays date as string\n",
    "today = str(datetime.datetime.today())[:10].replace(\"-\", \"_\")\n",
    "\n",
    "joblib.dump(scaler, f\"./models/scaler_{today}\")\n",
    "joblib.dump(one_hot, f\"./models/one_hot_{today}\")\n",
    "joblib.dump(ordinal, f\"./models/ordinal_{today}\")\n",
    "joblib.dump(lr6, f\"./models/model_{today}\")"
   ]
  },
  {
   "cell_type": "code",
   "execution_count": 53,
   "id": "e802bf93",
   "metadata": {},
   "outputs": [],
   "source": [
    "# Load the model\n",
    "jl_scaler = joblib.load(f\"./models/scaler_{today}\")\n",
    "jl_one_hot = joblib.load(f\"./models/one_hot_{today}\")\n",
    "jl_ordinal = joblib.load(f\"./models/ordinal_{today}\")\n",
    "jl_model = joblib.load(f\"./models/model_{today}\")"
   ]
  },
  {
   "cell_type": "code",
   "execution_count": 54,
   "id": "997b9c55",
   "metadata": {},
   "outputs": [],
   "source": [
    "# Column names for one hot and ordinal encoder\n",
    "col_names_one_hot = [\"embarked\", \"class\",\"who\" , \"deck\", \"embark_town\", \"alive\"]\n",
    "col_names_ordinal = [\"sex\"]\n",
    "\n",
    "# Change column order to make addition of scaled features easier\n",
    "#col_order_ls = ['carat','depth', 'table', 'x', 'y', 'z', 'cut', 'color_D', 'color_E',\n",
    "#       'color_F', 'color_G', 'color_H', 'color_I', 'color_J', 'clarity_I1',\n",
    "#       'clarity_IF', 'clarity_SI1', 'clarity_SI2', 'clarity_VS1',\n",
    "#       'clarity_VS2', 'clarity_VVS1', 'clarity_VVS2']\n",
    "\n",
    "def cleaner(df):\n",
    "    \"Return Only Numeric Features\"\n",
    "    \n",
    "    # Create boolean array with only columns that are float64\n",
    "    columns_bool = (df.dtypes != \"category\").values\n",
    "\n",
    "    # Return only numeric columns\n",
    "    df = df.iloc[:, columns_bool].dropna()\n",
    "\n",
    "    return df\n",
    "\n",
    "\n",
    "def col_names(one_hot_model):\n",
    "    \n",
    "    \"Create columns names list for one hot encoded feature\"\n",
    "    \n",
    "    column_names = []\n",
    "    \n",
    "    col_names = [\"embarked\", \"class\",\"who\" , \"deck\", \"embark_town\", \"alive\"]\n",
    "\n",
    "    for y in range(len(one_hot_model.categories_)):\n",
    "        for z in range(len(one_hot_model.categories_[y])):\n",
    "            # print(one_hot.categories_[y][z])\n",
    "            column_names.append(col_names[y]+\"_\"+one_hot_model.categories_[y][z])\n",
    "            \n",
    "    return column_names\n",
    "\n",
    "def classification_score(y_true, y_predict):\n",
    "    \n",
    "    \"Calculate classification Score Functions and print output\"\n",
    "    \n",
    "    result_dict = {}\n",
    "    \n",
    "    recall =recall_score(y_true, y_predict)\n",
    "    precision  =precision_score(y_true, y_predict)\n",
    "    accuracy =accuracy_score(y_true, y_predict)\n",
    "    \n",
    "    ls = [recall, precision, accuracy]\n",
    "    ls2 = [\"Recall\", \"Precision\", \"Accuracy\"]\n",
    "    \n",
    "    for x in range(len(ls)):\n",
    "        print(f\"{ls2[x]}: {ls[x]}\")\n",
    "        result_dict[ls2[x]] = ls[x]\n",
    "    \n",
    "    return result_dict\n",
    "\n"
   ]
  },
  {
   "cell_type": "code",
   "execution_count": 55,
   "id": "67f56ec9",
   "metadata": {},
   "outputs": [
    {
     "data": {
      "text/plain": [
       "0.8251748251748252"
      ]
     },
     "execution_count": 55,
     "metadata": {},
     "output_type": "execute_result"
    }
   ],
   "source": [
    "# Compare with actual model\n",
    "# Should have this model in memory, if not then run the code for the model above\n",
    "lr6.score(X_val, y_val)"
   ]
  },
  {
   "cell_type": "code",
   "execution_count": 56,
   "id": "095d721c",
   "metadata": {},
   "outputs": [
    {
     "data": {
      "text/plain": [
       "0.8251748251748252"
      ]
     },
     "execution_count": 56,
     "metadata": {},
     "output_type": "execute_result"
    }
   ],
   "source": [
    "jl_model.score(X_val, y_val)"
   ]
  },
  {
   "cell_type": "code",
   "execution_count": 57,
   "id": "fe3b2add",
   "metadata": {},
   "outputs": [
    {
     "data": {
      "text/plain": [
       "143"
      ]
     },
     "execution_count": 57,
     "metadata": {},
     "output_type": "execute_result"
    }
   ],
   "source": [
    "# Check to see exact predictions are being made for reproducibiblity\n",
    "sum(jl_model.predict(X_val) == lr6.predict(X_val))"
   ]
  },
  {
   "cell_type": "code",
   "execution_count": 58,
   "id": "ae6f32bd",
   "metadata": {},
   "outputs": [
    {
     "data": {
      "text/plain": [
       "(143, 15)"
      ]
     },
     "execution_count": 58,
     "metadata": {},
     "output_type": "execute_result"
    }
   ],
   "source": [
    "X_val.shape"
   ]
  },
  {
   "cell_type": "code",
   "execution_count": 59,
   "id": "5c8e358a",
   "metadata": {},
   "outputs": [
    {
     "name": "stdout",
     "output_type": "stream",
     "text": [
      "Loaded Model\n",
      "Recall: 0.7678571428571429\n",
      "Precision: 0.7818181818181819\n",
      "Accuracy: 0.8251748251748252\n",
      "\n",
      "Linear Regression 6\n",
      "Recall: 0.7678571428571429\n",
      "Precision: 0.7818181818181819\n",
      "Accuracy: 0.8251748251748252\n"
     ]
    }
   ],
   "source": [
    "print(\"Loaded Model\")\n",
    "loaded_preds = jl_model.predict(X_val)\n",
    "res6 = classification_score(y_val, loaded_preds)\n",
    "print(\"\\nLinear Regression 6\")\n",
    "classification_score(y_val, lr6.predict(X_val));"
   ]
  },
  {
   "cell_type": "code",
   "execution_count": 60,
   "id": "80d3b6cd",
   "metadata": {},
   "outputs": [
    {
     "data": {
      "image/png": "[encoded data removed]",
      "text/plain": [
       "<Figure size 432x288 with 1 Axes>"
      ]
     },
     "metadata": {},
     "output_type": "display_data"
    },
    {
     "data": {
      "image/png": "[encoded data removed]",
      "text/plain": [
       "<Figure size 432x288 with 1 Axes>"
      ]
     },
     "metadata": {},
     "output_type": "display_data"
    },
    {
     "data": {
      "image/png": "[encoded data removed]",
      "text/plain": [
       "<Figure size 432x288 with 1 Axes>"
      ]
     },
     "metadata": {},
     "output_type": "display_data"
    }
   ],
   "source": [
    "model_ls = [\"baseline\", \"Standard\", \"Robust\", \"MinMax\", \"Encoded\", \"Scaled & Engineered\", \"Loaded\"]\n",
    "result_ls = [res0, res1, res2, res3, res4, res5, res6]\n",
    "\n",
    "res_df = pd.DataFrame(result_ls, index=model_ls)\n",
    "\n",
    "for x in [\"Recall\", \"Precision\", \"Accuracy\"]:\n",
    "    res_df.loc[:,res_df.columns == x].sort_values(by=x).plot(kind=\"bar\", title=f\"Model Scores: {x}\")"
   ]
  }
 ],
 "metadata": {
  "kernelspec": {
   "display_name": "Python 3",
   "language": "python",
   "name": "python3"
  },
  "language_info": {
   "codemirror_mode": {
    "name": "ipython",
    "version": 3
   },
   "file_extension": ".py",
   "mimetype": "text/x-python",
   "name": "python",
   "nbconvert_exporter": "python",
   "pygments_lexer": "ipython3",
   "version": "3.8.8"
  }
 },
 "nbformat": 4,
 "nbformat_minor": 5
}
