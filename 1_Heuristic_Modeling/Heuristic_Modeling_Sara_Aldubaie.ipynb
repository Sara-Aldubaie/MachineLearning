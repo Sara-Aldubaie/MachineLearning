{
 "cells": [
  {
   "cell_type": "markdown",
   "id": "c7ad8d62",
   "metadata": {},
   "source": [
    "<img align=\"right\" width=\"200\" height=\"200\" src=\"https://static.wikia.nocookie.net/lego/images/2/23/PPG_logo.png\">\n",
    "\n",
    "# <span style=\"color:#EF7C8E\">Heuristic Modeling</span>\n",
    "### <span style=\"color:#726060\"> Sara Aldubaie</span>\n",
    "<hr style=\"border:2px solid gray\"> </hr>"
   ]
  },
  {
   "cell_type": "code",
   "execution_count": 1,
   "id": "0f8f0edd",
   "metadata": {},
   "outputs": [],
   "source": [
    "#here is an example of how to build and populate a hurestic model\n",
    "\n",
    "import pandas as pd\n",
    "import numpy as np\n",
    "import matplotlib.pyplot as plt\n",
    "import seaborn as sns\n",
    "%matplotlib inline\n",
    "import time\n",
    "import datetime\n",
    "from sklearn.metrics import mean_squared_error, mean_absolute_error, accuracy_score, recall_score, precision_score\n",
    "import random\n",
    "from sklearn.model_selection import train_test_split\n",
    "\n"
   ]
  },
  {
   "cell_type": "code",
   "execution_count": 2,
   "id": "9aaf13b5",
   "metadata": {},
   "outputs": [
    {
     "data": {
      "text/html": [
       "<div>\n",
       "<style scoped>\n",
       "    .dataframe tbody tr th:only-of-type {\n",
       "        vertical-align: middle;\n",
       "    }\n",
       "\n",
       "    .dataframe tbody tr th {\n",
       "        vertical-align: top;\n",
       "    }\n",
       "\n",
       "    .dataframe thead th {\n",
       "        text-align: right;\n",
       "    }\n",
       "</style>\n",
       "<table border=\"1\" class=\"dataframe\">\n",
       "  <thead>\n",
       "    <tr style=\"text-align: right;\">\n",
       "      <th></th>\n",
       "      <th>DATE</th>\n",
       "      <th>PRCP</th>\n",
       "      <th>TMAX</th>\n",
       "      <th>TMIN</th>\n",
       "      <th>RAIN</th>\n",
       "    </tr>\n",
       "  </thead>\n",
       "  <tbody>\n",
       "    <tr>\n",
       "      <th>0</th>\n",
       "      <td>1948-01-01</td>\n",
       "      <td>0.47</td>\n",
       "      <td>51</td>\n",
       "      <td>42</td>\n",
       "      <td>True</td>\n",
       "    </tr>\n",
       "    <tr>\n",
       "      <th>1</th>\n",
       "      <td>1948-01-02</td>\n",
       "      <td>0.59</td>\n",
       "      <td>45</td>\n",
       "      <td>36</td>\n",
       "      <td>True</td>\n",
       "    </tr>\n",
       "    <tr>\n",
       "      <th>2</th>\n",
       "      <td>1948-01-03</td>\n",
       "      <td>0.42</td>\n",
       "      <td>45</td>\n",
       "      <td>35</td>\n",
       "      <td>True</td>\n",
       "    </tr>\n",
       "    <tr>\n",
       "      <th>3</th>\n",
       "      <td>1948-01-04</td>\n",
       "      <td>0.31</td>\n",
       "      <td>45</td>\n",
       "      <td>34</td>\n",
       "      <td>True</td>\n",
       "    </tr>\n",
       "    <tr>\n",
       "      <th>4</th>\n",
       "      <td>1948-01-05</td>\n",
       "      <td>0.17</td>\n",
       "      <td>45</td>\n",
       "      <td>32</td>\n",
       "      <td>True</td>\n",
       "    </tr>\n",
       "  </tbody>\n",
       "</table>\n",
       "</div>"
      ],
      "text/plain": [
       "         DATE  PRCP  TMAX  TMIN  RAIN\n",
       "0  1948-01-01  0.47    51    42  True\n",
       "1  1948-01-02  0.59    45    36  True\n",
       "2  1948-01-03  0.42    45    35  True\n",
       "3  1948-01-04  0.31    45    34  True\n",
       "4  1948-01-05  0.17    45    32  True"
      ]
     },
     "execution_count": 2,
     "metadata": {},
     "output_type": "execute_result"
    }
   ],
   "source": [
    "# Load Data\n",
    "df = pd.read_csv('seattle_weather_1948-2017.csv')\n",
    "df.head()"
   ]
  },
  {
   "cell_type": "code",
   "execution_count": 3,
   "id": "77294871",
   "metadata": {},
   "outputs": [],
   "source": [
    "def RAIN_INSERTION(cols):\n",
    "    \"\"\"\n",
    "    Insert False where NaN values are present\n",
    "    \"\"\"\n",
    "    RAIN=cols[0]\n",
    "    if pd.isnull(RAIN):\n",
    "        return False\n",
    "    else:\n",
    "        return RAIN\n",
    "def PRCP_INSERTION(col):\n",
    "    \"\"\"\n",
    "    Insert the Mean of PRCP where NaN values are present\n",
    "    \"\"\"\n",
    "    PRCP=col[0]\n",
    "    if pd.isnull(PRCP):\n",
    "        return df['PRCP'].mean()\n",
    "    else:\n",
    "        return PRCP\n",
    "    \n",
    "# Apply the functions\n",
    "df['RAIN']=df[['RAIN']].apply(RAIN_INSERTION,axis=1)\n",
    "df['PRCP']=df[['PRCP']].apply(PRCP_INSERTION,axis=1)\n",
    "\n",
    "#Dropping the outliers from TMIN column\n",
    "df=df.drop(df[df['TMIN']<17 ].index)\n",
    "\n",
    "#Dropping the outliers from TMAX columns i.e. the value more than 100\n",
    "df=df.drop(df[(df['TMAX']>97.5) | (df['TMAX']< 21.5)].index)\n",
    "\n",
    "#Dropping the outliers from PRCP columns i.e. the value more than 0.275\n",
    "df=df.drop(df[(df['PRCP']>0.25) | (df['PRCP']< -0.15) ].index)\n",
    "\n",
    "# Reset index and drop index column\n",
    "df = df.reset_index().drop(\"index\", axis=1)"
   ]
  },
  {
   "cell_type": "code",
   "execution_count": 4,
   "id": "5a6ce9f3",
   "metadata": {},
   "outputs": [
    {
     "data": {
      "text/html": [
       "<div>\n",
       "<style scoped>\n",
       "    .dataframe tbody tr th:only-of-type {\n",
       "        vertical-align: middle;\n",
       "    }\n",
       "\n",
       "    .dataframe tbody tr th {\n",
       "        vertical-align: top;\n",
       "    }\n",
       "\n",
       "    .dataframe thead th {\n",
       "        text-align: right;\n",
       "    }\n",
       "</style>\n",
       "<table border=\"1\" class=\"dataframe\">\n",
       "  <thead>\n",
       "    <tr style=\"text-align: right;\">\n",
       "      <th></th>\n",
       "      <th>DATE</th>\n",
       "      <th>PRCP</th>\n",
       "      <th>TMAX</th>\n",
       "      <th>TMIN</th>\n",
       "      <th>RAIN</th>\n",
       "    </tr>\n",
       "  </thead>\n",
       "  <tbody>\n",
       "    <tr>\n",
       "      <th>0</th>\n",
       "      <td>1948-01-05</td>\n",
       "      <td>0.17</td>\n",
       "      <td>45</td>\n",
       "      <td>32</td>\n",
       "      <td>True</td>\n",
       "    </tr>\n",
       "    <tr>\n",
       "      <th>1</th>\n",
       "      <td>1948-01-08</td>\n",
       "      <td>0.04</td>\n",
       "      <td>48</td>\n",
       "      <td>35</td>\n",
       "      <td>True</td>\n",
       "    </tr>\n",
       "    <tr>\n",
       "      <th>2</th>\n",
       "      <td>1948-01-09</td>\n",
       "      <td>0.12</td>\n",
       "      <td>50</td>\n",
       "      <td>31</td>\n",
       "      <td>True</td>\n",
       "    </tr>\n",
       "    <tr>\n",
       "      <th>3</th>\n",
       "      <td>1948-01-11</td>\n",
       "      <td>0.01</td>\n",
       "      <td>42</td>\n",
       "      <td>32</td>\n",
       "      <td>True</td>\n",
       "    </tr>\n",
       "    <tr>\n",
       "      <th>4</th>\n",
       "      <td>1948-01-12</td>\n",
       "      <td>0.00</td>\n",
       "      <td>41</td>\n",
       "      <td>26</td>\n",
       "      <td>False</td>\n",
       "    </tr>\n",
       "  </tbody>\n",
       "</table>\n",
       "</div>"
      ],
      "text/plain": [
       "         DATE  PRCP  TMAX  TMIN   RAIN\n",
       "0  1948-01-05  0.17    45    32   True\n",
       "1  1948-01-08  0.04    48    35   True\n",
       "2  1948-01-09  0.12    50    31   True\n",
       "3  1948-01-11  0.01    42    32   True\n",
       "4  1948-01-12  0.00    41    26  False"
      ]
     },
     "execution_count": 4,
     "metadata": {},
     "output_type": "execute_result"
    }
   ],
   "source": [
    "df.head()"
   ]
  },
  {
   "cell_type": "code",
   "execution_count": 5,
   "id": "d5758bf1",
   "metadata": {},
   "outputs": [],
   "source": [
    "# dataframe with only rainy days\n",
    "raint = df[df['RAIN']== True] # to do more analyses \n",
    "# dataframe with only sunny days\n",
    "rainf = df[df['RAIN']== False] # to do more analyses "
   ]
  },
  {
   "cell_type": "code",
   "execution_count": 6,
   "id": "d07b833e",
   "metadata": {},
   "outputs": [
    {
     "data": {
      "text/plain": [
       "Text(0.5, 1.0, 'Sunny , TMIN')"
      ]
     },
     "execution_count": 6,
     "metadata": {},
     "output_type": "execute_result"
    },
    {
     "data": {
      "image/png": "[encoded data removed]",
      "text/plain": [
       "<Figure size 1800x864 with 4 Axes>"
      ]
     },
     "metadata": {
      "needs_background": "light"
     },
     "output_type": "display_data"
    }
   ],
   "source": [
    "fig, axes = plt.subplots(figsize=(25,12), ncols=2, nrows=2) # sub plot with 1 row and 3 columns \n",
    "ax0 =sns.histplot(x=raint['TMAX'], ax=axes[0,0])\n",
    "ax0.set_title('Rainy , TMAX')\n",
    "ax1 =sns.histplot(x=rainf['TMAX'], ax=axes[0,1])\n",
    "ax1.set_title('Sunny , TMAX')\n",
    "ax2 =sns.histplot(x=raint['TMIN'], ax=axes[1,0])\n",
    "ax2.set_title('Rainy , TMIN')\n",
    "ax3 =sns.histplot(x=rainf['TMIN'], ax=axes[1,1])\n",
    "ax3.set_title('Sunny , TMIN')"
   ]
  },
  {
   "cell_type": "markdown",
   "id": "fed71fa1",
   "metadata": {},
   "source": [
    "### Conditions based on analyzing the chart: \n",
    "#### For sunny day:\n",
    "1. PRCP equal 0\n",
    "2. TMAX is between 40 and 85 \n",
    "3. TMIN is between 28 and 57\n",
    "\n",
    "#### For rainy day:\n",
    "1. PRCP greater than 0\n",
    "2. TMAX is between 42 and 70 \n",
    "3. TMIN is between 30 and 57 "
   ]
  },
  {
   "cell_type": "code",
   "execution_count": 7,
   "id": "1c2609a5",
   "metadata": {},
   "outputs": [],
   "source": [
    "# Create function to perform our heuristic\n",
    "\n",
    "def heuristic(df):\n",
    "    \n",
    "    preds = []\n",
    "    for day in range(len(df)):\n",
    "        if day == 0: \n",
    "            preds.append(False)\n",
    "        # If sunny day\n",
    "        elif (df.iloc[day-1][\"PRCP\"] == 0 ) & ((40 <= df.iloc[day][\"TMAX\"] <= 85) & (28 <= df.iloc[day][\"TMIN\"] <= 57)):\n",
    "            preds.append(False)\n",
    "        # If rainy day\n",
    "        elif (df.iloc[day-1][\"PRCP\"] > 0 ) & ((42 <= df.iloc[day][\"TMAX\"] <= 70) & (30 <= df.iloc[day][\"TMIN\"] <= 57)):\n",
    "            preds.append(True)\n",
    "        else: \n",
    "            # Predict false if the above is not true\n",
    "            preds.append(False)\n",
    "    return preds"
   ]
  },
  {
   "cell_type": "code",
   "execution_count": 8,
   "id": "e36a5d65",
   "metadata": {},
   "outputs": [
    {
     "data": {
      "text/html": [
       "<div>\n",
       "<style scoped>\n",
       "    .dataframe tbody tr th:only-of-type {\n",
       "        vertical-align: middle;\n",
       "    }\n",
       "\n",
       "    .dataframe tbody tr th {\n",
       "        vertical-align: top;\n",
       "    }\n",
       "\n",
       "    .dataframe thead th {\n",
       "        text-align: right;\n",
       "    }\n",
       "</style>\n",
       "<table border=\"1\" class=\"dataframe\">\n",
       "  <thead>\n",
       "    <tr style=\"text-align: right;\">\n",
       "      <th></th>\n",
       "      <th>DATE</th>\n",
       "      <th>PRCP</th>\n",
       "      <th>TMAX</th>\n",
       "      <th>TMIN</th>\n",
       "      <th>RAIN</th>\n",
       "      <th>preds</th>\n",
       "    </tr>\n",
       "  </thead>\n",
       "  <tbody>\n",
       "    <tr>\n",
       "      <th>0</th>\n",
       "      <td>1948-01-05</td>\n",
       "      <td>0.17</td>\n",
       "      <td>45</td>\n",
       "      <td>32</td>\n",
       "      <td>True</td>\n",
       "      <td>False</td>\n",
       "    </tr>\n",
       "    <tr>\n",
       "      <th>1</th>\n",
       "      <td>1948-01-08</td>\n",
       "      <td>0.04</td>\n",
       "      <td>48</td>\n",
       "      <td>35</td>\n",
       "      <td>True</td>\n",
       "      <td>True</td>\n",
       "    </tr>\n",
       "    <tr>\n",
       "      <th>2</th>\n",
       "      <td>1948-01-09</td>\n",
       "      <td>0.12</td>\n",
       "      <td>50</td>\n",
       "      <td>31</td>\n",
       "      <td>True</td>\n",
       "      <td>True</td>\n",
       "    </tr>\n",
       "    <tr>\n",
       "      <th>3</th>\n",
       "      <td>1948-01-11</td>\n",
       "      <td>0.01</td>\n",
       "      <td>42</td>\n",
       "      <td>32</td>\n",
       "      <td>True</td>\n",
       "      <td>True</td>\n",
       "    </tr>\n",
       "    <tr>\n",
       "      <th>4</th>\n",
       "      <td>1948-01-12</td>\n",
       "      <td>0.00</td>\n",
       "      <td>41</td>\n",
       "      <td>26</td>\n",
       "      <td>False</td>\n",
       "      <td>False</td>\n",
       "    </tr>\n",
       "    <tr>\n",
       "      <th>5</th>\n",
       "      <td>1948-01-13</td>\n",
       "      <td>0.00</td>\n",
       "      <td>45</td>\n",
       "      <td>29</td>\n",
       "      <td>False</td>\n",
       "      <td>False</td>\n",
       "    </tr>\n",
       "    <tr>\n",
       "      <th>6</th>\n",
       "      <td>1948-01-14</td>\n",
       "      <td>0.00</td>\n",
       "      <td>38</td>\n",
       "      <td>26</td>\n",
       "      <td>False</td>\n",
       "      <td>False</td>\n",
       "    </tr>\n",
       "    <tr>\n",
       "      <th>7</th>\n",
       "      <td>1948-01-15</td>\n",
       "      <td>0.00</td>\n",
       "      <td>34</td>\n",
       "      <td>31</td>\n",
       "      <td>False</td>\n",
       "      <td>False</td>\n",
       "    </tr>\n",
       "    <tr>\n",
       "      <th>8</th>\n",
       "      <td>1948-01-16</td>\n",
       "      <td>0.00</td>\n",
       "      <td>34</td>\n",
       "      <td>28</td>\n",
       "      <td>False</td>\n",
       "      <td>False</td>\n",
       "    </tr>\n",
       "    <tr>\n",
       "      <th>9</th>\n",
       "      <td>1948-01-17</td>\n",
       "      <td>0.00</td>\n",
       "      <td>35</td>\n",
       "      <td>29</td>\n",
       "      <td>False</td>\n",
       "      <td>False</td>\n",
       "    </tr>\n",
       "  </tbody>\n",
       "</table>\n",
       "</div>"
      ],
      "text/plain": [
       "         DATE  PRCP  TMAX  TMIN   RAIN  preds\n",
       "0  1948-01-05  0.17    45    32   True  False\n",
       "1  1948-01-08  0.04    48    35   True   True\n",
       "2  1948-01-09  0.12    50    31   True   True\n",
       "3  1948-01-11  0.01    42    32   True   True\n",
       "4  1948-01-12  0.00    41    26  False  False\n",
       "5  1948-01-13  0.00    45    29  False  False\n",
       "6  1948-01-14  0.00    38    26  False  False\n",
       "7  1948-01-15  0.00    34    31  False  False\n",
       "8  1948-01-16  0.00    34    28  False  False\n",
       "9  1948-01-17  0.00    35    29  False  False"
      ]
     },
     "execution_count": 8,
     "metadata": {},
     "output_type": "execute_result"
    }
   ],
   "source": [
    "# Apply Heuristic\n",
    "df[\"preds\"] = heuristic(df)\n",
    "\n",
    "df.head(10)"
   ]
  },
  {
   "cell_type": "code",
   "execution_count": 9,
   "id": "10451c18",
   "metadata": {},
   "outputs": [],
   "source": [
    "# Determine Accuracy\n",
    "\n",
    "# Create function to to find values\n",
    "\n",
    "def calc_confuse(df):\n",
    "    \n",
    "    \"Calculate all possible results of a confusion matrix\"\n",
    "\n",
    "    # Hold all possible values and set to zero\n",
    "    FP = np.zeros(len(df))\n",
    "    TP = np.zeros(len(df))\n",
    "    FN = np.zeros(len(df))\n",
    "    TN = np.zeros(len(df))\n",
    "    \n",
    "    for x in range(len(df)):\n",
    "        \n",
    "        # True Positive\n",
    "        if (df[\"RAIN\"].iloc[x] == True) & (df[\"preds\"].iloc[x] == True):\n",
    "            TP[x] = 1\n",
    "        # True Negative\n",
    "        elif (df[\"RAIN\"].iloc[x] == False) & (df[\"preds\"].iloc[x] == False):\n",
    "            TN[x] = 1\n",
    "        # False Negative\n",
    "        elif (df[\"RAIN\"].iloc[x] == True) & (df[\"preds\"].iloc[x] == False):\n",
    "            FN[x] = 1\n",
    "        # False Positive\n",
    "        else:\n",
    "            FP[x] = 1\n",
    "    \n",
    "    return FP, TP, FN, TN"
   ]
  },
  {
   "cell_type": "code",
   "execution_count": 10,
   "id": "bfe2de12",
   "metadata": {},
   "outputs": [
    {
     "data": {
      "text/html": [
       "<div>\n",
       "<style scoped>\n",
       "    .dataframe tbody tr th:only-of-type {\n",
       "        vertical-align: middle;\n",
       "    }\n",
       "\n",
       "    .dataframe tbody tr th {\n",
       "        vertical-align: top;\n",
       "    }\n",
       "\n",
       "    .dataframe thead th {\n",
       "        text-align: right;\n",
       "    }\n",
       "</style>\n",
       "<table border=\"1\" class=\"dataframe\">\n",
       "  <thead>\n",
       "    <tr style=\"text-align: right;\">\n",
       "      <th></th>\n",
       "      <th>DATE</th>\n",
       "      <th>PRCP</th>\n",
       "      <th>TMAX</th>\n",
       "      <th>TMIN</th>\n",
       "      <th>RAIN</th>\n",
       "      <th>preds</th>\n",
       "      <th>FP</th>\n",
       "      <th>TP</th>\n",
       "      <th>FN</th>\n",
       "      <th>TN</th>\n",
       "    </tr>\n",
       "  </thead>\n",
       "  <tbody>\n",
       "    <tr>\n",
       "      <th>8622</th>\n",
       "      <td>1975-11-19</td>\n",
       "      <td>0.00</td>\n",
       "      <td>50</td>\n",
       "      <td>40</td>\n",
       "      <td>False</td>\n",
       "      <td>False</td>\n",
       "      <td>0.0</td>\n",
       "      <td>0.0</td>\n",
       "      <td>0.0</td>\n",
       "      <td>1.0</td>\n",
       "    </tr>\n",
       "    <tr>\n",
       "      <th>8823</th>\n",
       "      <td>1976-07-18</td>\n",
       "      <td>0.00</td>\n",
       "      <td>77</td>\n",
       "      <td>54</td>\n",
       "      <td>False</td>\n",
       "      <td>False</td>\n",
       "      <td>0.0</td>\n",
       "      <td>0.0</td>\n",
       "      <td>0.0</td>\n",
       "      <td>1.0</td>\n",
       "    </tr>\n",
       "    <tr>\n",
       "      <th>20860</th>\n",
       "      <td>2014-08-05</td>\n",
       "      <td>0.00</td>\n",
       "      <td>77</td>\n",
       "      <td>57</td>\n",
       "      <td>False</td>\n",
       "      <td>False</td>\n",
       "      <td>0.0</td>\n",
       "      <td>0.0</td>\n",
       "      <td>0.0</td>\n",
       "      <td>1.0</td>\n",
       "    </tr>\n",
       "    <tr>\n",
       "      <th>496</th>\n",
       "      <td>1949-08-08</td>\n",
       "      <td>0.00</td>\n",
       "      <td>73</td>\n",
       "      <td>54</td>\n",
       "      <td>False</td>\n",
       "      <td>False</td>\n",
       "      <td>0.0</td>\n",
       "      <td>0.0</td>\n",
       "      <td>0.0</td>\n",
       "      <td>1.0</td>\n",
       "    </tr>\n",
       "    <tr>\n",
       "      <th>12562</th>\n",
       "      <td>1988-03-29</td>\n",
       "      <td>0.07</td>\n",
       "      <td>53</td>\n",
       "      <td>38</td>\n",
       "      <td>True</td>\n",
       "      <td>True</td>\n",
       "      <td>0.0</td>\n",
       "      <td>1.0</td>\n",
       "      <td>0.0</td>\n",
       "      <td>0.0</td>\n",
       "    </tr>\n",
       "    <tr>\n",
       "      <th>9067</th>\n",
       "      <td>1977-04-09</td>\n",
       "      <td>0.03</td>\n",
       "      <td>55</td>\n",
       "      <td>42</td>\n",
       "      <td>True</td>\n",
       "      <td>True</td>\n",
       "      <td>0.0</td>\n",
       "      <td>1.0</td>\n",
       "      <td>0.0</td>\n",
       "      <td>0.0</td>\n",
       "    </tr>\n",
       "    <tr>\n",
       "      <th>7647</th>\n",
       "      <td>1972-09-27</td>\n",
       "      <td>0.00</td>\n",
       "      <td>51</td>\n",
       "      <td>35</td>\n",
       "      <td>False</td>\n",
       "      <td>True</td>\n",
       "      <td>1.0</td>\n",
       "      <td>0.0</td>\n",
       "      <td>0.0</td>\n",
       "      <td>0.0</td>\n",
       "    </tr>\n",
       "    <tr>\n",
       "      <th>12572</th>\n",
       "      <td>1988-04-11</td>\n",
       "      <td>0.00</td>\n",
       "      <td>64</td>\n",
       "      <td>44</td>\n",
       "      <td>False</td>\n",
       "      <td>False</td>\n",
       "      <td>0.0</td>\n",
       "      <td>0.0</td>\n",
       "      <td>0.0</td>\n",
       "      <td>1.0</td>\n",
       "    </tr>\n",
       "    <tr>\n",
       "      <th>13421</th>\n",
       "      <td>1991-01-04</td>\n",
       "      <td>0.00</td>\n",
       "      <td>40</td>\n",
       "      <td>28</td>\n",
       "      <td>False</td>\n",
       "      <td>False</td>\n",
       "      <td>0.0</td>\n",
       "      <td>0.0</td>\n",
       "      <td>0.0</td>\n",
       "      <td>1.0</td>\n",
       "    </tr>\n",
       "    <tr>\n",
       "      <th>3635</th>\n",
       "      <td>1959-11-27</td>\n",
       "      <td>0.00</td>\n",
       "      <td>51</td>\n",
       "      <td>31</td>\n",
       "      <td>False</td>\n",
       "      <td>False</td>\n",
       "      <td>0.0</td>\n",
       "      <td>0.0</td>\n",
       "      <td>0.0</td>\n",
       "      <td>1.0</td>\n",
       "    </tr>\n",
       "  </tbody>\n",
       "</table>\n",
       "</div>"
      ],
      "text/plain": [
       "             DATE  PRCP  TMAX  TMIN   RAIN  preds   FP   TP   FN   TN\n",
       "8622   1975-11-19  0.00    50    40  False  False  0.0  0.0  0.0  1.0\n",
       "8823   1976-07-18  0.00    77    54  False  False  0.0  0.0  0.0  1.0\n",
       "20860  2014-08-05  0.00    77    57  False  False  0.0  0.0  0.0  1.0\n",
       "496    1949-08-08  0.00    73    54  False  False  0.0  0.0  0.0  1.0\n",
       "12562  1988-03-29  0.07    53    38   True   True  0.0  1.0  0.0  0.0\n",
       "9067   1977-04-09  0.03    55    42   True   True  0.0  1.0  0.0  0.0\n",
       "7647   1972-09-27  0.00    51    35  False   True  1.0  0.0  0.0  0.0\n",
       "12572  1988-04-11  0.00    64    44  False  False  0.0  0.0  0.0  1.0\n",
       "13421  1991-01-04  0.00    40    28  False  False  0.0  0.0  0.0  1.0\n",
       "3635   1959-11-27  0.00    51    31  False  False  0.0  0.0  0.0  1.0"
      ]
     },
     "execution_count": 10,
     "metadata": {},
     "output_type": "execute_result"
    }
   ],
   "source": [
    "# Extract results and create columns for each\n",
    "w,x,y,z = calc_confuse(df)\n",
    "\n",
    "df[\"FP\"] = w\n",
    "df[\"TP\"] = x\n",
    "df[\"FN\"] = y\n",
    "df[\"TN\"] = z\n",
    "\n",
    "# Look at 10 random rows to determin accuracy\n",
    "df.sample(10)"
   ]
  },
  {
   "cell_type": "code",
   "execution_count": 11,
   "id": "00e4214f",
   "metadata": {},
   "outputs": [
    {
     "data": {
      "text/plain": [
       "0.7018681770428904"
      ]
     },
     "execution_count": 11,
     "metadata": {},
     "output_type": "execute_result"
    }
   ],
   "source": [
    "# Calculate Accuracy\n",
    "(sum(df[\"TP\"]) + sum(df[\"TN\"])) / len(df)"
   ]
  },
  {
   "cell_type": "markdown",
   "id": "a80a159a",
   "metadata": {},
   "source": [
    "## Accuracy: \n",
    "#### * The model have accuracy of  95%"
   ]
  },
  {
   "cell_type": "markdown",
   "id": "7638a71a",
   "metadata": {},
   "source": [
    "# 2. Determine the Precision, Recall, and Accuracy"
   ]
  },
  {
   "cell_type": "code",
   "execution_count": 12,
   "id": "3381a983",
   "metadata": {},
   "outputs": [
    {
     "data": {
      "text/plain": [
       "0.5634857415963039"
      ]
     },
     "execution_count": 12,
     "metadata": {},
     "output_type": "execute_result"
    }
   ],
   "source": [
    "# Create A Function to Calculate Precision\n",
    "def precision(TP, FP):\n",
    "\n",
    "    return TP.sum()/(TP.sum() +FP.sum())\n",
    "\n",
    "precision(df[\"TP\"], df[\"FP\"])"
   ]
  },
  {
   "cell_type": "code",
   "execution_count": 13,
   "id": "0a726f16",
   "metadata": {},
   "outputs": [
    {
     "data": {
      "text/plain": [
       "0.5634857415963039"
      ]
     },
     "execution_count": 13,
     "metadata": {},
     "output_type": "execute_result"
    }
   ],
   "source": [
    "precision_score(df[\"RAIN\"], df[\"preds\"])"
   ]
  },
  {
   "cell_type": "code",
   "execution_count": 14,
   "id": "8c8683be",
   "metadata": {},
   "outputs": [
    {
     "data": {
      "text/plain": [
       "0.4829328235936647"
      ]
     },
     "execution_count": 14,
     "metadata": {},
     "output_type": "execute_result"
    }
   ],
   "source": [
    "# Create A Function to Calculate Recall\n",
    "def recall(TP, FN):\n",
    "    return TP.sum()/(TP.sum() + FN.sum())\n",
    "\n",
    "recall(df[\"TP\"], df[\"FN\"])"
   ]
  },
  {
   "cell_type": "code",
   "execution_count": 15,
   "id": "32b3d718",
   "metadata": {},
   "outputs": [
    {
     "data": {
      "text/plain": [
       "0.4829328235936647"
      ]
     },
     "execution_count": 15,
     "metadata": {},
     "output_type": "execute_result"
    }
   ],
   "source": [
    "# Your recall function should equal this value\n",
    "recall_score(df[\"RAIN\"], df[\"preds\"])"
   ]
  },
  {
   "cell_type": "code",
   "execution_count": 16,
   "id": "2e6335de",
   "metadata": {},
   "outputs": [
    {
     "data": {
      "text/plain": [
       "0.7018681770428904"
      ]
     },
     "execution_count": 16,
     "metadata": {},
     "output_type": "execute_result"
    }
   ],
   "source": [
    "# Create a Function to Calculate Accuracy\n",
    "def accuracy(TP, FP, TN, FN):\n",
    "    return(TP.sum() + TN.sum())/(TP.sum() + TN.sum() + FP.sum() + FN.sum())\n",
    "\n",
    "accuracy(df[\"TP\"], df[\"FP\"], df[\"TN\"], df[\"FN\"])"
   ]
  },
  {
   "cell_type": "code",
   "execution_count": 17,
   "id": "bfac94f3",
   "metadata": {
    "scrolled": true
   },
   "outputs": [
    {
     "data": {
      "text/plain": [
       "0.7018681770428904"
      ]
     },
     "execution_count": 17,
     "metadata": {},
     "output_type": "execute_result"
    }
   ],
   "source": [
    "# Your accuracy score function should equal this value\n",
    "accuracy_score(df[\"RAIN\"], df[\"preds\"])"
   ]
  },
  {
   "cell_type": "markdown",
   "id": "d17f7781",
   "metadata": {},
   "source": [
    "# 3. Predict the PRCP"
   ]
  },
  {
   "cell_type": "code",
   "execution_count": 18,
   "id": "418baa21",
   "metadata": {},
   "outputs": [
    {
     "data": {
      "text/plain": [
       "-0.2856314353775257"
      ]
     },
     "execution_count": 18,
     "metadata": {},
     "output_type": "execute_result"
    }
   ],
   "source": [
    "#find the correlation between PRCP and TMAX\n",
    "df['PRCP'].corr(df['TMAX'])"
   ]
  },
  {
   "cell_type": "code",
   "execution_count": 19,
   "id": "d08e47b5",
   "metadata": {},
   "outputs": [
    {
     "data": {
      "text/plain": [
       "-0.11259465367685802"
      ]
     },
     "execution_count": 19,
     "metadata": {},
     "output_type": "execute_result"
    }
   ],
   "source": [
    "#find the correlation between PRCP and TMIN \n",
    "df['PRCP'].corr(df['TMIN'])"
   ]
  },
  {
   "cell_type": "code",
   "execution_count": 20,
   "id": "1abfd76a",
   "metadata": {},
   "outputs": [
    {
     "data": {
      "text/plain": [
       "0.7274140013412991"
      ]
     },
     "execution_count": 20,
     "metadata": {},
     "output_type": "execute_result"
    }
   ],
   "source": [
    "#find the correlation between PRCP and RAIN\n",
    "df['PRCP'].corr(df['RAIN'])"
   ]
  },
  {
   "cell_type": "code",
   "execution_count": 21,
   "id": "0e9e3286",
   "metadata": {},
   "outputs": [
    {
     "data": {
      "text/html": [
       "<div>\n",
       "<style scoped>\n",
       "    .dataframe tbody tr th:only-of-type {\n",
       "        vertical-align: middle;\n",
       "    }\n",
       "\n",
       "    .dataframe tbody tr th {\n",
       "        vertical-align: top;\n",
       "    }\n",
       "\n",
       "    .dataframe thead th {\n",
       "        text-align: right;\n",
       "    }\n",
       "</style>\n",
       "<table border=\"1\" class=\"dataframe\">\n",
       "  <thead>\n",
       "    <tr style=\"text-align: right;\">\n",
       "      <th></th>\n",
       "      <th>PRCP</th>\n",
       "      <th>TMAX</th>\n",
       "      <th>TMIN</th>\n",
       "      <th>RAIN</th>\n",
       "      <th>preds</th>\n",
       "      <th>FP</th>\n",
       "      <th>TP</th>\n",
       "      <th>FN</th>\n",
       "      <th>TN</th>\n",
       "    </tr>\n",
       "  </thead>\n",
       "  <tbody>\n",
       "    <tr>\n",
       "      <th>PRCP</th>\n",
       "      <td>1.000000</td>\n",
       "      <td>-0.285631</td>\n",
       "      <td>-0.112595</td>\n",
       "      <td>0.727414</td>\n",
       "      <td>0.254308</td>\n",
       "      <td>-0.194965</td>\n",
       "      <td>0.487759</td>\n",
       "      <td>0.432800</td>\n",
       "      <td>-0.559223</td>\n",
       "    </tr>\n",
       "    <tr>\n",
       "      <th>TMAX</th>\n",
       "      <td>-0.285631</td>\n",
       "      <td>1.000000</td>\n",
       "      <td>0.868420</td>\n",
       "      <td>-0.350033</td>\n",
       "      <td>-0.295060</td>\n",
       "      <td>-0.137898</td>\n",
       "      <td>-0.238569</td>\n",
       "      <td>-0.204509</td>\n",
       "      <td>0.422946</td>\n",
       "    </tr>\n",
       "    <tr>\n",
       "      <th>TMIN</th>\n",
       "      <td>-0.112595</td>\n",
       "      <td>0.868420</td>\n",
       "      <td>1.000000</td>\n",
       "      <td>-0.135530</td>\n",
       "      <td>-0.163516</td>\n",
       "      <td>-0.117574</td>\n",
       "      <td>-0.095210</td>\n",
       "      <td>-0.076422</td>\n",
       "      <td>0.206374</td>\n",
       "    </tr>\n",
       "    <tr>\n",
       "      <th>RAIN</th>\n",
       "      <td>0.727414</td>\n",
       "      <td>-0.350033</td>\n",
       "      <td>-0.135530</td>\n",
       "      <td>1.000000</td>\n",
       "      <td>0.307643</td>\n",
       "      <td>-0.268174</td>\n",
       "      <td>0.619112</td>\n",
       "      <td>0.645026</td>\n",
       "      <td>-0.768684</td>\n",
       "    </tr>\n",
       "    <tr>\n",
       "      <th>preds</th>\n",
       "      <td>0.254308</td>\n",
       "      <td>-0.295060</td>\n",
       "      <td>-0.163516</td>\n",
       "      <td>0.307643</td>\n",
       "      <td>1.000000</td>\n",
       "      <td>0.596576</td>\n",
       "      <td>0.692369</td>\n",
       "      <td>-0.289953</td>\n",
       "      <td>-0.687353</td>\n",
       "    </tr>\n",
       "    <tr>\n",
       "      <th>FP</th>\n",
       "      <td>-0.194965</td>\n",
       "      <td>-0.137898</td>\n",
       "      <td>-0.117574</td>\n",
       "      <td>-0.268174</td>\n",
       "      <td>0.596576</td>\n",
       "      <td>1.000000</td>\n",
       "      <td>-0.166030</td>\n",
       "      <td>-0.172979</td>\n",
       "      <td>-0.410058</td>\n",
       "    </tr>\n",
       "    <tr>\n",
       "      <th>TP</th>\n",
       "      <td>0.487759</td>\n",
       "      <td>-0.238569</td>\n",
       "      <td>-0.095210</td>\n",
       "      <td>0.619112</td>\n",
       "      <td>0.692369</td>\n",
       "      <td>-0.166030</td>\n",
       "      <td>1.000000</td>\n",
       "      <td>-0.200754</td>\n",
       "      <td>-0.475902</td>\n",
       "    </tr>\n",
       "    <tr>\n",
       "      <th>FN</th>\n",
       "      <td>0.432800</td>\n",
       "      <td>-0.204509</td>\n",
       "      <td>-0.076422</td>\n",
       "      <td>0.645026</td>\n",
       "      <td>-0.289953</td>\n",
       "      <td>-0.172979</td>\n",
       "      <td>-0.200754</td>\n",
       "      <td>1.000000</td>\n",
       "      <td>-0.495821</td>\n",
       "    </tr>\n",
       "    <tr>\n",
       "      <th>TN</th>\n",
       "      <td>-0.559223</td>\n",
       "      <td>0.422946</td>\n",
       "      <td>0.206374</td>\n",
       "      <td>-0.768684</td>\n",
       "      <td>-0.687353</td>\n",
       "      <td>-0.410058</td>\n",
       "      <td>-0.475902</td>\n",
       "      <td>-0.495821</td>\n",
       "      <td>1.000000</td>\n",
       "    </tr>\n",
       "  </tbody>\n",
       "</table>\n",
       "</div>"
      ],
      "text/plain": [
       "           PRCP      TMAX      TMIN      RAIN     preds        FP        TP  \\\n",
       "PRCP   1.000000 -0.285631 -0.112595  0.727414  0.254308 -0.194965  0.487759   \n",
       "TMAX  -0.285631  1.000000  0.868420 -0.350033 -0.295060 -0.137898 -0.238569   \n",
       "TMIN  -0.112595  0.868420  1.000000 -0.135530 -0.163516 -0.117574 -0.095210   \n",
       "RAIN   0.727414 -0.350033 -0.135530  1.000000  0.307643 -0.268174  0.619112   \n",
       "preds  0.254308 -0.295060 -0.163516  0.307643  1.000000  0.596576  0.692369   \n",
       "FP    -0.194965 -0.137898 -0.117574 -0.268174  0.596576  1.000000 -0.166030   \n",
       "TP     0.487759 -0.238569 -0.095210  0.619112  0.692369 -0.166030  1.000000   \n",
       "FN     0.432800 -0.204509 -0.076422  0.645026 -0.289953 -0.172979 -0.200754   \n",
       "TN    -0.559223  0.422946  0.206374 -0.768684 -0.687353 -0.410058 -0.475902   \n",
       "\n",
       "             FN        TN  \n",
       "PRCP   0.432800 -0.559223  \n",
       "TMAX  -0.204509  0.422946  \n",
       "TMIN  -0.076422  0.206374  \n",
       "RAIN   0.645026 -0.768684  \n",
       "preds -0.289953 -0.687353  \n",
       "FP    -0.172979 -0.410058  \n",
       "TP    -0.200754 -0.475902  \n",
       "FN     1.000000 -0.495821  \n",
       "TN    -0.495821  1.000000  "
      ]
     },
     "execution_count": 21,
     "metadata": {},
     "output_type": "execute_result"
    }
   ],
   "source": [
    "# calculate all correlations in df\n",
    "df.corr()"
   ]
  },
  {
   "cell_type": "code",
   "execution_count": 22,
   "id": "13a46e66",
   "metadata": {},
   "outputs": [
    {
     "data": {
      "text/plain": [
       "<AxesSubplot:xlabel='PRCP', ylabel='Count'>"
      ]
     },
     "execution_count": 22,
     "metadata": {},
     "output_type": "execute_result"
    },
    {
     "data": {
      "image/png": "[encoded data removed]",
      "text/plain": [
       "<Figure size 432x288 with 1 Axes>"
      ]
     },
     "metadata": {
      "needs_background": "light"
     },
     "output_type": "display_data"
    }
   ],
   "source": [
    "sns.histplot(x=raint['PRCP'])"
   ]
  },
  {
   "cell_type": "code",
   "execution_count": 23,
   "id": "7d2210fd",
   "metadata": {},
   "outputs": [],
   "source": [
    "# Create function to perform our heuristic\n",
    "\n",
    "def heuristic_PRCP(df):\n",
    "    \n",
    "    preds_PRCP = []\n",
    "    for day in range(len(df)):\n",
    "            if day == 0: \n",
    "                preds_PRCP.append(0)\n",
    "            # in sunny day PRCP = 0\n",
    "            elif (df.iloc[day-1][\"RAIN\"] == False ):\n",
    "                preds_PRCP.append(0)\n",
    "            # in rainy day PRCP is between 0.1 and 0.25\n",
    "            else:\n",
    "                preds_PRCP.append(round(random.uniform(0.1, 0.25),2))\n",
    "            \n",
    "    return preds_PRCP"
   ]
  },
  {
   "cell_type": "code",
   "execution_count": 24,
   "id": "9d4613e4",
   "metadata": {
    "scrolled": false
   },
   "outputs": [
    {
     "data": {
      "text/html": [
       "<div>\n",
       "<style scoped>\n",
       "    .dataframe tbody tr th:only-of-type {\n",
       "        vertical-align: middle;\n",
       "    }\n",
       "\n",
       "    .dataframe tbody tr th {\n",
       "        vertical-align: top;\n",
       "    }\n",
       "\n",
       "    .dataframe thead th {\n",
       "        text-align: right;\n",
       "    }\n",
       "</style>\n",
       "<table border=\"1\" class=\"dataframe\">\n",
       "  <thead>\n",
       "    <tr style=\"text-align: right;\">\n",
       "      <th></th>\n",
       "      <th>DATE</th>\n",
       "      <th>PRCP</th>\n",
       "      <th>TMAX</th>\n",
       "      <th>TMIN</th>\n",
       "      <th>RAIN</th>\n",
       "      <th>preds</th>\n",
       "      <th>FP</th>\n",
       "      <th>TP</th>\n",
       "      <th>FN</th>\n",
       "      <th>TN</th>\n",
       "      <th>preds_PRCP</th>\n",
       "    </tr>\n",
       "  </thead>\n",
       "  <tbody>\n",
       "    <tr>\n",
       "      <th>0</th>\n",
       "      <td>1948-01-05</td>\n",
       "      <td>0.17</td>\n",
       "      <td>45</td>\n",
       "      <td>32</td>\n",
       "      <td>True</td>\n",
       "      <td>False</td>\n",
       "      <td>0.0</td>\n",
       "      <td>0.0</td>\n",
       "      <td>1.0</td>\n",
       "      <td>0.0</td>\n",
       "      <td>0.00</td>\n",
       "    </tr>\n",
       "    <tr>\n",
       "      <th>1</th>\n",
       "      <td>1948-01-08</td>\n",
       "      <td>0.04</td>\n",
       "      <td>48</td>\n",
       "      <td>35</td>\n",
       "      <td>True</td>\n",
       "      <td>True</td>\n",
       "      <td>0.0</td>\n",
       "      <td>1.0</td>\n",
       "      <td>0.0</td>\n",
       "      <td>0.0</td>\n",
       "      <td>0.22</td>\n",
       "    </tr>\n",
       "    <tr>\n",
       "      <th>2</th>\n",
       "      <td>1948-01-09</td>\n",
       "      <td>0.12</td>\n",
       "      <td>50</td>\n",
       "      <td>31</td>\n",
       "      <td>True</td>\n",
       "      <td>True</td>\n",
       "      <td>0.0</td>\n",
       "      <td>1.0</td>\n",
       "      <td>0.0</td>\n",
       "      <td>0.0</td>\n",
       "      <td>0.15</td>\n",
       "    </tr>\n",
       "    <tr>\n",
       "      <th>3</th>\n",
       "      <td>1948-01-11</td>\n",
       "      <td>0.01</td>\n",
       "      <td>42</td>\n",
       "      <td>32</td>\n",
       "      <td>True</td>\n",
       "      <td>True</td>\n",
       "      <td>0.0</td>\n",
       "      <td>1.0</td>\n",
       "      <td>0.0</td>\n",
       "      <td>0.0</td>\n",
       "      <td>0.19</td>\n",
       "    </tr>\n",
       "    <tr>\n",
       "      <th>4</th>\n",
       "      <td>1948-01-12</td>\n",
       "      <td>0.00</td>\n",
       "      <td>41</td>\n",
       "      <td>26</td>\n",
       "      <td>False</td>\n",
       "      <td>False</td>\n",
       "      <td>0.0</td>\n",
       "      <td>0.0</td>\n",
       "      <td>0.0</td>\n",
       "      <td>1.0</td>\n",
       "      <td>0.17</td>\n",
       "    </tr>\n",
       "    <tr>\n",
       "      <th>5</th>\n",
       "      <td>1948-01-13</td>\n",
       "      <td>0.00</td>\n",
       "      <td>45</td>\n",
       "      <td>29</td>\n",
       "      <td>False</td>\n",
       "      <td>False</td>\n",
       "      <td>0.0</td>\n",
       "      <td>0.0</td>\n",
       "      <td>0.0</td>\n",
       "      <td>1.0</td>\n",
       "      <td>0.00</td>\n",
       "    </tr>\n",
       "    <tr>\n",
       "      <th>6</th>\n",
       "      <td>1948-01-14</td>\n",
       "      <td>0.00</td>\n",
       "      <td>38</td>\n",
       "      <td>26</td>\n",
       "      <td>False</td>\n",
       "      <td>False</td>\n",
       "      <td>0.0</td>\n",
       "      <td>0.0</td>\n",
       "      <td>0.0</td>\n",
       "      <td>1.0</td>\n",
       "      <td>0.00</td>\n",
       "    </tr>\n",
       "    <tr>\n",
       "      <th>7</th>\n",
       "      <td>1948-01-15</td>\n",
       "      <td>0.00</td>\n",
       "      <td>34</td>\n",
       "      <td>31</td>\n",
       "      <td>False</td>\n",
       "      <td>False</td>\n",
       "      <td>0.0</td>\n",
       "      <td>0.0</td>\n",
       "      <td>0.0</td>\n",
       "      <td>1.0</td>\n",
       "      <td>0.00</td>\n",
       "    </tr>\n",
       "    <tr>\n",
       "      <th>8</th>\n",
       "      <td>1948-01-16</td>\n",
       "      <td>0.00</td>\n",
       "      <td>34</td>\n",
       "      <td>28</td>\n",
       "      <td>False</td>\n",
       "      <td>False</td>\n",
       "      <td>0.0</td>\n",
       "      <td>0.0</td>\n",
       "      <td>0.0</td>\n",
       "      <td>1.0</td>\n",
       "      <td>0.00</td>\n",
       "    </tr>\n",
       "    <tr>\n",
       "      <th>9</th>\n",
       "      <td>1948-01-17</td>\n",
       "      <td>0.00</td>\n",
       "      <td>35</td>\n",
       "      <td>29</td>\n",
       "      <td>False</td>\n",
       "      <td>False</td>\n",
       "      <td>0.0</td>\n",
       "      <td>0.0</td>\n",
       "      <td>0.0</td>\n",
       "      <td>1.0</td>\n",
       "      <td>0.00</td>\n",
       "    </tr>\n",
       "  </tbody>\n",
       "</table>\n",
       "</div>"
      ],
      "text/plain": [
       "         DATE  PRCP  TMAX  TMIN   RAIN  preds   FP   TP   FN   TN  preds_PRCP\n",
       "0  1948-01-05  0.17    45    32   True  False  0.0  0.0  1.0  0.0        0.00\n",
       "1  1948-01-08  0.04    48    35   True   True  0.0  1.0  0.0  0.0        0.22\n",
       "2  1948-01-09  0.12    50    31   True   True  0.0  1.0  0.0  0.0        0.15\n",
       "3  1948-01-11  0.01    42    32   True   True  0.0  1.0  0.0  0.0        0.19\n",
       "4  1948-01-12  0.00    41    26  False  False  0.0  0.0  0.0  1.0        0.17\n",
       "5  1948-01-13  0.00    45    29  False  False  0.0  0.0  0.0  1.0        0.00\n",
       "6  1948-01-14  0.00    38    26  False  False  0.0  0.0  0.0  1.0        0.00\n",
       "7  1948-01-15  0.00    34    31  False  False  0.0  0.0  0.0  1.0        0.00\n",
       "8  1948-01-16  0.00    34    28  False  False  0.0  0.0  0.0  1.0        0.00\n",
       "9  1948-01-17  0.00    35    29  False  False  0.0  0.0  0.0  1.0        0.00"
      ]
     },
     "execution_count": 24,
     "metadata": {},
     "output_type": "execute_result"
    }
   ],
   "source": [
    "# Apply Heuristic\n",
    "df[\"preds_PRCP\"] = heuristic_PRCP(df)\n",
    "\n",
    "df.head(10)"
   ]
  },
  {
   "cell_type": "code",
   "execution_count": 25,
   "id": "0ecd9666",
   "metadata": {},
   "outputs": [],
   "source": [
    "# adding column for mean \n",
    "PRCP_List = []\n",
    "for row in range(len(df)):\n",
    "    PRCP_List.append(df['PRCP'].mean())\n",
    "    \n",
    "df[\"PRCP_mean\"] = PRCP_List"
   ]
  },
  {
   "cell_type": "code",
   "execution_count": 26,
   "id": "5f4f4751",
   "metadata": {},
   "outputs": [
    {
     "data": {
      "text/plain": [
       "0.009264095788561159"
      ]
     },
     "execution_count": 26,
     "metadata": {},
     "output_type": "execute_result"
    }
   ],
   "source": [
    "# Your accuracy score function should equal this value\n",
    "mean_squared_error(df[\"PRCP\"],  df[\"preds_PRCP\"])"
   ]
  },
  {
   "cell_type": "code",
   "execution_count": 27,
   "id": "42481a16",
   "metadata": {},
   "outputs": [
    {
     "data": {
      "text/plain": [
       "0.008241978966337818"
      ]
     },
     "execution_count": 27,
     "metadata": {},
     "output_type": "execute_result"
    }
   ],
   "source": [
    "mean_squared_error(df[\"PRCP_mean\"],  df[\"preds_PRCP\"])"
   ]
  },
  {
   "cell_type": "markdown",
   "id": "9442b8a1",
   "metadata": {},
   "source": [
    "Did you do better than predicting the mean value for the PRCP column?\n",
    " \n",
    "No"
   ]
  },
  {
   "cell_type": "markdown",
   "id": "59aed10a",
   "metadata": {},
   "source": [
    "# Assignment ML3"
   ]
  },
  {
   "cell_type": "code",
   "execution_count": 29,
   "id": "3f47bd4c",
   "metadata": {},
   "outputs": [],
   "source": [
    "\n",
    "# SSE also known as RSS \n",
    "def SSE(train, test): \n",
    "    return((train - test)**2).sum()\n"
   ]
  },
  {
   "cell_type": "code",
   "execution_count": 30,
   "id": "3e2c721d",
   "metadata": {},
   "outputs": [
    {
     "name": "stdout",
     "output_type": "stream",
     "text": [
      "precision: 0.5635545801294435, \n",
      "recall: 0.4864756273881716, \n",
      "MSE: 0.009317534376110945,\n",
      "MAE: 0.057983608500124406, \n",
      "SSE: 40.80148303298982\n"
     ]
    }
   ],
   "source": [
    "\n",
    "precision = np.zeros(5)\n",
    "recall = np.zeros(5)\n",
    "MSE = np.zeros(5)\n",
    "MAE = np.zeros(5)\n",
    "SSE_list = np.zeros(5)\n",
    "\n",
    "# looping five times\n",
    "for x in range(5):\n",
    "    \n",
    "    # split\n",
    "    training, testing = train_test_split(\n",
    "    df, \n",
    "    train_size=0.8, # 80%\n",
    "    test_size=0.2, #20%\n",
    "    )\n",
    "    \n",
    "    # precision\n",
    "    precision[x]=(precision_score(testing[\"RAIN\"], testing[\"preds\"]))\n",
    "    # recall\n",
    "    recall[x]=(recall_score(testing[\"RAIN\"], testing[\"preds\"]))\n",
    "    #MSE\n",
    "    MSE[x]=(mean_squared_error(testing[\"PRCP\"], testing[\"preds_PRCP\"]))\n",
    "    # MAE\n",
    "    MAE[x]=(mean_absolute_error(testing[\"PRCP\"], testing[\"preds_PRCP\"]))\n",
    "    # SSE\n",
    "    SSE_list[x]=(SSE(testing[\"PRCP\"], testing[\"preds_PRCP\"]))\n",
    "\n",
    "\n",
    "print(f\"precision: {precision.mean()}, \\nrecall: {recall.mean()}, \\nMSE: {MSE.mean()},\\nMAE: { MAE.mean()}, \\nSSE: {SSE_list.mean()}\")\n",
    "\n",
    "\n",
    "    "
   ]
  }
 ],
 "metadata": {
  "kernelspec": {
   "display_name": "Python 3",
   "language": "python",
   "name": "python3"
  },
  "language_info": {
   "codemirror_mode": {
    "name": "ipython",
    "version": 3
   },
   "file_extension": ".py",
   "mimetype": "text/x-python",
   "name": "python",
   "nbconvert_exporter": "python",
   "pygments_lexer": "ipython3",
   "version": "3.8.8"
  }
 },
 "nbformat": 4,
 "nbformat_minor": 5
}
