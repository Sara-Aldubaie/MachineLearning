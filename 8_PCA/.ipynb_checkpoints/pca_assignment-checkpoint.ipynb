{
 "cells": [
  {
   "cell_type": "markdown",
   "metadata": {
    "id": "view-in-github"
   },
   "source": [
    "<a href=\"https://colab.research.google.com/github/gumdropsteve/intro_to_machine_learning/blob/main/day_12/02_pca_assignment.ipynb\" target=\"_parent\"><img src=\"https://colab.research.google.com/assets/colab-badge.svg\" alt=\"Open In Colab\"/></a>"
   ]
  },
  {
   "cell_type": "code",
   "execution_count": 1,
   "metadata": {
    "executionInfo": {
     "elapsed": 17,
     "status": "ok",
     "timestamp": 1624859665327,
     "user": {
      "displayName": "Mikio Harman",
      "photoUrl": "",
      "userId": "02010985210266587860"
     },
     "user_tz": 420
    },
    "id": "KTUHqa5QpbKZ"
   },
   "outputs": [],
   "source": [
    "import pandas as pd\n",
    "\n",
    "# Additional Imports here\n",
    "\n",
    "# plots \n",
    "import seaborn as sns\n",
    "import matplotlib.pyplot as plt\n",
    "\n",
    "# Scalers\n",
    "from sklearn.preprocessing import StandardScaler\n",
    "\n",
    "#split\n",
    "from sklearn.model_selection import train_test_split\n",
    "\n",
    "#LogisticRegression\n",
    "from sklearn.linear_model import LogisticRegression\n",
    "\n",
    "#Accuracy, recall, and precision\n",
    "from sklearn import metrics\n",
    "\n",
    "#PCA\n",
    "from sklearn.decomposition import PCA\n"
   ]
  },
  {
   "cell_type": "markdown",
   "metadata": {
    "id": "J4JJUVjJtU7h"
   },
   "source": [
    "<center><H1>PCA With Diabetes Dataset</H1></center>\n",
    "\n",
    "<p align=\"center\">\n",
    "  <img width=\"500\" height=\"200\" src=\"https://i.gifer.com/H7zW.gif\">\n",
    "</p>\n",
    "\n",
    "\n",
    "👉🏼 [Data Dictionary](https://www.kaggle.com/uciml/pima-indians-diabetes-database) 👈🏼\n",
    "\n",
    "<center><H3>Steps (Must be performed in this order)</H></center>\n",
    "\n",
    "1. [Split Data](https://scikit-learn.org/stable/modules/generated/sklearn.model_selection.train_test_split.html)\n",
    "2. EDA (Show us your opinion of the 2 best plots explaining the most important insights int the data). \n",
    "    - **Plots Require**:\n",
    "        - Title\n",
    "        - Axis Labels\n",
    "        - Legend\n",
    "        - A short explanation why it is important as if you were explaining it to someone who has never seen the plot before and is unfamiliar with the data.\n",
    "3. Determine Baseline Model\n",
    "4. [Scale Data](https://scikit-learn.org/stable/modules/generated/sklearn.preprocessing.StandardScaler.html)\n",
    "5. [Create Logistic Regression Model](https://scikit-learn.org/stable/modules/generated/sklearn.linear_model.LogisticRegression.html)\n",
    "6. Compare Results to Baseline\n",
    "7. [Perform PCA](https://scikit-learn.org/stable/modules/generated/sklearn.decomposition.PCA.html)\n",
    "8. Use Your Principal Components for a Logistic Regression Model\n",
    "9. Compare Results to Baseline and previous Logistic Regression Model without PCA and provide an explanation of what the results mean and the point of PCA\n",
    "\n",
    "✨BONUS✨\n",
    " - Create a Scree Plot (You will probably have to research this)"
   ]
  },
  {
   "cell_type": "code",
   "execution_count": 2,
   "metadata": {
    "colab": {
     "base_uri": "https://localhost:8080/",
     "height": 136
    },
    "executionInfo": {
     "elapsed": 353,
     "status": "ok",
     "timestamp": 1624859665667,
     "user": {
      "displayName": "Mikio Harman",
      "photoUrl": "",
      "userId": "02010985210266587860"
     },
     "user_tz": 420
    },
    "id": "WxF0nLIsq3er",
    "outputId": "fb3f3ed1-5f5b-46f8-95f9-39ee1792cafe"
   },
   "outputs": [
    {
     "data": {
      "text/html": [
       "<div>\n",
       "<style scoped>\n",
       "    .dataframe tbody tr th:only-of-type {\n",
       "        vertical-align: middle;\n",
       "    }\n",
       "\n",
       "    .dataframe tbody tr th {\n",
       "        vertical-align: top;\n",
       "    }\n",
       "\n",
       "    .dataframe thead th {\n",
       "        text-align: right;\n",
       "    }\n",
       "</style>\n",
       "<table border=\"1\" class=\"dataframe\">\n",
       "  <thead>\n",
       "    <tr style=\"text-align: right;\">\n",
       "      <th></th>\n",
       "      <th>Pregnancies</th>\n",
       "      <th>Glucose</th>\n",
       "      <th>BloodPressure</th>\n",
       "      <th>SkinThickness</th>\n",
       "      <th>Insulin</th>\n",
       "      <th>BMI</th>\n",
       "      <th>DiabetesPedigreeFunction</th>\n",
       "      <th>Age</th>\n",
       "      <th>Outcome</th>\n",
       "    </tr>\n",
       "  </thead>\n",
       "  <tbody>\n",
       "    <tr>\n",
       "      <th>364</th>\n",
       "      <td>4</td>\n",
       "      <td>147</td>\n",
       "      <td>74</td>\n",
       "      <td>25</td>\n",
       "      <td>293</td>\n",
       "      <td>34.9</td>\n",
       "      <td>0.385</td>\n",
       "      <td>30</td>\n",
       "      <td>0</td>\n",
       "    </tr>\n",
       "    <tr>\n",
       "      <th>198</th>\n",
       "      <td>4</td>\n",
       "      <td>109</td>\n",
       "      <td>64</td>\n",
       "      <td>44</td>\n",
       "      <td>99</td>\n",
       "      <td>34.8</td>\n",
       "      <td>0.905</td>\n",
       "      <td>26</td>\n",
       "      <td>1</td>\n",
       "    </tr>\n",
       "    <tr>\n",
       "      <th>65</th>\n",
       "      <td>5</td>\n",
       "      <td>99</td>\n",
       "      <td>74</td>\n",
       "      <td>27</td>\n",
       "      <td>0</td>\n",
       "      <td>29.0</td>\n",
       "      <td>0.203</td>\n",
       "      <td>32</td>\n",
       "      <td>0</td>\n",
       "    </tr>\n",
       "  </tbody>\n",
       "</table>\n",
       "</div>"
      ],
      "text/plain": [
       "     Pregnancies  Glucose  BloodPressure  SkinThickness  Insulin   BMI  \\\n",
       "364            4      147             74             25      293  34.9   \n",
       "198            4      109             64             44       99  34.8   \n",
       "65             5       99             74             27        0  29.0   \n",
       "\n",
       "     DiabetesPedigreeFunction  Age  Outcome  \n",
       "364                     0.385   30        0  \n",
       "198                     0.905   26        1  \n",
       "65                      0.203   32        0  "
      ]
     },
     "execution_count": 2,
     "metadata": {},
     "output_type": "execute_result"
    }
   ],
   "source": [
    "df = pd.read_csv(\"https://raw.githubusercontent.com/mpHarm88/datasets/master/diabetes.csv\")\n",
    "df.sample(3)"
   ]
  },
  {
   "cell_type": "code",
   "execution_count": 3,
   "metadata": {
    "id": "BA1kZ7ppLtZt"
   },
   "outputs": [
    {
     "data": {
      "text/plain": [
       "0    500\n",
       "1    268\n",
       "Name: Outcome, dtype: int64"
      ]
     },
     "execution_count": 3,
     "metadata": {},
     "output_type": "execute_result"
    }
   ],
   "source": [
    "df['Outcome'].value_counts()"
   ]
  },
  {
   "cell_type": "code",
   "execution_count": 4,
   "metadata": {},
   "outputs": [
    {
     "data": {
      "text/html": [
       "<div>\n",
       "<style scoped>\n",
       "    .dataframe tbody tr th:only-of-type {\n",
       "        vertical-align: middle;\n",
       "    }\n",
       "\n",
       "    .dataframe tbody tr th {\n",
       "        vertical-align: top;\n",
       "    }\n",
       "\n",
       "    .dataframe thead th {\n",
       "        text-align: right;\n",
       "    }\n",
       "</style>\n",
       "<table border=\"1\" class=\"dataframe\">\n",
       "  <thead>\n",
       "    <tr style=\"text-align: right;\">\n",
       "      <th></th>\n",
       "      <th>Pregnancies</th>\n",
       "      <th>Glucose</th>\n",
       "      <th>BloodPressure</th>\n",
       "      <th>SkinThickness</th>\n",
       "      <th>Insulin</th>\n",
       "      <th>BMI</th>\n",
       "      <th>DiabetesPedigreeFunction</th>\n",
       "      <th>Age</th>\n",
       "      <th>Outcome</th>\n",
       "    </tr>\n",
       "  </thead>\n",
       "  <tbody>\n",
       "    <tr>\n",
       "      <th>count</th>\n",
       "      <td>768.000000</td>\n",
       "      <td>768.000000</td>\n",
       "      <td>768.000000</td>\n",
       "      <td>768.000000</td>\n",
       "      <td>768.000000</td>\n",
       "      <td>768.000000</td>\n",
       "      <td>768.000000</td>\n",
       "      <td>768.000000</td>\n",
       "      <td>768.000000</td>\n",
       "    </tr>\n",
       "    <tr>\n",
       "      <th>mean</th>\n",
       "      <td>3.845052</td>\n",
       "      <td>120.894531</td>\n",
       "      <td>69.105469</td>\n",
       "      <td>20.536458</td>\n",
       "      <td>79.799479</td>\n",
       "      <td>31.992578</td>\n",
       "      <td>0.471876</td>\n",
       "      <td>33.240885</td>\n",
       "      <td>0.348958</td>\n",
       "    </tr>\n",
       "    <tr>\n",
       "      <th>std</th>\n",
       "      <td>3.369578</td>\n",
       "      <td>31.972618</td>\n",
       "      <td>19.355807</td>\n",
       "      <td>15.952218</td>\n",
       "      <td>115.244002</td>\n",
       "      <td>7.884160</td>\n",
       "      <td>0.331329</td>\n",
       "      <td>11.760232</td>\n",
       "      <td>0.476951</td>\n",
       "    </tr>\n",
       "    <tr>\n",
       "      <th>min</th>\n",
       "      <td>0.000000</td>\n",
       "      <td>0.000000</td>\n",
       "      <td>0.000000</td>\n",
       "      <td>0.000000</td>\n",
       "      <td>0.000000</td>\n",
       "      <td>0.000000</td>\n",
       "      <td>0.078000</td>\n",
       "      <td>21.000000</td>\n",
       "      <td>0.000000</td>\n",
       "    </tr>\n",
       "    <tr>\n",
       "      <th>25%</th>\n",
       "      <td>1.000000</td>\n",
       "      <td>99.000000</td>\n",
       "      <td>62.000000</td>\n",
       "      <td>0.000000</td>\n",
       "      <td>0.000000</td>\n",
       "      <td>27.300000</td>\n",
       "      <td>0.243750</td>\n",
       "      <td>24.000000</td>\n",
       "      <td>0.000000</td>\n",
       "    </tr>\n",
       "    <tr>\n",
       "      <th>50%</th>\n",
       "      <td>3.000000</td>\n",
       "      <td>117.000000</td>\n",
       "      <td>72.000000</td>\n",
       "      <td>23.000000</td>\n",
       "      <td>30.500000</td>\n",
       "      <td>32.000000</td>\n",
       "      <td>0.372500</td>\n",
       "      <td>29.000000</td>\n",
       "      <td>0.000000</td>\n",
       "    </tr>\n",
       "    <tr>\n",
       "      <th>75%</th>\n",
       "      <td>6.000000</td>\n",
       "      <td>140.250000</td>\n",
       "      <td>80.000000</td>\n",
       "      <td>32.000000</td>\n",
       "      <td>127.250000</td>\n",
       "      <td>36.600000</td>\n",
       "      <td>0.626250</td>\n",
       "      <td>41.000000</td>\n",
       "      <td>1.000000</td>\n",
       "    </tr>\n",
       "    <tr>\n",
       "      <th>max</th>\n",
       "      <td>17.000000</td>\n",
       "      <td>199.000000</td>\n",
       "      <td>122.000000</td>\n",
       "      <td>99.000000</td>\n",
       "      <td>846.000000</td>\n",
       "      <td>67.100000</td>\n",
       "      <td>2.420000</td>\n",
       "      <td>81.000000</td>\n",
       "      <td>1.000000</td>\n",
       "    </tr>\n",
       "  </tbody>\n",
       "</table>\n",
       "</div>"
      ],
      "text/plain": [
       "       Pregnancies     Glucose  BloodPressure  SkinThickness     Insulin  \\\n",
       "count   768.000000  768.000000     768.000000     768.000000  768.000000   \n",
       "mean      3.845052  120.894531      69.105469      20.536458   79.799479   \n",
       "std       3.369578   31.972618      19.355807      15.952218  115.244002   \n",
       "min       0.000000    0.000000       0.000000       0.000000    0.000000   \n",
       "25%       1.000000   99.000000      62.000000       0.000000    0.000000   \n",
       "50%       3.000000  117.000000      72.000000      23.000000   30.500000   \n",
       "75%       6.000000  140.250000      80.000000      32.000000  127.250000   \n",
       "max      17.000000  199.000000     122.000000      99.000000  846.000000   \n",
       "\n",
       "              BMI  DiabetesPedigreeFunction         Age     Outcome  \n",
       "count  768.000000                768.000000  768.000000  768.000000  \n",
       "mean    31.992578                  0.471876   33.240885    0.348958  \n",
       "std      7.884160                  0.331329   11.760232    0.476951  \n",
       "min      0.000000                  0.078000   21.000000    0.000000  \n",
       "25%     27.300000                  0.243750   24.000000    0.000000  \n",
       "50%     32.000000                  0.372500   29.000000    0.000000  \n",
       "75%     36.600000                  0.626250   41.000000    1.000000  \n",
       "max     67.100000                  2.420000   81.000000    1.000000  "
      ]
     },
     "execution_count": 4,
     "metadata": {},
     "output_type": "execute_result"
    }
   ],
   "source": [
    "df.describe()"
   ]
  },
  {
   "cell_type": "code",
   "execution_count": 5,
   "metadata": {},
   "outputs": [
    {
     "name": "stdout",
     "output_type": "stream",
     "text": [
      "<class 'pandas.core.frame.DataFrame'>\n",
      "RangeIndex: 768 entries, 0 to 767\n",
      "Data columns (total 9 columns):\n",
      " #   Column                    Non-Null Count  Dtype  \n",
      "---  ------                    --------------  -----  \n",
      " 0   Pregnancies               768 non-null    int64  \n",
      " 1   Glucose                   768 non-null    int64  \n",
      " 2   BloodPressure             768 non-null    int64  \n",
      " 3   SkinThickness             768 non-null    int64  \n",
      " 4   Insulin                   768 non-null    int64  \n",
      " 5   BMI                       768 non-null    float64\n",
      " 6   DiabetesPedigreeFunction  768 non-null    float64\n",
      " 7   Age                       768 non-null    int64  \n",
      " 8   Outcome                   768 non-null    int64  \n",
      "dtypes: float64(2), int64(7)\n",
      "memory usage: 54.1 KB\n"
     ]
    }
   ],
   "source": [
    "df.info()"
   ]
  },
  {
   "cell_type": "markdown",
   "metadata": {},
   "source": [
    "# <span style=\"color:#EF7C8E\">1. Split dataset </span>"
   ]
  },
  {
   "cell_type": "code",
   "execution_count": 6,
   "metadata": {},
   "outputs": [],
   "source": [
    "#split dataset in features and target variable\n",
    "feature_cols = ['Pregnancies','Glucose','BloodPressure','SkinThickness','Insulin','BMI','DiabetesPedigreeFunction','Age']\n",
    "X = df[feature_cols]                # Features\n",
    "y = df.Outcome                      # Target "
   ]
  },
  {
   "cell_type": "code",
   "execution_count": 7,
   "metadata": {},
   "outputs": [],
   "source": [
    "# Split dataset into training set and test set\n",
    "X_train, X_test, y_train, y_test = train_test_split(X,\n",
    "                                                    y,\n",
    "                                                    test_size=0.2,\n",
    "                                                    random_state=42) # 80% training and 20% test"
   ]
  },
  {
   "cell_type": "markdown",
   "metadata": {},
   "source": [
    "#   <span style=\"color:#EF7C8E\">2. EDA</span>"
   ]
  },
  {
   "cell_type": "markdown",
   "metadata": {},
   "source": [
    "### About the dataset (Pima Indians Diabetes): \n",
    "This dataset is originally from the National Institute of Diabetes and Digestive and Kidney Diseases. The objective of the dataset is to diagnostically predict whether or not a patient has diabetes, based on certain diagnostic measurements included in the dataset. Several constraints were placed on the selection of these instances from a larger database. In particular, all patients here are females at least 21 years old of Pima Indian heritage.\n",
    "\n",
    "#### Attributes Meaning: \n",
    "- Pregnancies: Number of times pregnant. \n",
    "- Glucose: Plasma glucose concentration a 2 hours in an oral glucose tolerance test. \n",
    "- BloodPressure: Diastolic blood pressure (mm Hg). \n",
    "- SkinThickness: Triceps skin fold thickness (mm).\n",
    "- Insulin: 2-Hour serum insulin (mu U/ml).\n",
    "- BMI: Body mass index (weight in kg/(height in m)^2).\n",
    "- DiabetesPedigreeFunction: Diabetes pedigree function.\n",
    "- Age: Age (years). \n",
    "- Outcome: Class variable (0 or 1) 268 of 768 are 1, the others are 0"
   ]
  },
  {
   "cell_type": "code",
   "execution_count": 8,
   "metadata": {},
   "outputs": [
    {
     "data": {
      "image/png": "[encoded data removed]",
      "text/plain": [
       "<Figure size 864x360 with 1 Axes>"
      ]
     },
     "metadata": {
      "needs_background": "light"
     },
     "output_type": "display_data"
    }
   ],
   "source": [
    "plt.figure(figsize=(12,5)) # figure size \n",
    "sns.set_theme(style=\"darkgrid\") # set a theme \n",
    "palette = ['#D8A7B1','#B6E2D3', '#FAE8E0', '#EF7C8E', '#8FDDE7', '#FBE5C8', '#A49393']\n",
    "sns.set_palette(palette)  # set color palette\n",
    "sns.kdeplot(y_train, \n",
    "                shade=True, \n",
    "                color ='#D8A7B1')\n",
    "plt.title(\"Diabetic Density\")\n",
    "plt.xlabel('Diabetic')\n",
    "plt.show()"
   ]
  },
  {
   "cell_type": "markdown",
   "metadata": {},
   "source": [
    "### <span style=\"color:#EF7C8E\">Explanation: </span>\n",
    "- This chart shows us the density of women's who have diabetes and who don't have diabetes \n",
    "- 1 means they have diabetes\n",
    "- 0 means they don't have diabetes \n",
    "\n",
    "### <span style=\"color:#EF7C8E\">Important Insights: </span>\n",
    "\n",
    "- Most of the women's in the dataset does not have diabetes"
   ]
  },
  {
   "cell_type": "code",
   "execution_count": 9,
   "metadata": {},
   "outputs": [
    {
     "data": {
      "image/png": "[encoded data removed]",
      "text/plain": [
       "<Figure size 864x360 with 1 Axes>"
      ]
     },
     "metadata": {},
     "output_type": "display_data"
    }
   ],
   "source": [
    "plt.figure(figsize=(12,5)) # figure size \n",
    "\n",
    "b2 = sns.histplot(\n",
    "    X_train,                     # data \n",
    "    x= 'BMI',                    # Body mass index\n",
    "    hue=y_train,                 # Diabetes \n",
    "    multiple=\"dodge\",            # aside  \n",
    "    alpha=.8,                    # transparency\n",
    "    bins=30,                     # number of bins\n",
    ")\n",
    "\n",
    "plt.title(\"Relationship Between BMI and Diabetes \")\n",
    "plt.xlabel('Body Mass Index (BMI)')\n",
    "plt.ylabel('Number of women')\n",
    "plt.show()"
   ]
  },
  {
   "cell_type": "markdown",
   "metadata": {},
   "source": [
    "### <span style=\"color:#EF7C8E\">Explanation: </span>\n",
    "- This chart shows us the relationship between the body mass index and diabetes\n",
    "- Pink bars women's don't have diabetes\n",
    "- Green bars women's have diabetes \n",
    "\n",
    "### <span style=\"color:#EF7C8E\">Important Insights: </span>\n",
    "\n",
    "- After BMI exceed 24 women start to have diabetes. \n",
    "- The greater BMI the higher chance of women having diabetes. \n",
    "- After BMI exceeds 40 the number of women who have diabetes is more than the women's don't have diabetes. "
   ]
  },
  {
   "cell_type": "code",
   "execution_count": 10,
   "metadata": {},
   "outputs": [
    {
     "data": {
      "image/png": "[encoded data removed]",
      "text/plain": [
       "<Figure size 864x360 with 1 Axes>"
      ]
     },
     "metadata": {},
     "output_type": "display_data"
    }
   ],
   "source": [
    "plt.figure(figsize=(12,5)) # figure size \n",
    "sns.scatterplot(data=X_train, \n",
    "                x=\"Glucose\", \n",
    "                y=\"Age\", \n",
    "                hue=y_train, \n",
    "                )\n",
    "plt.title(\"Relationship Between Glucose and Age\")\n",
    "plt.legend(title = \"Diabetic\")\n",
    "plt.ylabel('Age Number')\n",
    "plt.show()"
   ]
  },
  {
   "cell_type": "markdown",
   "metadata": {},
   "source": [
    "### <span style=\"color:#EF7C8E\">Explanation: </span>\n",
    "- This chart shows us the relationship between glucose, age and diabetes\n",
    "- Pink dots women's don't have diabetes\n",
    "- Green dots women's have diabetes \n",
    "\n",
    "### <span style=\"color:#EF7C8E\">Important Insights: </span>\n",
    "\n",
    "- Age has no effect on women having diabetes, womens have diabetes in all age ranges. \n",
    "- The greater glucose the higher chance of women having diabetes. \n",
    "- After glucose exceeds 140 the number of women who have diabetes is more than the women's that don't have diabetes. "
   ]
  },
  {
   "cell_type": "markdown",
   "metadata": {},
   "source": [
    "# <span style=\"color:#EF7C8E\">3. Determine Baseline Model</span>"
   ]
  },
  {
   "cell_type": "code",
   "execution_count": 11,
   "metadata": {},
   "outputs": [
    {
     "data": {
      "text/plain": [
       "0    0.653094\n",
       "1    0.346906\n",
       "Name: Outcome, dtype: float64"
      ]
     },
     "execution_count": 11,
     "metadata": {},
     "output_type": "execute_result"
    }
   ],
   "source": [
    "# Baseline \n",
    "Baseline = y_train.value_counts(normalize=True)\n",
    "Baseline"
   ]
  },
  {
   "cell_type": "markdown",
   "metadata": {},
   "source": [
    "# <span style=\"color:#EF7C8E\">4. Scale Data</span> "
   ]
  },
  {
   "cell_type": "code",
   "execution_count": 12,
   "metadata": {},
   "outputs": [],
   "source": [
    "# Instantiate Scaler Object\n",
    "scaler = StandardScaler()\n",
    "\n",
    "# Apply to X data\n",
    "X_train_scaled = scaler.fit_transform(X_train)\n",
    "X_test_scaled = scaler.transform(X_test)\n"
   ]
  },
  {
   "cell_type": "markdown",
   "metadata": {},
   "source": [
    "# <span style=\"color:#EF7C8E\">5. Create Logistic Regression Model </span> "
   ]
  },
  {
   "cell_type": "code",
   "execution_count": 13,
   "metadata": {},
   "outputs": [
    {
     "name": "stdout",
     "output_type": "stream",
     "text": [
      "Accuracy: 0.7532467532467533 \n",
      "Recall: 0.6727272727272727 \n",
      "Precision: 0.6491228070175439\n"
     ]
    }
   ],
   "source": [
    "# LogisticRegression\n",
    "classifier = LogisticRegression()\n",
    "classifier.fit(X_train_scaled, y_train)\n",
    "y_pred = classifier.predict(X_test_scaled)\n",
    "\n",
    "# Model Accuracy, recall, and precision\n",
    "print(\"Accuracy:\",metrics.accuracy_score(y_test, y_pred),\n",
    "      \"\\nRecall:\",metrics.recall_score(y_test, y_pred),\n",
    "      \"\\nPrecision:\",metrics.precision_score(y_test, y_pred))"
   ]
  },
  {
   "cell_type": "markdown",
   "metadata": {},
   "source": [
    "# <span style=\"color:#EF7C8E\">6. Compare Results to Baseline</span>  "
   ]
  },
  {
   "cell_type": "code",
   "execution_count": 14,
   "metadata": {},
   "outputs": [
    {
     "name": "stdout",
     "output_type": "stream",
     "text": [
      "----------------------------------------\n",
      "Baseline:\n",
      "Accuracy:  0.6530944625407166\n",
      "----------------------------------------\n",
      "Logistic Regression\n",
      "Accuracy:  0.7532467532467533 \n",
      "Recall:    0.6727272727272727 \n",
      "Precision: 0.6491228070175439\n",
      "----------------------------------------\n",
      "\n",
      "The baseline have an accuracy of 65%, but in the Logistic Regression model the accuracy is 75% so our Logistic Regression outperform the Baseline \n"
     ]
    }
   ],
   "source": [
    "print('--'*20)\n",
    "print('Baseline:')\n",
    "print('Accuracy: ',Baseline[0])\n",
    "print('--'*20)\n",
    "print('Logistic Regression')\n",
    "# Model Accuracy, recall, and precision\n",
    "print(\"Accuracy: \",metrics.accuracy_score(y_test, y_pred),\n",
    "      \"\\nRecall:   \",metrics.recall_score(y_test, y_pred),\n",
    "      \"\\nPrecision:\",metrics.precision_score(y_test, y_pred))\n",
    "print('--'*20)\n",
    "print('\\nThe baseline have an accuracy of 65%, but in the Logistic Regression model the accuracy is 75% so our Logistic Regression outperform the Baseline ')"
   ]
  },
  {
   "cell_type": "markdown",
   "metadata": {},
   "source": [
    "# <span style=\"color:#EF7C8E\">7. Perform PCA</span>   "
   ]
  },
  {
   "cell_type": "code",
   "execution_count": 15,
   "metadata": {},
   "outputs": [],
   "source": [
    "# Instantiate & fit data using PCA\n",
    "pca = PCA(n_components=6)\n",
    "pca_train = pca.fit_transform(X_train_scaled)\n",
    "pca_test = pca.transform(X_test_scaled)\n"
   ]
  },
  {
   "cell_type": "code",
   "execution_count": 16,
   "metadata": {},
   "outputs": [
    {
     "data": {
      "text/plain": [
       "0    0.255333\n",
       "1    0.220703\n",
       "2    0.128005\n",
       "3    0.111250\n",
       "4    0.097158\n",
       "5    0.088006\n",
       "dtype: float64"
      ]
     },
     "execution_count": 16,
     "metadata": {},
     "output_type": "execute_result"
    }
   ],
   "source": [
    "pd.Series(pca.explained_variance_ratio_) "
   ]
  },
  {
   "cell_type": "markdown",
   "metadata": {},
   "source": [
    "# <span style=\"color:#EF7C8E\">8. Use Your Principal Components for a Logistic Regression Model </span>   "
   ]
  },
  {
   "cell_type": "code",
   "execution_count": 17,
   "metadata": {},
   "outputs": [
    {
     "name": "stdout",
     "output_type": "stream",
     "text": [
      "Accuracy: 0.7727272727272727 \n",
      "Recall: 0.6545454545454545 \n",
      "Precision: 0.6923076923076923\n"
     ]
    }
   ],
   "source": [
    "# LogisticRegression\n",
    "classifier = LogisticRegression()\n",
    "classifier.fit(pca_train, y_train)\n",
    "pca_y_pred = classifier.predict(pca_test)\n",
    "\n",
    "# Model Accuracy, recall, and precision\n",
    "print(\"Accuracy:\",metrics.accuracy_score(y_test, pca_y_pred),\n",
    "      \"\\nRecall:\",metrics.recall_score(y_test, pca_y_pred),\n",
    "      \"\\nPrecision:\",metrics.precision_score(y_test, pca_y_pred))"
   ]
  },
  {
   "cell_type": "markdown",
   "metadata": {},
   "source": [
    "# <span style=\"color:#EF7C8E\">9. Compare Results to Baseline and previous Logistic Regression Model without PCA and provide an explanation of what the results mean and the point of PCA </span>   "
   ]
  },
  {
   "cell_type": "code",
   "execution_count": 18,
   "metadata": {
    "scrolled": true
   },
   "outputs": [
    {
     "name": "stdout",
     "output_type": "stream",
     "text": [
      "----------------------------------------\n",
      "Baseline:\n",
      "Accuracy:  0.6530944625407166\n",
      "----------------------------------------\n",
      "Logistic Regression\n",
      "Accuracy:  0.7532467532467533 \n",
      "Recall:    0.6727272727272727 \n",
      "Precision: 0.6491228070175439\n",
      "----------------------------------------\n",
      "Logistic Regression with PCA\n",
      "Accuracy:  0.7727272727272727 \n",
      "Recall:    0.6545454545454545 \n",
      "Precision: 0.6923076923076923\n",
      "----------------------------------------\n",
      "\n",
      "The Logistic Regression with PCA outperform the Logistic Regression without PCA and the baseline\n",
      "\n",
      "PCA helps reorganize the columns based on importance so the most important columns come at first and the least importance comes at the end, so PCA helps us in selecting only the columns we need for our model\n"
     ]
    }
   ],
   "source": [
    "print('--'*20)\n",
    "print('Baseline:')\n",
    "print('Accuracy: ',Baseline[0])\n",
    "print('--'*20)\n",
    "print('Logistic Regression')\n",
    "# Model Accuracy, recall, and precision\n",
    "print(\"Accuracy: \",metrics.accuracy_score(y_test, y_pred),\n",
    "      \"\\nRecall:   \",metrics.recall_score(y_test, y_pred),\n",
    "      \"\\nPrecision:\",metrics.precision_score(y_test, y_pred))\n",
    "print('--'*20)\n",
    "print('Logistic Regression with PCA')\n",
    "# Model Accuracy, recall, and precision\n",
    "print(\"Accuracy: \",metrics.accuracy_score(y_test, pca_y_pred),\n",
    "      \"\\nRecall:   \",metrics.recall_score(y_test, pca_y_pred),\n",
    "      \"\\nPrecision:\",metrics.precision_score(y_test, pca_y_pred))\n",
    "\n",
    "print('--'*20)\n",
    "print('\\nThe Logistic Regression with PCA outperform the Logistic Regression without PCA and the baseline')\n",
    "print('\\nPCA helps reorganize the columns based on importance so the most important columns come at first and the least importance comes at the end, so PCA helps us in selecting only the columns we need for our model')"
   ]
  },
  {
   "cell_type": "markdown",
   "metadata": {},
   "source": [
    "# <span style=\"color:#EF7C8E\">10. Scree Plot </span>   "
   ]
  },
  {
   "cell_type": "code",
   "execution_count": 19,
   "metadata": {},
   "outputs": [
    {
     "data": {
      "image/png": "[encoded data removed]",
      "text/plain": [
       "<Figure size 864x360 with 1 Axes>"
      ]
     },
     "metadata": {},
     "output_type": "display_data"
    }
   ],
   "source": [
    "# Instantiate & fit data using PCA\n",
    "pca = PCA()\n",
    "pca_train = pca.fit_transform(X_train_scaled)\n",
    "pca_test = pca.transform(X_test_scaled)\n",
    "\n",
    "plt.figure(figsize=(12,5))\n",
    "exp_var = pd.Series(pca.explained_variance_ratio_) \n",
    "exp_var.plot(kind=\"bar\", alpha=0.7) \n",
    "\n",
    "total = 0\n",
    "var_ls = []\n",
    "for x in exp_var:\n",
    "    total = total+x\n",
    "    var_ls.append(total)\n",
    "\n",
    "pd.Series(var_ls).plot(marker=\"p\", alpha=0.7)\n",
    "plt.xlabel(\"Principle Components\", fontsize=\"large\")\n",
    "plt.ylabel(\"Percentage Variance\", fontsize=\"large\")\n",
    "plt.title(\"Scree Plot\", fontsize=\"x-large\")\n",
    "plt.show();"
   ]
  }
 ],
 "metadata": {
  "colab": {
   "name": "02_pca_assignment.ipynb",
   "provenance": []
  },
  "kernelspec": {
   "display_name": "Python 3",
   "language": "python",
   "name": "python3"
  },
  "language_info": {
   "codemirror_mode": {
    "name": "ipython",
    "version": 3
   },
   "file_extension": ".py",
   "mimetype": "text/x-python",
   "name": "python",
   "nbconvert_exporter": "python",
   "pygments_lexer": "ipython3",
   "version": "3.8.8"
  }
 },
 "nbformat": 4,
 "nbformat_minor": 1
}
